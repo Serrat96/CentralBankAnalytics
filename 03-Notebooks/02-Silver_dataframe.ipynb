{
 "cells": [
  {
   "cell_type": "code",
   "execution_count": 16,
   "id": "e217d706-c335-4a76-b16f-09f387a4e69d",
   "metadata": {},
   "outputs": [],
   "source": [
    "import pandas as pd\n",
    "from pandas.tseries.offsets import MonthEnd\n",
    "from datetime import *\n",
    "import plotly.express as px\n",
    "import numpy as np"
   ]
  },
  {
   "cell_type": "markdown",
   "id": "cc526ff6-0247-4ab0-9b41-5afcf3bdeaa4",
   "metadata": {},
   "source": [
    "# Precio plata diario desde 1968 en EUR USD y GBP"
   ]
  },
  {
   "cell_type": "code",
   "execution_count": 2,
   "id": "7e260249-905e-4915-8e48-9b5c186dd107",
   "metadata": {},
   "outputs": [],
   "source": [
    "silver = pd.read_excel(r'..\\01-Raw_data\\02-Silver\\02-lbma_silver_am_usd-gbp-eur_1968-01-01_2021-07-22.xlsx')\n",
    "silver.rename(columns={\"DATE\": \"Date\", 'USD': 'Value'}, inplace=True)\n",
    "silver.set_index('Date', inplace=True)\n",
    "silver.index = pd.to_datetime(silver.index, format='%Y-%m-%d')"
   ]
  },
  {
   "cell_type": "code",
   "execution_count": 3,
   "id": "2f755cda-8086-48f1-ae25-168053ce7608",
   "metadata": {},
   "outputs": [
    {
     "data": {
      "text/html": [
       "<div>\n",
       "<style scoped>\n",
       "    .dataframe tbody tr th:only-of-type {\n",
       "        vertical-align: middle;\n",
       "    }\n",
       "\n",
       "    .dataframe tbody tr th {\n",
       "        vertical-align: top;\n",
       "    }\n",
       "\n",
       "    .dataframe thead th {\n",
       "        text-align: right;\n",
       "    }\n",
       "</style>\n",
       "<table border=\"1\" class=\"dataframe\">\n",
       "  <thead>\n",
       "    <tr style=\"text-align: right;\">\n",
       "      <th></th>\n",
       "      <th>Value</th>\n",
       "      <th>GBP</th>\n",
       "      <th>EUR</th>\n",
       "    </tr>\n",
       "    <tr>\n",
       "      <th>Date</th>\n",
       "      <th></th>\n",
       "      <th></th>\n",
       "      <th></th>\n",
       "    </tr>\n",
       "  </thead>\n",
       "  <tbody>\n",
       "    <tr>\n",
       "      <th>2021-07-22</th>\n",
       "      <td>25.070</td>\n",
       "      <td>18.220</td>\n",
       "      <td>21.26</td>\n",
       "    </tr>\n",
       "    <tr>\n",
       "      <th>2021-07-21</th>\n",
       "      <td>25.105</td>\n",
       "      <td>18.450</td>\n",
       "      <td>21.33</td>\n",
       "    </tr>\n",
       "    <tr>\n",
       "      <th>2021-07-20</th>\n",
       "      <td>25.095</td>\n",
       "      <td>18.430</td>\n",
       "      <td>21.30</td>\n",
       "    </tr>\n",
       "    <tr>\n",
       "      <th>2021-07-19</th>\n",
       "      <td>25.325</td>\n",
       "      <td>18.480</td>\n",
       "      <td>21.51</td>\n",
       "    </tr>\n",
       "    <tr>\n",
       "      <th>2021-07-16</th>\n",
       "      <td>26.105</td>\n",
       "      <td>18.910</td>\n",
       "      <td>22.12</td>\n",
       "    </tr>\n",
       "    <tr>\n",
       "      <th>...</th>\n",
       "      <td>...</td>\n",
       "      <td>...</td>\n",
       "      <td>...</td>\n",
       "    </tr>\n",
       "    <tr>\n",
       "      <th>1968-01-08</th>\n",
       "      <td>2.163</td>\n",
       "      <td>0.898</td>\n",
       "      <td>NaN</td>\n",
       "    </tr>\n",
       "    <tr>\n",
       "      <th>1968-01-05</th>\n",
       "      <td>2.157</td>\n",
       "      <td>0.896</td>\n",
       "      <td>NaN</td>\n",
       "    </tr>\n",
       "    <tr>\n",
       "      <th>1968-01-04</th>\n",
       "      <td>2.171</td>\n",
       "      <td>0.902</td>\n",
       "      <td>NaN</td>\n",
       "    </tr>\n",
       "    <tr>\n",
       "      <th>1968-01-03</th>\n",
       "      <td>2.225</td>\n",
       "      <td>0.925</td>\n",
       "      <td>NaN</td>\n",
       "    </tr>\n",
       "    <tr>\n",
       "      <th>1968-01-02</th>\n",
       "      <td>2.173</td>\n",
       "      <td>0.904</td>\n",
       "      <td>NaN</td>\n",
       "    </tr>\n",
       "  </tbody>\n",
       "</table>\n",
       "<p>13549 rows × 3 columns</p>\n",
       "</div>"
      ],
      "text/plain": [
       "             Value     GBP    EUR\n",
       "Date                             \n",
       "2021-07-22  25.070  18.220  21.26\n",
       "2021-07-21  25.105  18.450  21.33\n",
       "2021-07-20  25.095  18.430  21.30\n",
       "2021-07-19  25.325  18.480  21.51\n",
       "2021-07-16  26.105  18.910  22.12\n",
       "...            ...     ...    ...\n",
       "1968-01-08   2.163   0.898    NaN\n",
       "1968-01-05   2.157   0.896    NaN\n",
       "1968-01-04   2.171   0.902    NaN\n",
       "1968-01-03   2.225   0.925    NaN\n",
       "1968-01-02   2.173   0.904    NaN\n",
       "\n",
       "[13549 rows x 3 columns]"
      ]
     },
     "execution_count": 3,
     "metadata": {},
     "output_type": "execute_result"
    }
   ],
   "source": [
    "silver"
   ]
  },
  {
   "cell_type": "markdown",
   "id": "e893bce7-5dd5-4e11-8b23-6c2934e4eefb",
   "metadata": {},
   "source": [
    "### Se guarda este dataframe como pickle de los precios de la plata desde 1968"
   ]
  },
  {
   "cell_type": "code",
   "execution_count": 6,
   "id": "5850a403-207a-45b8-bc0a-1bcae75c6f7d",
   "metadata": {},
   "outputs": [],
   "source": [
    "silver.to_pickle(r'..\\02-Data\\02-Silver\\01_Silver_USD-GBP-EUR_1968-01-02_2021-07-22_daily_lbma.pkl')"
   ]
  },
  {
   "cell_type": "markdown",
   "id": "843ec947-0989-45a7-8117-91fc5419a1db",
   "metadata": {},
   "source": [
    "# Precio plata anual desde 1791 a 2020 en USD"
   ]
  },
  {
   "cell_type": "code",
   "execution_count": 11,
   "id": "3a9fe85f-4864-47a3-9932-1cc4a43b0651",
   "metadata": {},
   "outputs": [],
   "source": [
    "silver_prev = pd.read_csv(r'..\\01-Raw_data\\02-Silver\\01-silver_price_1791_2020_yearly_denvergold.csv')"
   ]
  },
  {
   "cell_type": "code",
   "execution_count": 12,
   "id": "c9e43491-c80c-4fbe-ae1f-e1ee9156d3a0",
   "metadata": {},
   "outputs": [
    {
     "name": "stderr",
     "output_type": "stream",
     "text": [
      "<ipython-input-12-2f5381640548>:5: FutureWarning: The pandas.datetime class is deprecated and will be removed from pandas in a future version. Import from datetime module instead.\n",
      "  silver_prev.index = silver_prev.index.map(lambda x: pd.datetime(x.year, 12, x.day))\n"
     ]
    }
   ],
   "source": [
    "silver_prev = silver_prev[['Year', 'Nominal ounce closing price USD']]\n",
    "silver_prev.rename(columns={\"Year\": \"Date\", 'Nominal ounce closing price USD': 'Value'}, inplace=True)\n",
    "silver_prev.set_index('Date', inplace=True)\n",
    "silver_prev.index = pd.to_datetime(silver_prev.index, format='%Y') + MonthEnd(1)\n",
    "silver_prev.index = silver_prev.index.map(lambda x: pd.datetime(x.year, 12, x.day))"
   ]
  },
  {
   "cell_type": "code",
   "execution_count": 13,
   "id": "67a05ea2-5866-4c3d-8eaf-2a73ff47d1bf",
   "metadata": {},
   "outputs": [
    {
     "data": {
      "text/html": [
       "<div>\n",
       "<style scoped>\n",
       "    .dataframe tbody tr th:only-of-type {\n",
       "        vertical-align: middle;\n",
       "    }\n",
       "\n",
       "    .dataframe tbody tr th {\n",
       "        vertical-align: top;\n",
       "    }\n",
       "\n",
       "    .dataframe thead th {\n",
       "        text-align: right;\n",
       "    }\n",
       "</style>\n",
       "<table border=\"1\" class=\"dataframe\">\n",
       "  <thead>\n",
       "    <tr style=\"text-align: right;\">\n",
       "      <th></th>\n",
       "      <th>Value</th>\n",
       "    </tr>\n",
       "    <tr>\n",
       "      <th>Date</th>\n",
       "      <th></th>\n",
       "    </tr>\n",
       "  </thead>\n",
       "  <tbody>\n",
       "    <tr>\n",
       "      <th>1791-12-31</th>\n",
       "      <td>1.290000</td>\n",
       "    </tr>\n",
       "    <tr>\n",
       "      <th>1792-12-31</th>\n",
       "      <td>1.280000</td>\n",
       "    </tr>\n",
       "    <tr>\n",
       "      <th>1793-12-31</th>\n",
       "      <td>1.290000</td>\n",
       "    </tr>\n",
       "    <tr>\n",
       "      <th>1794-12-31</th>\n",
       "      <td>1.260000</td>\n",
       "    </tr>\n",
       "    <tr>\n",
       "      <th>1795-12-31</th>\n",
       "      <td>1.250000</td>\n",
       "    </tr>\n",
       "    <tr>\n",
       "      <th>...</th>\n",
       "      <td>...</td>\n",
       "    </tr>\n",
       "    <tr>\n",
       "      <th>2016-12-31</th>\n",
       "      <td>17.104235</td>\n",
       "    </tr>\n",
       "    <tr>\n",
       "      <th>2017-12-31</th>\n",
       "      <td>17.078580</td>\n",
       "    </tr>\n",
       "    <tr>\n",
       "      <th>2018-12-31</th>\n",
       "      <td>15.705742</td>\n",
       "    </tr>\n",
       "    <tr>\n",
       "      <th>2019-12-31</th>\n",
       "      <td>16.200110</td>\n",
       "    </tr>\n",
       "    <tr>\n",
       "      <th>2020-12-31</th>\n",
       "      <td>20.526932</td>\n",
       "    </tr>\n",
       "  </tbody>\n",
       "</table>\n",
       "<p>230 rows × 1 columns</p>\n",
       "</div>"
      ],
      "text/plain": [
       "                Value\n",
       "Date                 \n",
       "1791-12-31   1.290000\n",
       "1792-12-31   1.280000\n",
       "1793-12-31   1.290000\n",
       "1794-12-31   1.260000\n",
       "1795-12-31   1.250000\n",
       "...               ...\n",
       "2016-12-31  17.104235\n",
       "2017-12-31  17.078580\n",
       "2018-12-31  15.705742\n",
       "2019-12-31  16.200110\n",
       "2020-12-31  20.526932\n",
       "\n",
       "[230 rows x 1 columns]"
      ]
     },
     "execution_count": 13,
     "metadata": {},
     "output_type": "execute_result"
    }
   ],
   "source": [
    "silver_prev"
   ]
  },
  {
   "cell_type": "markdown",
   "id": "17dae93d-0eb8-47b0-b9d7-e1ca4f0d31cb",
   "metadata": {},
   "source": [
    "### Se guarda este dataframe como pickle de los precios anules de la plata desde 1791 en USD"
   ]
  },
  {
   "cell_type": "code",
   "execution_count": 16,
   "id": "af3dd369-11fd-4daf-b082-39383548b58e",
   "metadata": {},
   "outputs": [],
   "source": [
    "silver_prev.to_pickle(r'..\\02-Data\\02-Silver\\02_Silver_USD_1791-12-31_2020-12-31_yearly_denvergold.pkl')"
   ]
  },
  {
   "cell_type": "markdown",
   "id": "1fa8ad3f-f547-44a4-bbc0-594a5dba41ec",
   "metadata": {},
   "source": [
    "# Elaboración dataset completo plata"
   ]
  },
  {
   "cell_type": "markdown",
   "id": "70894b76-46b3-41c8-91a4-c826fe4a264e",
   "metadata": {},
   "source": [
    "## Lectura datasets"
   ]
  },
  {
   "cell_type": "code",
   "execution_count": 47,
   "id": "90564c99-756e-436e-bcfe-eaa9a6bb9450",
   "metadata": {},
   "outputs": [],
   "source": [
    "silver = pd.read_pickle(r'..\\02-Data\\02-Silver\\01_Silver_USD-GBP-EUR_1968-01-02_2021-07-22_daily_lbma.pkl')\n",
    "silver_prev = pd.read_pickle(r'..\\02-Data\\02-Silver\\02_Silver_USD_1791-12-31_2020-12-31_yearly_denvergold.pkl')"
   ]
  },
  {
   "cell_type": "markdown",
   "id": "7192f8b3-7b7f-4e9d-8a48-7fc06c826e0a",
   "metadata": {},
   "source": [
    "### Filtrado dataset silver"
   ]
  },
  {
   "cell_type": "code",
   "execution_count": 48,
   "id": "eb328ea4-1526-4b48-b50e-f010615e78e4",
   "metadata": {},
   "outputs": [],
   "source": [
    "silver = silver.drop(['GBP', 'EUR'], axis=1).dropna()\n",
    "mask_2 = (silver.index >= datetime.strptime('1968-04-01', '%Y-%m-%d'))\n",
    "silver = silver.loc[mask_2]"
   ]
  },
  {
   "cell_type": "code",
   "execution_count": 49,
   "id": "d198d8fd-8a92-4265-b7d9-9b1823aef4f9",
   "metadata": {},
   "outputs": [
    {
     "data": {
      "text/html": [
       "<div>\n",
       "<style scoped>\n",
       "    .dataframe tbody tr th:only-of-type {\n",
       "        vertical-align: middle;\n",
       "    }\n",
       "\n",
       "    .dataframe tbody tr th {\n",
       "        vertical-align: top;\n",
       "    }\n",
       "\n",
       "    .dataframe thead th {\n",
       "        text-align: right;\n",
       "    }\n",
       "</style>\n",
       "<table border=\"1\" class=\"dataframe\">\n",
       "  <thead>\n",
       "    <tr style=\"text-align: right;\">\n",
       "      <th></th>\n",
       "      <th>Value</th>\n",
       "    </tr>\n",
       "    <tr>\n",
       "      <th>Date</th>\n",
       "      <th></th>\n",
       "    </tr>\n",
       "  </thead>\n",
       "  <tbody>\n",
       "    <tr>\n",
       "      <th>2021-07-22</th>\n",
       "      <td>25.070</td>\n",
       "    </tr>\n",
       "    <tr>\n",
       "      <th>2021-07-21</th>\n",
       "      <td>25.105</td>\n",
       "    </tr>\n",
       "    <tr>\n",
       "      <th>2021-07-20</th>\n",
       "      <td>25.095</td>\n",
       "    </tr>\n",
       "    <tr>\n",
       "      <th>2021-07-19</th>\n",
       "      <td>25.325</td>\n",
       "    </tr>\n",
       "    <tr>\n",
       "      <th>2021-07-16</th>\n",
       "      <td>26.105</td>\n",
       "    </tr>\n",
       "    <tr>\n",
       "      <th>...</th>\n",
       "      <td>...</td>\n",
       "    </tr>\n",
       "    <tr>\n",
       "      <th>1968-04-05</th>\n",
       "      <td>2.104</td>\n",
       "    </tr>\n",
       "    <tr>\n",
       "      <th>1968-04-04</th>\n",
       "      <td>2.125</td>\n",
       "    </tr>\n",
       "    <tr>\n",
       "      <th>1968-04-03</th>\n",
       "      <td>2.195</td>\n",
       "    </tr>\n",
       "    <tr>\n",
       "      <th>1968-04-02</th>\n",
       "      <td>2.202</td>\n",
       "    </tr>\n",
       "    <tr>\n",
       "      <th>1968-04-01</th>\n",
       "      <td>2.259</td>\n",
       "    </tr>\n",
       "  </tbody>\n",
       "</table>\n",
       "<p>13465 rows × 1 columns</p>\n",
       "</div>"
      ],
      "text/plain": [
       "             Value\n",
       "Date              \n",
       "2021-07-22  25.070\n",
       "2021-07-21  25.105\n",
       "2021-07-20  25.095\n",
       "2021-07-19  25.325\n",
       "2021-07-16  26.105\n",
       "...            ...\n",
       "1968-04-05   2.104\n",
       "1968-04-04   2.125\n",
       "1968-04-03   2.195\n",
       "1968-04-02   2.202\n",
       "1968-04-01   2.259\n",
       "\n",
       "[13465 rows x 1 columns]"
      ]
     },
     "execution_count": 49,
     "metadata": {},
     "output_type": "execute_result"
    }
   ],
   "source": [
    "silver"
   ]
  },
  {
   "cell_type": "markdown",
   "id": "f4d4723c-86ba-4c67-93ad-877ec5dbb9c2",
   "metadata": {},
   "source": [
    "### Filtrado dataset silver_prev"
   ]
  },
  {
   "cell_type": "code",
   "execution_count": 29,
   "id": "5b078bab-20e7-43dd-94b5-b4bfbffc265a",
   "metadata": {},
   "outputs": [],
   "source": [
    "mask = (silver_prev.index < datetime.strptime('1968-04-01', '%Y-%m-%d'))\n",
    "silver_prev = silver_prev.loc[mask]"
   ]
  },
  {
   "cell_type": "code",
   "execution_count": 30,
   "id": "f9d9a68e-cfde-4a6b-9c8a-e15eeb98b97b",
   "metadata": {},
   "outputs": [
    {
     "data": {
      "text/html": [
       "<div>\n",
       "<style scoped>\n",
       "    .dataframe tbody tr th:only-of-type {\n",
       "        vertical-align: middle;\n",
       "    }\n",
       "\n",
       "    .dataframe tbody tr th {\n",
       "        vertical-align: top;\n",
       "    }\n",
       "\n",
       "    .dataframe thead th {\n",
       "        text-align: right;\n",
       "    }\n",
       "</style>\n",
       "<table border=\"1\" class=\"dataframe\">\n",
       "  <thead>\n",
       "    <tr style=\"text-align: right;\">\n",
       "      <th></th>\n",
       "      <th>Value</th>\n",
       "    </tr>\n",
       "    <tr>\n",
       "      <th>Date</th>\n",
       "      <th></th>\n",
       "    </tr>\n",
       "  </thead>\n",
       "  <tbody>\n",
       "    <tr>\n",
       "      <th>1791-12-31</th>\n",
       "      <td>1.29</td>\n",
       "    </tr>\n",
       "    <tr>\n",
       "      <th>1792-12-31</th>\n",
       "      <td>1.28</td>\n",
       "    </tr>\n",
       "    <tr>\n",
       "      <th>1793-12-31</th>\n",
       "      <td>1.29</td>\n",
       "    </tr>\n",
       "    <tr>\n",
       "      <th>1794-12-31</th>\n",
       "      <td>1.26</td>\n",
       "    </tr>\n",
       "    <tr>\n",
       "      <th>1795-12-31</th>\n",
       "      <td>1.25</td>\n",
       "    </tr>\n",
       "    <tr>\n",
       "      <th>...</th>\n",
       "      <td>...</td>\n",
       "    </tr>\n",
       "    <tr>\n",
       "      <th>1963-12-31</th>\n",
       "      <td>1.28</td>\n",
       "    </tr>\n",
       "    <tr>\n",
       "      <th>1964-12-31</th>\n",
       "      <td>1.29</td>\n",
       "    </tr>\n",
       "    <tr>\n",
       "      <th>1965-12-31</th>\n",
       "      <td>1.29</td>\n",
       "    </tr>\n",
       "    <tr>\n",
       "      <th>1966-12-31</th>\n",
       "      <td>1.29</td>\n",
       "    </tr>\n",
       "    <tr>\n",
       "      <th>1967-12-31</th>\n",
       "      <td>1.55</td>\n",
       "    </tr>\n",
       "  </tbody>\n",
       "</table>\n",
       "<p>177 rows × 1 columns</p>\n",
       "</div>"
      ],
      "text/plain": [
       "            Value\n",
       "Date             \n",
       "1791-12-31   1.29\n",
       "1792-12-31   1.28\n",
       "1793-12-31   1.29\n",
       "1794-12-31   1.26\n",
       "1795-12-31   1.25\n",
       "...           ...\n",
       "1963-12-31   1.28\n",
       "1964-12-31   1.29\n",
       "1965-12-31   1.29\n",
       "1966-12-31   1.29\n",
       "1967-12-31   1.55\n",
       "\n",
       "[177 rows x 1 columns]"
      ]
     },
     "execution_count": 30,
     "metadata": {},
     "output_type": "execute_result"
    }
   ],
   "source": [
    "silver_prev"
   ]
  },
  {
   "cell_type": "markdown",
   "id": "89444dbe-76a5-4c41-936b-7389e2f95c7d",
   "metadata": {},
   "source": [
    "# Se juntan los dataframes filtrados"
   ]
  },
  {
   "cell_type": "code",
   "execution_count": 31,
   "id": "2f3bd247-0750-4cd9-9300-72291b6360a3",
   "metadata": {},
   "outputs": [],
   "source": [
    "silver_def = silver.append(silver_prev).sort_index().reset_index().set_index('Date')"
   ]
  },
  {
   "cell_type": "code",
   "execution_count": 32,
   "id": "60621ec8-c7cd-4caa-b57a-ea3e5bbfac2e",
   "metadata": {},
   "outputs": [
    {
     "data": {
      "text/html": [
       "<div>\n",
       "<style scoped>\n",
       "    .dataframe tbody tr th:only-of-type {\n",
       "        vertical-align: middle;\n",
       "    }\n",
       "\n",
       "    .dataframe tbody tr th {\n",
       "        vertical-align: top;\n",
       "    }\n",
       "\n",
       "    .dataframe thead th {\n",
       "        text-align: right;\n",
       "    }\n",
       "</style>\n",
       "<table border=\"1\" class=\"dataframe\">\n",
       "  <thead>\n",
       "    <tr style=\"text-align: right;\">\n",
       "      <th></th>\n",
       "      <th>Value</th>\n",
       "    </tr>\n",
       "    <tr>\n",
       "      <th>Date</th>\n",
       "      <th></th>\n",
       "    </tr>\n",
       "  </thead>\n",
       "  <tbody>\n",
       "    <tr>\n",
       "      <th>1791-12-31</th>\n",
       "      <td>1.290</td>\n",
       "    </tr>\n",
       "    <tr>\n",
       "      <th>1792-12-31</th>\n",
       "      <td>1.280</td>\n",
       "    </tr>\n",
       "    <tr>\n",
       "      <th>1793-12-31</th>\n",
       "      <td>1.290</td>\n",
       "    </tr>\n",
       "    <tr>\n",
       "      <th>1794-12-31</th>\n",
       "      <td>1.260</td>\n",
       "    </tr>\n",
       "    <tr>\n",
       "      <th>1795-12-31</th>\n",
       "      <td>1.250</td>\n",
       "    </tr>\n",
       "    <tr>\n",
       "      <th>...</th>\n",
       "      <td>...</td>\n",
       "    </tr>\n",
       "    <tr>\n",
       "      <th>2021-07-16</th>\n",
       "      <td>26.105</td>\n",
       "    </tr>\n",
       "    <tr>\n",
       "      <th>2021-07-19</th>\n",
       "      <td>25.325</td>\n",
       "    </tr>\n",
       "    <tr>\n",
       "      <th>2021-07-20</th>\n",
       "      <td>25.095</td>\n",
       "    </tr>\n",
       "    <tr>\n",
       "      <th>2021-07-21</th>\n",
       "      <td>25.105</td>\n",
       "    </tr>\n",
       "    <tr>\n",
       "      <th>2021-07-22</th>\n",
       "      <td>25.070</td>\n",
       "    </tr>\n",
       "  </tbody>\n",
       "</table>\n",
       "<p>13705 rows × 1 columns</p>\n",
       "</div>"
      ],
      "text/plain": [
       "             Value\n",
       "Date              \n",
       "1791-12-31   1.290\n",
       "1792-12-31   1.280\n",
       "1793-12-31   1.290\n",
       "1794-12-31   1.260\n",
       "1795-12-31   1.250\n",
       "...            ...\n",
       "2021-07-16  26.105\n",
       "2021-07-19  25.325\n",
       "2021-07-20  25.095\n",
       "2021-07-21  25.105\n",
       "2021-07-22  25.070\n",
       "\n",
       "[13705 rows x 1 columns]"
      ]
     },
     "execution_count": 32,
     "metadata": {},
     "output_type": "execute_result"
    }
   ],
   "source": [
    "silver_def"
   ]
  },
  {
   "cell_type": "code",
   "execution_count": 33,
   "id": "c6849bbd-13d4-42b8-86db-815537b783dc",
   "metadata": {},
   "outputs": [],
   "source": [
    "silver_def.to_pickle(r'..\\02-Data\\02-Silver\\03_Silver_USD_1791-12-31_2020-07-22_mix.pkl')"
   ]
  },
  {
   "cell_type": "markdown",
   "id": "09084220-b189-49f9-bff5-e9f78dbd8a9a",
   "metadata": {},
   "source": [
    "## Escala logarítmica plata valor nominal"
   ]
  },
  {
   "cell_type": "code",
   "execution_count": 4,
   "id": "50df2baf-7c21-45ea-9c5c-8e7658862bbc",
   "metadata": {},
   "outputs": [],
   "source": [
    "silver_log = pd.read_pickle(r'..\\02-Data\\02-Silver\\02_Silver_USD_1791-12-31_2020-12-31_yearly_denvergold.pkl')"
   ]
  },
  {
   "cell_type": "code",
   "execution_count": 18,
   "id": "e8d1f79b-878a-40a5-96d8-5dc7b0699a3b",
   "metadata": {},
   "outputs": [
    {
     "data": {
      "text/html": [
       "<div>\n",
       "<style scoped>\n",
       "    .dataframe tbody tr th:only-of-type {\n",
       "        vertical-align: middle;\n",
       "    }\n",
       "\n",
       "    .dataframe tbody tr th {\n",
       "        vertical-align: top;\n",
       "    }\n",
       "\n",
       "    .dataframe thead th {\n",
       "        text-align: right;\n",
       "    }\n",
       "</style>\n",
       "<table border=\"1\" class=\"dataframe\">\n",
       "  <thead>\n",
       "    <tr style=\"text-align: right;\">\n",
       "      <th></th>\n",
       "      <th>Value</th>\n",
       "    </tr>\n",
       "    <tr>\n",
       "      <th>Date</th>\n",
       "      <th></th>\n",
       "    </tr>\n",
       "  </thead>\n",
       "  <tbody>\n",
       "    <tr>\n",
       "      <th>1791-12-31</th>\n",
       "      <td>0.254642</td>\n",
       "    </tr>\n",
       "    <tr>\n",
       "      <th>1792-12-31</th>\n",
       "      <td>0.246860</td>\n",
       "    </tr>\n",
       "    <tr>\n",
       "      <th>1793-12-31</th>\n",
       "      <td>0.254642</td>\n",
       "    </tr>\n",
       "    <tr>\n",
       "      <th>1794-12-31</th>\n",
       "      <td>0.231112</td>\n",
       "    </tr>\n",
       "    <tr>\n",
       "      <th>1795-12-31</th>\n",
       "      <td>0.223144</td>\n",
       "    </tr>\n",
       "    <tr>\n",
       "      <th>...</th>\n",
       "      <td>...</td>\n",
       "    </tr>\n",
       "    <tr>\n",
       "      <th>2016-12-31</th>\n",
       "      <td>2.839326</td>\n",
       "    </tr>\n",
       "    <tr>\n",
       "      <th>2017-12-31</th>\n",
       "      <td>2.837825</td>\n",
       "    </tr>\n",
       "    <tr>\n",
       "      <th>2018-12-31</th>\n",
       "      <td>2.754026</td>\n",
       "    </tr>\n",
       "    <tr>\n",
       "      <th>2019-12-31</th>\n",
       "      <td>2.785018</td>\n",
       "    </tr>\n",
       "    <tr>\n",
       "      <th>2020-12-31</th>\n",
       "      <td>3.021738</td>\n",
       "    </tr>\n",
       "  </tbody>\n",
       "</table>\n",
       "<p>230 rows × 1 columns</p>\n",
       "</div>"
      ],
      "text/plain": [
       "               Value\n",
       "Date                \n",
       "1791-12-31  0.254642\n",
       "1792-12-31  0.246860\n",
       "1793-12-31  0.254642\n",
       "1794-12-31  0.231112\n",
       "1795-12-31  0.223144\n",
       "...              ...\n",
       "2016-12-31  2.839326\n",
       "2017-12-31  2.837825\n",
       "2018-12-31  2.754026\n",
       "2019-12-31  2.785018\n",
       "2020-12-31  3.021738\n",
       "\n",
       "[230 rows x 1 columns]"
      ]
     },
     "execution_count": 18,
     "metadata": {},
     "output_type": "execute_result"
    }
   ],
   "source": [
    "silver_log.apply(lambda x: np.log(x))"
   ]
  },
  {
   "cell_type": "code",
   "execution_count": 19,
   "id": "646d3f41-c2d7-4139-a779-7adb235c9125",
   "metadata": {},
   "outputs": [
    {
     "data": {
      "application/vnd.plotly.v1+json": {
       "config": {
        "plotlyServerURL": "https://plot.ly"
       },
       "data": [
        {
         "hovertemplate": "variable=Value<br>Date=%{x}<br>value=%{y}<extra></extra>",
         "legendgroup": "Value",
         "line": {
          "color": "#636efa",
          "dash": "solid"
         },
         "mode": "lines",
         "name": "Value",
         "orientation": "v",
         "showlegend": true,
         "type": "scatter",
         "x": [
          "1791-12-31T00:00:00",
          "1792-12-31T00:00:00",
          "1793-12-31T00:00:00",
          "1794-12-31T00:00:00",
          "1795-12-31T00:00:00",
          "1796-12-31T00:00:00",
          "1797-12-31T00:00:00",
          "1798-12-31T00:00:00",
          "1799-12-31T00:00:00",
          "1800-12-31T00:00:00",
          "1801-12-31T00:00:00",
          "1802-12-31T00:00:00",
          "1803-12-31T00:00:00",
          "1804-12-31T00:00:00",
          "1805-12-31T00:00:00",
          "1806-12-31T00:00:00",
          "1807-12-31T00:00:00",
          "1808-12-31T00:00:00",
          "1809-12-31T00:00:00",
          "1810-12-31T00:00:00",
          "1811-12-31T00:00:00",
          "1812-12-31T00:00:00",
          "1813-12-31T00:00:00",
          "1814-12-31T00:00:00",
          "1815-12-31T00:00:00",
          "1816-12-31T00:00:00",
          "1817-12-31T00:00:00",
          "1818-12-31T00:00:00",
          "1819-12-31T00:00:00",
          "1820-12-31T00:00:00",
          "1821-12-31T00:00:00",
          "1822-12-31T00:00:00",
          "1823-12-31T00:00:00",
          "1824-12-31T00:00:00",
          "1825-12-31T00:00:00",
          "1826-12-31T00:00:00",
          "1827-12-31T00:00:00",
          "1828-12-31T00:00:00",
          "1829-12-31T00:00:00",
          "1830-12-31T00:00:00",
          "1831-12-31T00:00:00",
          "1832-12-31T00:00:00",
          "1833-12-31T00:00:00",
          "1834-12-31T00:00:00",
          "1835-12-31T00:00:00",
          "1836-12-31T00:00:00",
          "1837-12-31T00:00:00",
          "1838-12-31T00:00:00",
          "1839-12-31T00:00:00",
          "1840-12-31T00:00:00",
          "1841-12-31T00:00:00",
          "1842-12-31T00:00:00",
          "1843-12-31T00:00:00",
          "1844-12-31T00:00:00",
          "1845-12-31T00:00:00",
          "1846-12-31T00:00:00",
          "1847-12-31T00:00:00",
          "1848-12-31T00:00:00",
          "1849-12-31T00:00:00",
          "1850-12-31T00:00:00",
          "1851-12-31T00:00:00",
          "1852-12-31T00:00:00",
          "1853-12-31T00:00:00",
          "1854-12-31T00:00:00",
          "1855-12-31T00:00:00",
          "1856-12-31T00:00:00",
          "1857-12-31T00:00:00",
          "1858-12-31T00:00:00",
          "1859-12-31T00:00:00",
          "1860-12-31T00:00:00",
          "1861-12-31T00:00:00",
          "1862-12-31T00:00:00",
          "1863-12-31T00:00:00",
          "1864-12-31T00:00:00",
          "1865-12-31T00:00:00",
          "1866-12-31T00:00:00",
          "1867-12-31T00:00:00",
          "1868-12-31T00:00:00",
          "1869-12-31T00:00:00",
          "1870-12-31T00:00:00",
          "1871-12-31T00:00:00",
          "1872-12-31T00:00:00",
          "1873-12-31T00:00:00",
          "1874-12-31T00:00:00",
          "1875-12-31T00:00:00",
          "1876-12-31T00:00:00",
          "1877-12-31T00:00:00",
          "1878-12-31T00:00:00",
          "1879-12-31T00:00:00",
          "1880-12-31T00:00:00",
          "1881-12-31T00:00:00",
          "1882-12-31T00:00:00",
          "1883-12-31T00:00:00",
          "1884-12-31T00:00:00",
          "1885-12-31T00:00:00",
          "1886-12-31T00:00:00",
          "1887-12-31T00:00:00",
          "1888-12-31T00:00:00",
          "1889-12-31T00:00:00",
          "1890-12-31T00:00:00",
          "1891-12-31T00:00:00",
          "1892-12-31T00:00:00",
          "1893-12-31T00:00:00",
          "1894-12-31T00:00:00",
          "1895-12-31T00:00:00",
          "1896-12-31T00:00:00",
          "1897-12-31T00:00:00",
          "1898-12-31T00:00:00",
          "1899-12-31T00:00:00",
          "1900-12-31T00:00:00",
          "1901-12-31T00:00:00",
          "1902-12-31T00:00:00",
          "1903-12-31T00:00:00",
          "1904-12-31T00:00:00",
          "1905-12-31T00:00:00",
          "1906-12-31T00:00:00",
          "1907-12-31T00:00:00",
          "1908-12-31T00:00:00",
          "1909-12-31T00:00:00",
          "1910-12-31T00:00:00",
          "1911-12-31T00:00:00",
          "1912-12-31T00:00:00",
          "1913-12-31T00:00:00",
          "1914-12-31T00:00:00",
          "1915-12-31T00:00:00",
          "1916-12-31T00:00:00",
          "1917-12-31T00:00:00",
          "1918-12-31T00:00:00",
          "1919-12-31T00:00:00",
          "1920-12-31T00:00:00",
          "1921-12-31T00:00:00",
          "1922-12-31T00:00:00",
          "1923-12-31T00:00:00",
          "1924-12-31T00:00:00",
          "1925-12-31T00:00:00",
          "1926-12-31T00:00:00",
          "1927-12-31T00:00:00",
          "1928-12-31T00:00:00",
          "1929-12-31T00:00:00",
          "1930-12-31T00:00:00",
          "1931-12-31T00:00:00",
          "1932-12-31T00:00:00",
          "1933-12-31T00:00:00",
          "1934-12-31T00:00:00",
          "1935-12-31T00:00:00",
          "1936-12-31T00:00:00",
          "1937-12-31T00:00:00",
          "1938-12-31T00:00:00",
          "1939-12-31T00:00:00",
          "1940-12-31T00:00:00",
          "1941-12-31T00:00:00",
          "1942-12-31T00:00:00",
          "1943-12-31T00:00:00",
          "1944-12-31T00:00:00",
          "1945-12-31T00:00:00",
          "1946-12-31T00:00:00",
          "1947-12-31T00:00:00",
          "1948-12-31T00:00:00",
          "1949-12-31T00:00:00",
          "1950-12-31T00:00:00",
          "1951-12-31T00:00:00",
          "1952-12-31T00:00:00",
          "1953-12-31T00:00:00",
          "1954-12-31T00:00:00",
          "1955-12-31T00:00:00",
          "1956-12-31T00:00:00",
          "1957-12-31T00:00:00",
          "1958-12-31T00:00:00",
          "1959-12-31T00:00:00",
          "1960-12-31T00:00:00",
          "1961-12-31T00:00:00",
          "1962-12-31T00:00:00",
          "1963-12-31T00:00:00",
          "1964-12-31T00:00:00",
          "1965-12-31T00:00:00",
          "1966-12-31T00:00:00",
          "1967-12-31T00:00:00",
          "1968-12-31T00:00:00",
          "1969-12-31T00:00:00",
          "1970-12-31T00:00:00",
          "1971-12-31T00:00:00",
          "1972-12-31T00:00:00",
          "1973-12-31T00:00:00",
          "1974-12-31T00:00:00",
          "1975-12-31T00:00:00",
          "1976-12-31T00:00:00",
          "1977-12-31T00:00:00",
          "1978-12-31T00:00:00",
          "1979-12-31T00:00:00",
          "1980-12-31T00:00:00",
          "1981-12-31T00:00:00",
          "1982-12-31T00:00:00",
          "1983-12-31T00:00:00",
          "1984-12-31T00:00:00",
          "1985-12-31T00:00:00",
          "1986-12-31T00:00:00",
          "1987-12-31T00:00:00",
          "1988-12-31T00:00:00",
          "1989-12-31T00:00:00",
          "1990-12-31T00:00:00",
          "1991-12-31T00:00:00",
          "1992-12-31T00:00:00",
          "1993-12-31T00:00:00",
          "1994-12-31T00:00:00",
          "1995-12-31T00:00:00",
          "1996-12-31T00:00:00",
          "1997-12-31T00:00:00",
          "1998-12-31T00:00:00",
          "1999-12-31T00:00:00",
          "2000-12-31T00:00:00",
          "2001-12-31T00:00:00",
          "2002-12-31T00:00:00",
          "2003-12-31T00:00:00",
          "2004-12-31T00:00:00",
          "2005-12-31T00:00:00",
          "2006-12-31T00:00:00",
          "2007-12-31T00:00:00",
          "2008-12-31T00:00:00",
          "2009-12-31T00:00:00",
          "2010-12-31T00:00:00",
          "2011-12-31T00:00:00",
          "2012-12-31T00:00:00",
          "2013-12-31T00:00:00",
          "2014-12-31T00:00:00",
          "2015-12-31T00:00:00",
          "2016-12-31T00:00:00",
          "2017-12-31T00:00:00",
          "2018-12-31T00:00:00",
          "2019-12-31T00:00:00",
          "2020-12-31T00:00:00"
         ],
         "xaxis": "x",
         "y": [
          1.29,
          1.28,
          1.29,
          1.26,
          1.25,
          1.24,
          1.26,
          1.24,
          1.23,
          1.24,
          1.25,
          1.27,
          1.26,
          1.26,
          1.23,
          1.25,
          1.26,
          1.21,
          1.21,
          1.23,
          1.25,
          1.2,
          1.19,
          1.34,
          1.42,
          1.37,
          1.29,
          1.26,
          1.26,
          1.24,
          1.22,
          1.23,
          1.22,
          1.23,
          1.24,
          1.23,
          1.23,
          1.23,
          1.23,
          1.23,
          1.23,
          1.23,
          1.22,
          1.27,
          1.31,
          1.32,
          1.37,
          1.32,
          1.32,
          1.32,
          1.32,
          1.3,
          1.3,
          1.3,
          1.3,
          1.3,
          1.31,
          1.3,
          1.31,
          1.32,
          1.34,
          1.33,
          1.35,
          1.35,
          1.34,
          1.34,
          1.36,
          1.34,
          1.36,
          1.35,
          1.33,
          1.53,
          1.95,
          2.73,
          2.11,
          1.89,
          1.83,
          1.85,
          1.76,
          1.53,
          1.48,
          1.49,
          1.48,
          1.42,
          1.43,
          1.3,
          1.26,
          1.16,
          1.12,
          1.15,
          1.13,
          1.14,
          1.11,
          1.11,
          1.06,
          0.99,
          0.98,
          0.94,
          0.94,
          1.05,
          0.99,
          0.87,
          0.78,
          0.63,
          0.65,
          0.68,
          0.6,
          0.59,
          0.6,
          0.62,
          0.6,
          0.53,
          0.54,
          0.58,
          0.61,
          0.68,
          0.66,
          0.53,
          0.52,
          0.54,
          0.54,
          0.61,
          0.6,
          0.55,
          0.51,
          0.67,
          0.84,
          0.98,
          1.12,
          1.02,
          0.63,
          0.68,
          0.65,
          0.67,
          0.69,
          0.62,
          0.57,
          0.58,
          0.53,
          0.38,
          0.29,
          0.28,
          0.35,
          0.48,
          0.65,
          0.45,
          0.45,
          0.44,
          0.39,
          0.35,
          0.35,
          0.39,
          0.45,
          0.45,
          0.52,
          0.8,
          0.72,
          0.74,
          0.72,
          0.74,
          0.89,
          0.85,
          0.85,
          0.85,
          0.89,
          0.91,
          0.91,
          0.89,
          0.91,
          0.91,
          0.93,
          1.09,
          1.28,
          1.29,
          1.29,
          1.29,
          1.55,
          2.189043825,
          1.799448819,
          1.765764706,
          1.536774194,
          1.676507937,
          2.546,
          4.671614173,
          4.425551181,
          4.35345098,
          4.635119048,
          5.42202381,
          11.06790514,
          20.98346457,
          10.48689243,
          7.921825397,
          11.42003953,
          8.141513944,
          6.131857708,
          5.464703557,
          7.015515873,
          6.532450593,
          5.499920635,
          4.831541502,
          4.056442688,
          3.946614173,
          4.312885375,
          5.285277778,
          5.197063492,
          5.199566929,
          4.896837945,
          5.539525692,
          5.219047619,
          4.95250996,
          4.369960474,
          4.599246032,
          4.878498024,
          6.658110236,
          7.311626984,
          11.54928571,
          13.38367589,
          14.98905512,
          14.67426877,
          20.19284585,
          35.11920319,
          31.14972222,
          23.80984127,
          18.79723183,
          15.72021978,
          17.10423497,
          17.07857988,
          15.70574176,
          16.20011019,
          20.52693151
         ],
         "yaxis": "y"
        }
       ],
       "layout": {
        "autosize": true,
        "legend": {
         "title": {
          "text": "variable"
         },
         "tracegroupgap": 0
        },
        "margin": {
         "t": 60
        },
        "template": {
         "data": {
          "bar": [
           {
            "error_x": {
             "color": "#2a3f5f"
            },
            "error_y": {
             "color": "#2a3f5f"
            },
            "marker": {
             "line": {
              "color": "#E5ECF6",
              "width": 0.5
             }
            },
            "type": "bar"
           }
          ],
          "barpolar": [
           {
            "marker": {
             "line": {
              "color": "#E5ECF6",
              "width": 0.5
             }
            },
            "type": "barpolar"
           }
          ],
          "carpet": [
           {
            "aaxis": {
             "endlinecolor": "#2a3f5f",
             "gridcolor": "white",
             "linecolor": "white",
             "minorgridcolor": "white",
             "startlinecolor": "#2a3f5f"
            },
            "baxis": {
             "endlinecolor": "#2a3f5f",
             "gridcolor": "white",
             "linecolor": "white",
             "minorgridcolor": "white",
             "startlinecolor": "#2a3f5f"
            },
            "type": "carpet"
           }
          ],
          "choropleth": [
           {
            "colorbar": {
             "outlinewidth": 0,
             "ticks": ""
            },
            "type": "choropleth"
           }
          ],
          "contour": [
           {
            "colorbar": {
             "outlinewidth": 0,
             "ticks": ""
            },
            "colorscale": [
             [
              0,
              "#0d0887"
             ],
             [
              0.1111111111111111,
              "#46039f"
             ],
             [
              0.2222222222222222,
              "#7201a8"
             ],
             [
              0.3333333333333333,
              "#9c179e"
             ],
             [
              0.4444444444444444,
              "#bd3786"
             ],
             [
              0.5555555555555556,
              "#d8576b"
             ],
             [
              0.6666666666666666,
              "#ed7953"
             ],
             [
              0.7777777777777778,
              "#fb9f3a"
             ],
             [
              0.8888888888888888,
              "#fdca26"
             ],
             [
              1,
              "#f0f921"
             ]
            ],
            "type": "contour"
           }
          ],
          "contourcarpet": [
           {
            "colorbar": {
             "outlinewidth": 0,
             "ticks": ""
            },
            "type": "contourcarpet"
           }
          ],
          "heatmap": [
           {
            "colorbar": {
             "outlinewidth": 0,
             "ticks": ""
            },
            "colorscale": [
             [
              0,
              "#0d0887"
             ],
             [
              0.1111111111111111,
              "#46039f"
             ],
             [
              0.2222222222222222,
              "#7201a8"
             ],
             [
              0.3333333333333333,
              "#9c179e"
             ],
             [
              0.4444444444444444,
              "#bd3786"
             ],
             [
              0.5555555555555556,
              "#d8576b"
             ],
             [
              0.6666666666666666,
              "#ed7953"
             ],
             [
              0.7777777777777778,
              "#fb9f3a"
             ],
             [
              0.8888888888888888,
              "#fdca26"
             ],
             [
              1,
              "#f0f921"
             ]
            ],
            "type": "heatmap"
           }
          ],
          "heatmapgl": [
           {
            "colorbar": {
             "outlinewidth": 0,
             "ticks": ""
            },
            "colorscale": [
             [
              0,
              "#0d0887"
             ],
             [
              0.1111111111111111,
              "#46039f"
             ],
             [
              0.2222222222222222,
              "#7201a8"
             ],
             [
              0.3333333333333333,
              "#9c179e"
             ],
             [
              0.4444444444444444,
              "#bd3786"
             ],
             [
              0.5555555555555556,
              "#d8576b"
             ],
             [
              0.6666666666666666,
              "#ed7953"
             ],
             [
              0.7777777777777778,
              "#fb9f3a"
             ],
             [
              0.8888888888888888,
              "#fdca26"
             ],
             [
              1,
              "#f0f921"
             ]
            ],
            "type": "heatmapgl"
           }
          ],
          "histogram": [
           {
            "marker": {
             "colorbar": {
              "outlinewidth": 0,
              "ticks": ""
             }
            },
            "type": "histogram"
           }
          ],
          "histogram2d": [
           {
            "colorbar": {
             "outlinewidth": 0,
             "ticks": ""
            },
            "colorscale": [
             [
              0,
              "#0d0887"
             ],
             [
              0.1111111111111111,
              "#46039f"
             ],
             [
              0.2222222222222222,
              "#7201a8"
             ],
             [
              0.3333333333333333,
              "#9c179e"
             ],
             [
              0.4444444444444444,
              "#bd3786"
             ],
             [
              0.5555555555555556,
              "#d8576b"
             ],
             [
              0.6666666666666666,
              "#ed7953"
             ],
             [
              0.7777777777777778,
              "#fb9f3a"
             ],
             [
              0.8888888888888888,
              "#fdca26"
             ],
             [
              1,
              "#f0f921"
             ]
            ],
            "type": "histogram2d"
           }
          ],
          "histogram2dcontour": [
           {
            "colorbar": {
             "outlinewidth": 0,
             "ticks": ""
            },
            "colorscale": [
             [
              0,
              "#0d0887"
             ],
             [
              0.1111111111111111,
              "#46039f"
             ],
             [
              0.2222222222222222,
              "#7201a8"
             ],
             [
              0.3333333333333333,
              "#9c179e"
             ],
             [
              0.4444444444444444,
              "#bd3786"
             ],
             [
              0.5555555555555556,
              "#d8576b"
             ],
             [
              0.6666666666666666,
              "#ed7953"
             ],
             [
              0.7777777777777778,
              "#fb9f3a"
             ],
             [
              0.8888888888888888,
              "#fdca26"
             ],
             [
              1,
              "#f0f921"
             ]
            ],
            "type": "histogram2dcontour"
           }
          ],
          "mesh3d": [
           {
            "colorbar": {
             "outlinewidth": 0,
             "ticks": ""
            },
            "type": "mesh3d"
           }
          ],
          "parcoords": [
           {
            "line": {
             "colorbar": {
              "outlinewidth": 0,
              "ticks": ""
             }
            },
            "type": "parcoords"
           }
          ],
          "pie": [
           {
            "automargin": true,
            "type": "pie"
           }
          ],
          "scatter": [
           {
            "marker": {
             "colorbar": {
              "outlinewidth": 0,
              "ticks": ""
             }
            },
            "type": "scatter"
           }
          ],
          "scatter3d": [
           {
            "line": {
             "colorbar": {
              "outlinewidth": 0,
              "ticks": ""
             }
            },
            "marker": {
             "colorbar": {
              "outlinewidth": 0,
              "ticks": ""
             }
            },
            "type": "scatter3d"
           }
          ],
          "scattercarpet": [
           {
            "marker": {
             "colorbar": {
              "outlinewidth": 0,
              "ticks": ""
             }
            },
            "type": "scattercarpet"
           }
          ],
          "scattergeo": [
           {
            "marker": {
             "colorbar": {
              "outlinewidth": 0,
              "ticks": ""
             }
            },
            "type": "scattergeo"
           }
          ],
          "scattergl": [
           {
            "marker": {
             "colorbar": {
              "outlinewidth": 0,
              "ticks": ""
             }
            },
            "type": "scattergl"
           }
          ],
          "scattermapbox": [
           {
            "marker": {
             "colorbar": {
              "outlinewidth": 0,
              "ticks": ""
             }
            },
            "type": "scattermapbox"
           }
          ],
          "scatterpolar": [
           {
            "marker": {
             "colorbar": {
              "outlinewidth": 0,
              "ticks": ""
             }
            },
            "type": "scatterpolar"
           }
          ],
          "scatterpolargl": [
           {
            "marker": {
             "colorbar": {
              "outlinewidth": 0,
              "ticks": ""
             }
            },
            "type": "scatterpolargl"
           }
          ],
          "scatterternary": [
           {
            "marker": {
             "colorbar": {
              "outlinewidth": 0,
              "ticks": ""
             }
            },
            "type": "scatterternary"
           }
          ],
          "surface": [
           {
            "colorbar": {
             "outlinewidth": 0,
             "ticks": ""
            },
            "colorscale": [
             [
              0,
              "#0d0887"
             ],
             [
              0.1111111111111111,
              "#46039f"
             ],
             [
              0.2222222222222222,
              "#7201a8"
             ],
             [
              0.3333333333333333,
              "#9c179e"
             ],
             [
              0.4444444444444444,
              "#bd3786"
             ],
             [
              0.5555555555555556,
              "#d8576b"
             ],
             [
              0.6666666666666666,
              "#ed7953"
             ],
             [
              0.7777777777777778,
              "#fb9f3a"
             ],
             [
              0.8888888888888888,
              "#fdca26"
             ],
             [
              1,
              "#f0f921"
             ]
            ],
            "type": "surface"
           }
          ],
          "table": [
           {
            "cells": {
             "fill": {
              "color": "#EBF0F8"
             },
             "line": {
              "color": "white"
             }
            },
            "header": {
             "fill": {
              "color": "#C8D4E3"
             },
             "line": {
              "color": "white"
             }
            },
            "type": "table"
           }
          ]
         },
         "layout": {
          "annotationdefaults": {
           "arrowcolor": "#2a3f5f",
           "arrowhead": 0,
           "arrowwidth": 1
          },
          "autotypenumbers": "strict",
          "coloraxis": {
           "colorbar": {
            "outlinewidth": 0,
            "ticks": ""
           }
          },
          "colorscale": {
           "diverging": [
            [
             0,
             "#8e0152"
            ],
            [
             0.1,
             "#c51b7d"
            ],
            [
             0.2,
             "#de77ae"
            ],
            [
             0.3,
             "#f1b6da"
            ],
            [
             0.4,
             "#fde0ef"
            ],
            [
             0.5,
             "#f7f7f7"
            ],
            [
             0.6,
             "#e6f5d0"
            ],
            [
             0.7,
             "#b8e186"
            ],
            [
             0.8,
             "#7fbc41"
            ],
            [
             0.9,
             "#4d9221"
            ],
            [
             1,
             "#276419"
            ]
           ],
           "sequential": [
            [
             0,
             "#0d0887"
            ],
            [
             0.1111111111111111,
             "#46039f"
            ],
            [
             0.2222222222222222,
             "#7201a8"
            ],
            [
             0.3333333333333333,
             "#9c179e"
            ],
            [
             0.4444444444444444,
             "#bd3786"
            ],
            [
             0.5555555555555556,
             "#d8576b"
            ],
            [
             0.6666666666666666,
             "#ed7953"
            ],
            [
             0.7777777777777778,
             "#fb9f3a"
            ],
            [
             0.8888888888888888,
             "#fdca26"
            ],
            [
             1,
             "#f0f921"
            ]
           ],
           "sequentialminus": [
            [
             0,
             "#0d0887"
            ],
            [
             0.1111111111111111,
             "#46039f"
            ],
            [
             0.2222222222222222,
             "#7201a8"
            ],
            [
             0.3333333333333333,
             "#9c179e"
            ],
            [
             0.4444444444444444,
             "#bd3786"
            ],
            [
             0.5555555555555556,
             "#d8576b"
            ],
            [
             0.6666666666666666,
             "#ed7953"
            ],
            [
             0.7777777777777778,
             "#fb9f3a"
            ],
            [
             0.8888888888888888,
             "#fdca26"
            ],
            [
             1,
             "#f0f921"
            ]
           ]
          },
          "colorway": [
           "#636efa",
           "#EF553B",
           "#00cc96",
           "#ab63fa",
           "#FFA15A",
           "#19d3f3",
           "#FF6692",
           "#B6E880",
           "#FF97FF",
           "#FECB52"
          ],
          "font": {
           "color": "#2a3f5f"
          },
          "geo": {
           "bgcolor": "white",
           "lakecolor": "white",
           "landcolor": "#E5ECF6",
           "showlakes": true,
           "showland": true,
           "subunitcolor": "white"
          },
          "hoverlabel": {
           "align": "left"
          },
          "hovermode": "closest",
          "mapbox": {
           "style": "light"
          },
          "paper_bgcolor": "white",
          "plot_bgcolor": "#E5ECF6",
          "polar": {
           "angularaxis": {
            "gridcolor": "white",
            "linecolor": "white",
            "ticks": ""
           },
           "bgcolor": "#E5ECF6",
           "radialaxis": {
            "gridcolor": "white",
            "linecolor": "white",
            "ticks": ""
           }
          },
          "scene": {
           "xaxis": {
            "backgroundcolor": "#E5ECF6",
            "gridcolor": "white",
            "gridwidth": 2,
            "linecolor": "white",
            "showbackground": true,
            "ticks": "",
            "zerolinecolor": "white"
           },
           "yaxis": {
            "backgroundcolor": "#E5ECF6",
            "gridcolor": "white",
            "gridwidth": 2,
            "linecolor": "white",
            "showbackground": true,
            "ticks": "",
            "zerolinecolor": "white"
           },
           "zaxis": {
            "backgroundcolor": "#E5ECF6",
            "gridcolor": "white",
            "gridwidth": 2,
            "linecolor": "white",
            "showbackground": true,
            "ticks": "",
            "zerolinecolor": "white"
           }
          },
          "shapedefaults": {
           "line": {
            "color": "#2a3f5f"
           }
          },
          "ternary": {
           "aaxis": {
            "gridcolor": "white",
            "linecolor": "white",
            "ticks": ""
           },
           "baxis": {
            "gridcolor": "white",
            "linecolor": "white",
            "ticks": ""
           },
           "bgcolor": "#E5ECF6",
           "caxis": {
            "gridcolor": "white",
            "linecolor": "white",
            "ticks": ""
           }
          },
          "title": {
           "x": 0.05
          },
          "xaxis": {
           "automargin": true,
           "gridcolor": "white",
           "linecolor": "white",
           "ticks": "",
           "title": {
            "standoff": 15
           },
           "zerolinecolor": "white",
           "zerolinewidth": 2
          },
          "yaxis": {
           "automargin": true,
           "gridcolor": "white",
           "linecolor": "white",
           "ticks": "",
           "title": {
            "standoff": 15
           },
           "zerolinecolor": "white",
           "zerolinewidth": 2
          }
         }
        },
        "xaxis": {
         "anchor": "y",
         "autorange": true,
         "domain": [
          0,
          1
         ],
         "range": [
          "1791-12-31",
          "2020-12-31"
         ],
         "title": {
          "text": "Date"
         },
         "type": "date"
        },
        "yaxis": {
         "anchor": "x",
         "autorange": true,
         "domain": [
          0,
          1
         ],
         "range": [
          -1.6555112883333334,
          37.05471447833333
         ],
         "title": {
          "text": "value"
         },
         "type": "linear"
        }
       }
      },
      "image/png": "[encoded data removed]",
      "text/html": [
       "<div>                            <div id=\"9e156b8d-7a65-42b8-91b7-69b897bc63f9\" class=\"plotly-graph-div\" style=\"height:525px; width:100%;\"></div>            <script type=\"text/javascript\">                require([\"plotly\"], function(Plotly) {                    window.PLOTLYENV=window.PLOTLYENV || {};                                    if (document.getElementById(\"9e156b8d-7a65-42b8-91b7-69b897bc63f9\")) {                    Plotly.newPlot(                        \"9e156b8d-7a65-42b8-91b7-69b897bc63f9\",                        [{\"hovertemplate\": \"variable=Value<br>Date=%{x}<br>value=%{y}<extra></extra>\", \"legendgroup\": \"Value\", \"line\": {\"color\": \"#636efa\", \"dash\": \"solid\"}, \"mode\": \"lines\", \"name\": \"Value\", \"orientation\": \"v\", \"showlegend\": true, \"type\": \"scatter\", \"x\": [\"1791-12-31T00:00:00\", \"1792-12-31T00:00:00\", \"1793-12-31T00:00:00\", \"1794-12-31T00:00:00\", \"1795-12-31T00:00:00\", \"1796-12-31T00:00:00\", \"1797-12-31T00:00:00\", \"1798-12-31T00:00:00\", \"1799-12-31T00:00:00\", \"1800-12-31T00:00:00\", \"1801-12-31T00:00:00\", \"1802-12-31T00:00:00\", \"1803-12-31T00:00:00\", \"1804-12-31T00:00:00\", \"1805-12-31T00:00:00\", \"1806-12-31T00:00:00\", \"1807-12-31T00:00:00\", \"1808-12-31T00:00:00\", \"1809-12-31T00:00:00\", \"1810-12-31T00:00:00\", \"1811-12-31T00:00:00\", \"1812-12-31T00:00:00\", \"1813-12-31T00:00:00\", \"1814-12-31T00:00:00\", \"1815-12-31T00:00:00\", \"1816-12-31T00:00:00\", \"1817-12-31T00:00:00\", \"1818-12-31T00:00:00\", \"1819-12-31T00:00:00\", \"1820-12-31T00:00:00\", \"1821-12-31T00:00:00\", \"1822-12-31T00:00:00\", \"1823-12-31T00:00:00\", \"1824-12-31T00:00:00\", \"1825-12-31T00:00:00\", \"1826-12-31T00:00:00\", \"1827-12-31T00:00:00\", \"1828-12-31T00:00:00\", \"1829-12-31T00:00:00\", \"1830-12-31T00:00:00\", \"1831-12-31T00:00:00\", \"1832-12-31T00:00:00\", \"1833-12-31T00:00:00\", \"1834-12-31T00:00:00\", \"1835-12-31T00:00:00\", \"1836-12-31T00:00:00\", \"1837-12-31T00:00:00\", \"1838-12-31T00:00:00\", \"1839-12-31T00:00:00\", \"1840-12-31T00:00:00\", \"1841-12-31T00:00:00\", \"1842-12-31T00:00:00\", \"1843-12-31T00:00:00\", \"1844-12-31T00:00:00\", \"1845-12-31T00:00:00\", \"1846-12-31T00:00:00\", \"1847-12-31T00:00:00\", \"1848-12-31T00:00:00\", \"1849-12-31T00:00:00\", \"1850-12-31T00:00:00\", \"1851-12-31T00:00:00\", \"1852-12-31T00:00:00\", \"1853-12-31T00:00:00\", \"1854-12-31T00:00:00\", \"1855-12-31T00:00:00\", \"1856-12-31T00:00:00\", \"1857-12-31T00:00:00\", \"1858-12-31T00:00:00\", \"1859-12-31T00:00:00\", \"1860-12-31T00:00:00\", \"1861-12-31T00:00:00\", \"1862-12-31T00:00:00\", \"1863-12-31T00:00:00\", \"1864-12-31T00:00:00\", \"1865-12-31T00:00:00\", \"1866-12-31T00:00:00\", \"1867-12-31T00:00:00\", \"1868-12-31T00:00:00\", \"1869-12-31T00:00:00\", \"1870-12-31T00:00:00\", \"1871-12-31T00:00:00\", \"1872-12-31T00:00:00\", \"1873-12-31T00:00:00\", \"1874-12-31T00:00:00\", \"1875-12-31T00:00:00\", \"1876-12-31T00:00:00\", \"1877-12-31T00:00:00\", \"1878-12-31T00:00:00\", \"1879-12-31T00:00:00\", \"1880-12-31T00:00:00\", \"1881-12-31T00:00:00\", \"1882-12-31T00:00:00\", \"1883-12-31T00:00:00\", \"1884-12-31T00:00:00\", \"1885-12-31T00:00:00\", \"1886-12-31T00:00:00\", \"1887-12-31T00:00:00\", \"1888-12-31T00:00:00\", \"1889-12-31T00:00:00\", \"1890-12-31T00:00:00\", \"1891-12-31T00:00:00\", \"1892-12-31T00:00:00\", \"1893-12-31T00:00:00\", \"1894-12-31T00:00:00\", \"1895-12-31T00:00:00\", \"1896-12-31T00:00:00\", \"1897-12-31T00:00:00\", \"1898-12-31T00:00:00\", \"1899-12-31T00:00:00\", \"1900-12-31T00:00:00\", \"1901-12-31T00:00:00\", \"1902-12-31T00:00:00\", \"1903-12-31T00:00:00\", \"1904-12-31T00:00:00\", \"1905-12-31T00:00:00\", \"1906-12-31T00:00:00\", \"1907-12-31T00:00:00\", \"1908-12-31T00:00:00\", \"1909-12-31T00:00:00\", \"1910-12-31T00:00:00\", \"1911-12-31T00:00:00\", \"1912-12-31T00:00:00\", \"1913-12-31T00:00:00\", \"1914-12-31T00:00:00\", \"1915-12-31T00:00:00\", \"1916-12-31T00:00:00\", \"1917-12-31T00:00:00\", \"1918-12-31T00:00:00\", \"1919-12-31T00:00:00\", \"1920-12-31T00:00:00\", \"1921-12-31T00:00:00\", \"1922-12-31T00:00:00\", \"1923-12-31T00:00:00\", \"1924-12-31T00:00:00\", \"1925-12-31T00:00:00\", \"1926-12-31T00:00:00\", \"1927-12-31T00:00:00\", \"1928-12-31T00:00:00\", \"1929-12-31T00:00:00\", \"1930-12-31T00:00:00\", \"1931-12-31T00:00:00\", \"1932-12-31T00:00:00\", \"1933-12-31T00:00:00\", \"1934-12-31T00:00:00\", \"1935-12-31T00:00:00\", \"1936-12-31T00:00:00\", \"1937-12-31T00:00:00\", \"1938-12-31T00:00:00\", \"1939-12-31T00:00:00\", \"1940-12-31T00:00:00\", \"1941-12-31T00:00:00\", \"1942-12-31T00:00:00\", \"1943-12-31T00:00:00\", \"1944-12-31T00:00:00\", \"1945-12-31T00:00:00\", \"1946-12-31T00:00:00\", \"1947-12-31T00:00:00\", \"1948-12-31T00:00:00\", \"1949-12-31T00:00:00\", \"1950-12-31T00:00:00\", \"1951-12-31T00:00:00\", \"1952-12-31T00:00:00\", \"1953-12-31T00:00:00\", \"1954-12-31T00:00:00\", \"1955-12-31T00:00:00\", \"1956-12-31T00:00:00\", \"1957-12-31T00:00:00\", \"1958-12-31T00:00:00\", \"1959-12-31T00:00:00\", \"1960-12-31T00:00:00\", \"1961-12-31T00:00:00\", \"1962-12-31T00:00:00\", \"1963-12-31T00:00:00\", \"1964-12-31T00:00:00\", \"1965-12-31T00:00:00\", \"1966-12-31T00:00:00\", \"1967-12-31T00:00:00\", \"1968-12-31T00:00:00\", \"1969-12-31T00:00:00\", \"1970-12-31T00:00:00\", \"1971-12-31T00:00:00\", \"1972-12-31T00:00:00\", \"1973-12-31T00:00:00\", \"1974-12-31T00:00:00\", \"1975-12-31T00:00:00\", \"1976-12-31T00:00:00\", \"1977-12-31T00:00:00\", \"1978-12-31T00:00:00\", \"1979-12-31T00:00:00\", \"1980-12-31T00:00:00\", \"1981-12-31T00:00:00\", \"1982-12-31T00:00:00\", \"1983-12-31T00:00:00\", \"1984-12-31T00:00:00\", \"1985-12-31T00:00:00\", \"1986-12-31T00:00:00\", \"1987-12-31T00:00:00\", \"1988-12-31T00:00:00\", \"1989-12-31T00:00:00\", \"1990-12-31T00:00:00\", \"1991-12-31T00:00:00\", \"1992-12-31T00:00:00\", \"1993-12-31T00:00:00\", \"1994-12-31T00:00:00\", \"1995-12-31T00:00:00\", \"1996-12-31T00:00:00\", \"1997-12-31T00:00:00\", \"1998-12-31T00:00:00\", \"1999-12-31T00:00:00\", \"2000-12-31T00:00:00\", \"2001-12-31T00:00:00\", \"2002-12-31T00:00:00\", \"2003-12-31T00:00:00\", \"2004-12-31T00:00:00\", \"2005-12-31T00:00:00\", \"2006-12-31T00:00:00\", \"2007-12-31T00:00:00\", \"2008-12-31T00:00:00\", \"2009-12-31T00:00:00\", \"2010-12-31T00:00:00\", \"2011-12-31T00:00:00\", \"2012-12-31T00:00:00\", \"2013-12-31T00:00:00\", \"2014-12-31T00:00:00\", \"2015-12-31T00:00:00\", \"2016-12-31T00:00:00\", \"2017-12-31T00:00:00\", \"2018-12-31T00:00:00\", \"2019-12-31T00:00:00\", \"2020-12-31T00:00:00\"], \"xaxis\": \"x\", \"y\": [1.29, 1.28, 1.29, 1.26, 1.25, 1.24, 1.26, 1.24, 1.23, 1.24, 1.25, 1.27, 1.26, 1.26, 1.23, 1.25, 1.26, 1.21, 1.21, 1.23, 1.25, 1.2, 1.19, 1.34, 1.42, 1.37, 1.29, 1.26, 1.26, 1.24, 1.22, 1.23, 1.22, 1.23, 1.24, 1.23, 1.23, 1.23, 1.23, 1.23, 1.23, 1.23, 1.22, 1.27, 1.31, 1.32, 1.37, 1.32, 1.32, 1.32, 1.32, 1.3, 1.3, 1.3, 1.3, 1.3, 1.31, 1.3, 1.31, 1.32, 1.34, 1.33, 1.35, 1.35, 1.34, 1.34, 1.36, 1.34, 1.36, 1.35, 1.33, 1.53, 1.95, 2.73, 2.11, 1.89, 1.83, 1.85, 1.76, 1.53, 1.48, 1.49, 1.48, 1.42, 1.43, 1.3, 1.26, 1.16, 1.12, 1.15, 1.13, 1.14, 1.11, 1.11, 1.06, 0.99, 0.98, 0.94, 0.94, 1.05, 0.99, 0.87, 0.78, 0.63, 0.65, 0.68, 0.6, 0.59, 0.6, 0.62, 0.6, 0.53, 0.54, 0.58, 0.61, 0.68, 0.66, 0.53, 0.52, 0.54, 0.54, 0.61, 0.6, 0.55, 0.51, 0.67, 0.84, 0.98, 1.12, 1.02, 0.63, 0.68, 0.65, 0.67, 0.69, 0.62, 0.57, 0.58, 0.53, 0.38, 0.29, 0.28, 0.35, 0.48, 0.65, 0.45, 0.45, 0.44, 0.39, 0.35, 0.35, 0.39, 0.45, 0.45, 0.52, 0.8, 0.72, 0.74, 0.72, 0.74, 0.89, 0.85, 0.85, 0.85, 0.89, 0.91, 0.91, 0.89, 0.91, 0.91, 0.93, 1.09, 1.28, 1.29, 1.29, 1.29, 1.55, 2.189043825, 1.799448819, 1.765764706, 1.536774194, 1.676507937, 2.546, 4.671614173, 4.425551181, 4.35345098, 4.635119048, 5.42202381, 11.06790514, 20.98346457, 10.48689243, 7.921825397, 11.42003953, 8.141513944, 6.131857708, 5.464703557, 7.015515873, 6.532450593, 5.499920635, 4.831541502, 4.056442688, 3.946614173, 4.312885375, 5.285277778, 5.197063492, 5.199566929, 4.896837945, 5.539525692, 5.219047619, 4.95250996, 4.369960474, 4.599246032, 4.878498024, 6.658110236, 7.311626984, 11.54928571, 13.38367589, 14.98905512, 14.67426877, 20.19284585, 35.11920319, 31.14972222, 23.80984127, 18.79723183, 15.72021978, 17.10423497, 17.07857988, 15.70574176, 16.20011019, 20.52693151], \"yaxis\": \"y\"}],                        {\"legend\": {\"title\": {\"text\": \"variable\"}, \"tracegroupgap\": 0}, \"margin\": {\"t\": 60}, \"template\": {\"data\": {\"bar\": [{\"error_x\": {\"color\": \"#2a3f5f\"}, \"error_y\": {\"color\": \"#2a3f5f\"}, \"marker\": {\"line\": {\"color\": \"#E5ECF6\", \"width\": 0.5}}, \"type\": \"bar\"}], \"barpolar\": [{\"marker\": {\"line\": {\"color\": \"#E5ECF6\", \"width\": 0.5}}, \"type\": \"barpolar\"}], \"carpet\": [{\"aaxis\": {\"endlinecolor\": \"#2a3f5f\", \"gridcolor\": \"white\", \"linecolor\": \"white\", \"minorgridcolor\": \"white\", \"startlinecolor\": \"#2a3f5f\"}, \"baxis\": {\"endlinecolor\": \"#2a3f5f\", \"gridcolor\": \"white\", \"linecolor\": \"white\", \"minorgridcolor\": \"white\", \"startlinecolor\": \"#2a3f5f\"}, \"type\": \"carpet\"}], \"choropleth\": [{\"colorbar\": {\"outlinewidth\": 0, \"ticks\": \"\"}, \"type\": \"choropleth\"}], \"contour\": [{\"colorbar\": {\"outlinewidth\": 0, \"ticks\": \"\"}, \"colorscale\": [[0.0, \"#0d0887\"], [0.1111111111111111, \"#46039f\"], [0.2222222222222222, \"#7201a8\"], [0.3333333333333333, \"#9c179e\"], [0.4444444444444444, \"#bd3786\"], [0.5555555555555556, \"#d8576b\"], [0.6666666666666666, \"#ed7953\"], [0.7777777777777778, \"#fb9f3a\"], [0.8888888888888888, \"#fdca26\"], [1.0, \"#f0f921\"]], \"type\": \"contour\"}], \"contourcarpet\": [{\"colorbar\": {\"outlinewidth\": 0, \"ticks\": \"\"}, \"type\": \"contourcarpet\"}], \"heatmap\": [{\"colorbar\": {\"outlinewidth\": 0, \"ticks\": \"\"}, \"colorscale\": [[0.0, \"#0d0887\"], [0.1111111111111111, \"#46039f\"], [0.2222222222222222, \"#7201a8\"], [0.3333333333333333, \"#9c179e\"], [0.4444444444444444, \"#bd3786\"], [0.5555555555555556, \"#d8576b\"], [0.6666666666666666, \"#ed7953\"], [0.7777777777777778, \"#fb9f3a\"], [0.8888888888888888, \"#fdca26\"], [1.0, \"#f0f921\"]], \"type\": \"heatmap\"}], \"heatmapgl\": [{\"colorbar\": {\"outlinewidth\": 0, \"ticks\": \"\"}, \"colorscale\": [[0.0, \"#0d0887\"], [0.1111111111111111, \"#46039f\"], [0.2222222222222222, \"#7201a8\"], [0.3333333333333333, \"#9c179e\"], [0.4444444444444444, \"#bd3786\"], [0.5555555555555556, \"#d8576b\"], [0.6666666666666666, \"#ed7953\"], [0.7777777777777778, \"#fb9f3a\"], [0.8888888888888888, \"#fdca26\"], [1.0, \"#f0f921\"]], \"type\": \"heatmapgl\"}], \"histogram\": [{\"marker\": {\"colorbar\": {\"outlinewidth\": 0, \"ticks\": \"\"}}, \"type\": \"histogram\"}], \"histogram2d\": [{\"colorbar\": {\"outlinewidth\": 0, \"ticks\": \"\"}, \"colorscale\": [[0.0, \"#0d0887\"], [0.1111111111111111, \"#46039f\"], [0.2222222222222222, \"#7201a8\"], [0.3333333333333333, \"#9c179e\"], [0.4444444444444444, \"#bd3786\"], [0.5555555555555556, \"#d8576b\"], [0.6666666666666666, \"#ed7953\"], [0.7777777777777778, \"#fb9f3a\"], [0.8888888888888888, \"#fdca26\"], [1.0, \"#f0f921\"]], \"type\": \"histogram2d\"}], \"histogram2dcontour\": [{\"colorbar\": {\"outlinewidth\": 0, \"ticks\": \"\"}, \"colorscale\": [[0.0, \"#0d0887\"], [0.1111111111111111, \"#46039f\"], [0.2222222222222222, \"#7201a8\"], [0.3333333333333333, \"#9c179e\"], [0.4444444444444444, \"#bd3786\"], [0.5555555555555556, \"#d8576b\"], [0.6666666666666666, \"#ed7953\"], [0.7777777777777778, \"#fb9f3a\"], [0.8888888888888888, \"#fdca26\"], [1.0, \"#f0f921\"]], \"type\": \"histogram2dcontour\"}], \"mesh3d\": [{\"colorbar\": {\"outlinewidth\": 0, \"ticks\": \"\"}, \"type\": \"mesh3d\"}], \"parcoords\": [{\"line\": {\"colorbar\": {\"outlinewidth\": 0, \"ticks\": \"\"}}, \"type\": \"parcoords\"}], \"pie\": [{\"automargin\": true, \"type\": \"pie\"}], \"scatter\": [{\"marker\": {\"colorbar\": {\"outlinewidth\": 0, \"ticks\": \"\"}}, \"type\": \"scatter\"}], \"scatter3d\": [{\"line\": {\"colorbar\": {\"outlinewidth\": 0, \"ticks\": \"\"}}, \"marker\": {\"colorbar\": {\"outlinewidth\": 0, \"ticks\": \"\"}}, \"type\": \"scatter3d\"}], \"scattercarpet\": [{\"marker\": {\"colorbar\": {\"outlinewidth\": 0, \"ticks\": \"\"}}, \"type\": \"scattercarpet\"}], \"scattergeo\": [{\"marker\": {\"colorbar\": {\"outlinewidth\": 0, \"ticks\": \"\"}}, \"type\": \"scattergeo\"}], \"scattergl\": [{\"marker\": {\"colorbar\": {\"outlinewidth\": 0, \"ticks\": \"\"}}, \"type\": \"scattergl\"}], \"scattermapbox\": [{\"marker\": {\"colorbar\": {\"outlinewidth\": 0, \"ticks\": \"\"}}, \"type\": \"scattermapbox\"}], \"scatterpolar\": [{\"marker\": {\"colorbar\": {\"outlinewidth\": 0, \"ticks\": \"\"}}, \"type\": \"scatterpolar\"}], \"scatterpolargl\": [{\"marker\": {\"colorbar\": {\"outlinewidth\": 0, \"ticks\": \"\"}}, \"type\": \"scatterpolargl\"}], \"scatterternary\": [{\"marker\": {\"colorbar\": {\"outlinewidth\": 0, \"ticks\": \"\"}}, \"type\": \"scatterternary\"}], \"surface\": [{\"colorbar\": {\"outlinewidth\": 0, \"ticks\": \"\"}, \"colorscale\": [[0.0, \"#0d0887\"], [0.1111111111111111, \"#46039f\"], [0.2222222222222222, \"#7201a8\"], [0.3333333333333333, \"#9c179e\"], [0.4444444444444444, \"#bd3786\"], [0.5555555555555556, \"#d8576b\"], [0.6666666666666666, \"#ed7953\"], [0.7777777777777778, \"#fb9f3a\"], [0.8888888888888888, \"#fdca26\"], [1.0, \"#f0f921\"]], \"type\": \"surface\"}], \"table\": [{\"cells\": {\"fill\": {\"color\": \"#EBF0F8\"}, \"line\": {\"color\": \"white\"}}, \"header\": {\"fill\": {\"color\": \"#C8D4E3\"}, \"line\": {\"color\": \"white\"}}, \"type\": \"table\"}]}, \"layout\": {\"annotationdefaults\": {\"arrowcolor\": \"#2a3f5f\", \"arrowhead\": 0, \"arrowwidth\": 1}, \"autotypenumbers\": \"strict\", \"coloraxis\": {\"colorbar\": {\"outlinewidth\": 0, \"ticks\": \"\"}}, \"colorscale\": {\"diverging\": [[0, \"#8e0152\"], [0.1, \"#c51b7d\"], [0.2, \"#de77ae\"], [0.3, \"#f1b6da\"], [0.4, \"#fde0ef\"], [0.5, \"#f7f7f7\"], [0.6, \"#e6f5d0\"], [0.7, \"#b8e186\"], [0.8, \"#7fbc41\"], [0.9, \"#4d9221\"], [1, \"#276419\"]], \"sequential\": [[0.0, \"#0d0887\"], [0.1111111111111111, \"#46039f\"], [0.2222222222222222, \"#7201a8\"], [0.3333333333333333, \"#9c179e\"], [0.4444444444444444, \"#bd3786\"], [0.5555555555555556, \"#d8576b\"], [0.6666666666666666, \"#ed7953\"], [0.7777777777777778, \"#fb9f3a\"], [0.8888888888888888, \"#fdca26\"], [1.0, \"#f0f921\"]], \"sequentialminus\": [[0.0, \"#0d0887\"], [0.1111111111111111, \"#46039f\"], [0.2222222222222222, \"#7201a8\"], [0.3333333333333333, \"#9c179e\"], [0.4444444444444444, \"#bd3786\"], [0.5555555555555556, \"#d8576b\"], [0.6666666666666666, \"#ed7953\"], [0.7777777777777778, \"#fb9f3a\"], [0.8888888888888888, \"#fdca26\"], [1.0, \"#f0f921\"]]}, \"colorway\": [\"#636efa\", \"#EF553B\", \"#00cc96\", \"#ab63fa\", \"#FFA15A\", \"#19d3f3\", \"#FF6692\", \"#B6E880\", \"#FF97FF\", \"#FECB52\"], \"font\": {\"color\": \"#2a3f5f\"}, \"geo\": {\"bgcolor\": \"white\", \"lakecolor\": \"white\", \"landcolor\": \"#E5ECF6\", \"showlakes\": true, \"showland\": true, \"subunitcolor\": \"white\"}, \"hoverlabel\": {\"align\": \"left\"}, \"hovermode\": \"closest\", \"mapbox\": {\"style\": \"light\"}, \"paper_bgcolor\": \"white\", \"plot_bgcolor\": \"#E5ECF6\", \"polar\": {\"angularaxis\": {\"gridcolor\": \"white\", \"linecolor\": \"white\", \"ticks\": \"\"}, \"bgcolor\": \"#E5ECF6\", \"radialaxis\": {\"gridcolor\": \"white\", \"linecolor\": \"white\", \"ticks\": \"\"}}, \"scene\": {\"xaxis\": {\"backgroundcolor\": \"#E5ECF6\", \"gridcolor\": \"white\", \"gridwidth\": 2, \"linecolor\": \"white\", \"showbackground\": true, \"ticks\": \"\", \"zerolinecolor\": \"white\"}, \"yaxis\": {\"backgroundcolor\": \"#E5ECF6\", \"gridcolor\": \"white\", \"gridwidth\": 2, \"linecolor\": \"white\", \"showbackground\": true, \"ticks\": \"\", \"zerolinecolor\": \"white\"}, \"zaxis\": {\"backgroundcolor\": \"#E5ECF6\", \"gridcolor\": \"white\", \"gridwidth\": 2, \"linecolor\": \"white\", \"showbackground\": true, \"ticks\": \"\", \"zerolinecolor\": \"white\"}}, \"shapedefaults\": {\"line\": {\"color\": \"#2a3f5f\"}}, \"ternary\": {\"aaxis\": {\"gridcolor\": \"white\", \"linecolor\": \"white\", \"ticks\": \"\"}, \"baxis\": {\"gridcolor\": \"white\", \"linecolor\": \"white\", \"ticks\": \"\"}, \"bgcolor\": \"#E5ECF6\", \"caxis\": {\"gridcolor\": \"white\", \"linecolor\": \"white\", \"ticks\": \"\"}}, \"title\": {\"x\": 0.05}, \"xaxis\": {\"automargin\": true, \"gridcolor\": \"white\", \"linecolor\": \"white\", \"ticks\": \"\", \"title\": {\"standoff\": 15}, \"zerolinecolor\": \"white\", \"zerolinewidth\": 2}, \"yaxis\": {\"automargin\": true, \"gridcolor\": \"white\", \"linecolor\": \"white\", \"ticks\": \"\", \"title\": {\"standoff\": 15}, \"zerolinecolor\": \"white\", \"zerolinewidth\": 2}}}, \"xaxis\": {\"anchor\": \"y\", \"domain\": [0.0, 1.0], \"title\": {\"text\": \"Date\"}}, \"yaxis\": {\"anchor\": \"x\", \"domain\": [0.0, 1.0], \"title\": {\"text\": \"value\"}}},                        {\"responsive\": true}                    ).then(function(){\n",
       "                            \n",
       "var gd = document.getElementById('9e156b8d-7a65-42b8-91b7-69b897bc63f9');\n",
       "var x = new MutationObserver(function (mutations, observer) {{\n",
       "        var display = window.getComputedStyle(gd).display;\n",
       "        if (!display || display === 'none') {{\n",
       "            console.log([gd, 'removed!']);\n",
       "            Plotly.purge(gd);\n",
       "            observer.disconnect();\n",
       "        }}\n",
       "}});\n",
       "\n",
       "// Listen for the removal of the full notebook cells\n",
       "var notebookContainer = gd.closest('#notebook-container');\n",
       "if (notebookContainer) {{\n",
       "    x.observe(notebookContainer, {childList: true});\n",
       "}}\n",
       "\n",
       "// Listen for the clearing of the current output cell\n",
       "var outputEl = gd.closest('.output');\n",
       "if (outputEl) {{\n",
       "    x.observe(outputEl, {childList: true});\n",
       "}}\n",
       "\n",
       "                        })                };                });            </script>        </div>"
      ]
     },
     "metadata": {},
     "output_type": "display_data"
    }
   ],
   "source": [
    "px.line(silver_log)"
   ]
  },
  {
   "cell_type": "code",
   "execution_count": 20,
   "id": "d961600a-7d84-4e01-ad7e-0e9db26aaae5",
   "metadata": {},
   "outputs": [],
   "source": [
    "silver_log.to_pickle(r'..\\02-Data\\02-Silver\\04_Silver_USD_1791-12-31_2020-12-31_yearly_logarithmic_denvergold.pkl')"
   ]
  },
  {
   "cell_type": "markdown",
   "id": "619957dd-12c3-4465-b6c5-45402ecf00cc",
   "metadata": {},
   "source": [
    "## Escala logarítmica plata valor real ajustado por inflación"
   ]
  },
  {
   "cell_type": "code",
   "execution_count": 25,
   "id": "be1ed1b0-90e7-47a4-a676-588f11420f8b",
   "metadata": {},
   "outputs": [],
   "source": [
    "silver_real_log = pd.read_csv(r'..\\01-Raw_data\\02-Silver\\01-silver_price_1791_2020_yearly_denvergold.csv')"
   ]
  },
  {
   "cell_type": "code",
   "execution_count": 26,
   "id": "24411188-5052-4da7-bf65-d079d1377a4f",
   "metadata": {},
   "outputs": [
    {
     "data": {
      "text/html": [
       "<div>\n",
       "<style scoped>\n",
       "    .dataframe tbody tr th:only-of-type {\n",
       "        vertical-align: middle;\n",
       "    }\n",
       "\n",
       "    .dataframe tbody tr th {\n",
       "        vertical-align: top;\n",
       "    }\n",
       "\n",
       "    .dataframe thead th {\n",
       "        text-align: right;\n",
       "    }\n",
       "</style>\n",
       "<table border=\"1\" class=\"dataframe\">\n",
       "  <thead>\n",
       "    <tr style=\"text-align: right;\">\n",
       "      <th></th>\n",
       "      <th>Year</th>\n",
       "      <th>Real ounce closing price USD</th>\n",
       "      <th>Nominal ounce closing price USD</th>\n",
       "    </tr>\n",
       "  </thead>\n",
       "  <tbody>\n",
       "    <tr>\n",
       "      <th>0</th>\n",
       "      <td>1791</td>\n",
       "      <td>1.290000</td>\n",
       "      <td>1.290000</td>\n",
       "    </tr>\n",
       "    <tr>\n",
       "      <th>1</th>\n",
       "      <td>1792</td>\n",
       "      <td>1.280000</td>\n",
       "      <td>1.280000</td>\n",
       "    </tr>\n",
       "    <tr>\n",
       "      <th>2</th>\n",
       "      <td>1793</td>\n",
       "      <td>1.290000</td>\n",
       "      <td>1.290000</td>\n",
       "    </tr>\n",
       "    <tr>\n",
       "      <th>3</th>\n",
       "      <td>1794</td>\n",
       "      <td>1.260000</td>\n",
       "      <td>1.260000</td>\n",
       "    </tr>\n",
       "    <tr>\n",
       "      <th>4</th>\n",
       "      <td>1795</td>\n",
       "      <td>1.250000</td>\n",
       "      <td>1.250000</td>\n",
       "    </tr>\n",
       "    <tr>\n",
       "      <th>...</th>\n",
       "      <td>...</td>\n",
       "      <td>...</td>\n",
       "      <td>...</td>\n",
       "    </tr>\n",
       "    <tr>\n",
       "      <th>225</th>\n",
       "      <td>2016</td>\n",
       "      <td>17.104235</td>\n",
       "      <td>17.104235</td>\n",
       "    </tr>\n",
       "    <tr>\n",
       "      <th>226</th>\n",
       "      <td>2017</td>\n",
       "      <td>17.078580</td>\n",
       "      <td>17.078580</td>\n",
       "    </tr>\n",
       "    <tr>\n",
       "      <th>227</th>\n",
       "      <td>2018</td>\n",
       "      <td>15.705742</td>\n",
       "      <td>15.705742</td>\n",
       "    </tr>\n",
       "    <tr>\n",
       "      <th>228</th>\n",
       "      <td>2019</td>\n",
       "      <td>16.200110</td>\n",
       "      <td>16.200110</td>\n",
       "    </tr>\n",
       "    <tr>\n",
       "      <th>229</th>\n",
       "      <td>2020</td>\n",
       "      <td>20.526932</td>\n",
       "      <td>20.526932</td>\n",
       "    </tr>\n",
       "  </tbody>\n",
       "</table>\n",
       "<p>230 rows × 3 columns</p>\n",
       "</div>"
      ],
      "text/plain": [
       "     Year  Real ounce closing price USD  Nominal ounce closing price USD\n",
       "0    1791                      1.290000                         1.290000\n",
       "1    1792                      1.280000                         1.280000\n",
       "2    1793                      1.290000                         1.290000\n",
       "3    1794                      1.260000                         1.260000\n",
       "4    1795                      1.250000                         1.250000\n",
       "..    ...                           ...                              ...\n",
       "225  2016                     17.104235                        17.104235\n",
       "226  2017                     17.078580                        17.078580\n",
       "227  2018                     15.705742                        15.705742\n",
       "228  2019                     16.200110                        16.200110\n",
       "229  2020                     20.526932                        20.526932\n",
       "\n",
       "[230 rows x 3 columns]"
      ]
     },
     "execution_count": 26,
     "metadata": {},
     "output_type": "execute_result"
    }
   ],
   "source": [
    "silver_real_log"
   ]
  },
  {
   "cell_type": "code",
   "execution_count": 27,
   "id": "6484f62b-21e2-4332-8053-7ae6209c045e",
   "metadata": {},
   "outputs": [
    {
     "name": "stderr",
     "output_type": "stream",
     "text": [
      "C:\\Users\\serra\\Miniconda3\\lib\\site-packages\\pandas\\core\\frame.py:4441: SettingWithCopyWarning:\n",
      "\n",
      "\n",
      "A value is trying to be set on a copy of a slice from a DataFrame\n",
      "\n",
      "See the caveats in the documentation: https://pandas.pydata.org/pandas-docs/stable/user_guide/indexing.html#returning-a-view-versus-a-copy\n",
      "\n",
      "<ipython-input-27-f9af8c887e35>:5: FutureWarning:\n",
      "\n",
      "The pandas.datetime class is deprecated and will be removed from pandas in a future version. Import from datetime module instead.\n",
      "\n"
     ]
    },
    {
     "data": {
      "text/html": [
       "<div>\n",
       "<style scoped>\n",
       "    .dataframe tbody tr th:only-of-type {\n",
       "        vertical-align: middle;\n",
       "    }\n",
       "\n",
       "    .dataframe tbody tr th {\n",
       "        vertical-align: top;\n",
       "    }\n",
       "\n",
       "    .dataframe thead th {\n",
       "        text-align: right;\n",
       "    }\n",
       "</style>\n",
       "<table border=\"1\" class=\"dataframe\">\n",
       "  <thead>\n",
       "    <tr style=\"text-align: right;\">\n",
       "      <th></th>\n",
       "      <th>Value</th>\n",
       "    </tr>\n",
       "    <tr>\n",
       "      <th>Date</th>\n",
       "      <th></th>\n",
       "    </tr>\n",
       "  </thead>\n",
       "  <tbody>\n",
       "    <tr>\n",
       "      <th>1791-12-31</th>\n",
       "      <td>0.254642</td>\n",
       "    </tr>\n",
       "    <tr>\n",
       "      <th>1792-12-31</th>\n",
       "      <td>0.246860</td>\n",
       "    </tr>\n",
       "    <tr>\n",
       "      <th>1793-12-31</th>\n",
       "      <td>0.254642</td>\n",
       "    </tr>\n",
       "    <tr>\n",
       "      <th>1794-12-31</th>\n",
       "      <td>0.231112</td>\n",
       "    </tr>\n",
       "    <tr>\n",
       "      <th>1795-12-31</th>\n",
       "      <td>0.223144</td>\n",
       "    </tr>\n",
       "    <tr>\n",
       "      <th>...</th>\n",
       "      <td>...</td>\n",
       "    </tr>\n",
       "    <tr>\n",
       "      <th>2016-12-31</th>\n",
       "      <td>2.839326</td>\n",
       "    </tr>\n",
       "    <tr>\n",
       "      <th>2017-12-31</th>\n",
       "      <td>2.837825</td>\n",
       "    </tr>\n",
       "    <tr>\n",
       "      <th>2018-12-31</th>\n",
       "      <td>2.754026</td>\n",
       "    </tr>\n",
       "    <tr>\n",
       "      <th>2019-12-31</th>\n",
       "      <td>2.785018</td>\n",
       "    </tr>\n",
       "    <tr>\n",
       "      <th>2020-12-31</th>\n",
       "      <td>3.021738</td>\n",
       "    </tr>\n",
       "  </tbody>\n",
       "</table>\n",
       "<p>230 rows × 1 columns</p>\n",
       "</div>"
      ],
      "text/plain": [
       "               Value\n",
       "Date                \n",
       "1791-12-31  0.254642\n",
       "1792-12-31  0.246860\n",
       "1793-12-31  0.254642\n",
       "1794-12-31  0.231112\n",
       "1795-12-31  0.223144\n",
       "...              ...\n",
       "2016-12-31  2.839326\n",
       "2017-12-31  2.837825\n",
       "2018-12-31  2.754026\n",
       "2019-12-31  2.785018\n",
       "2020-12-31  3.021738\n",
       "\n",
       "[230 rows x 1 columns]"
      ]
     },
     "execution_count": 27,
     "metadata": {},
     "output_type": "execute_result"
    }
   ],
   "source": [
    "silver_real_log = silver_real_log[['Year', 'Real ounce closing price USD']]\n",
    "silver_real_log.rename(columns={\"Year\": \"Date\", 'Real ounce closing price USD': 'Value'}, inplace=True)\n",
    "silver_real_log.set_index('Date', inplace=True)\n",
    "silver_real_log.index = pd.to_datetime(silver_real_log.index, format='%Y') + MonthEnd(1)\n",
    "silver_real_log.index = silver_real_log.index.map(lambda x: pd.datetime(x.year, 12, x.day))\n",
    "silver_real_log.apply(lambda x: np.log(x))"
   ]
  },
  {
   "cell_type": "code",
   "execution_count": 28,
   "id": "fa5fd338-10ad-4f46-8e0a-047da38dab18",
   "metadata": {},
   "outputs": [
    {
     "data": {
      "text/html": [
       "<div>\n",
       "<style scoped>\n",
       "    .dataframe tbody tr th:only-of-type {\n",
       "        vertical-align: middle;\n",
       "    }\n",
       "\n",
       "    .dataframe tbody tr th {\n",
       "        vertical-align: top;\n",
       "    }\n",
       "\n",
       "    .dataframe thead th {\n",
       "        text-align: right;\n",
       "    }\n",
       "</style>\n",
       "<table border=\"1\" class=\"dataframe\">\n",
       "  <thead>\n",
       "    <tr style=\"text-align: right;\">\n",
       "      <th></th>\n",
       "      <th>Value</th>\n",
       "    </tr>\n",
       "    <tr>\n",
       "      <th>Date</th>\n",
       "      <th></th>\n",
       "    </tr>\n",
       "  </thead>\n",
       "  <tbody>\n",
       "    <tr>\n",
       "      <th>1791-12-31</th>\n",
       "      <td>1.290000</td>\n",
       "    </tr>\n",
       "    <tr>\n",
       "      <th>1792-12-31</th>\n",
       "      <td>1.280000</td>\n",
       "    </tr>\n",
       "    <tr>\n",
       "      <th>1793-12-31</th>\n",
       "      <td>1.290000</td>\n",
       "    </tr>\n",
       "    <tr>\n",
       "      <th>1794-12-31</th>\n",
       "      <td>1.260000</td>\n",
       "    </tr>\n",
       "    <tr>\n",
       "      <th>1795-12-31</th>\n",
       "      <td>1.250000</td>\n",
       "    </tr>\n",
       "    <tr>\n",
       "      <th>...</th>\n",
       "      <td>...</td>\n",
       "    </tr>\n",
       "    <tr>\n",
       "      <th>2016-12-31</th>\n",
       "      <td>17.104235</td>\n",
       "    </tr>\n",
       "    <tr>\n",
       "      <th>2017-12-31</th>\n",
       "      <td>17.078580</td>\n",
       "    </tr>\n",
       "    <tr>\n",
       "      <th>2018-12-31</th>\n",
       "      <td>15.705742</td>\n",
       "    </tr>\n",
       "    <tr>\n",
       "      <th>2019-12-31</th>\n",
       "      <td>16.200110</td>\n",
       "    </tr>\n",
       "    <tr>\n",
       "      <th>2020-12-31</th>\n",
       "      <td>20.526932</td>\n",
       "    </tr>\n",
       "  </tbody>\n",
       "</table>\n",
       "<p>230 rows × 1 columns</p>\n",
       "</div>"
      ],
      "text/plain": [
       "                Value\n",
       "Date                 \n",
       "1791-12-31   1.290000\n",
       "1792-12-31   1.280000\n",
       "1793-12-31   1.290000\n",
       "1794-12-31   1.260000\n",
       "1795-12-31   1.250000\n",
       "...               ...\n",
       "2016-12-31  17.104235\n",
       "2017-12-31  17.078580\n",
       "2018-12-31  15.705742\n",
       "2019-12-31  16.200110\n",
       "2020-12-31  20.526932\n",
       "\n",
       "[230 rows x 1 columns]"
      ]
     },
     "execution_count": 28,
     "metadata": {},
     "output_type": "execute_result"
    }
   ],
   "source": [
    "silver_real_log"
   ]
  },
  {
   "cell_type": "code",
   "execution_count": 29,
   "id": "4bf76b5e-2e54-4c50-bf3c-28579855aca0",
   "metadata": {},
   "outputs": [
    {
     "data": {
      "application/vnd.plotly.v1+json": {
       "config": {
        "plotlyServerURL": "https://plot.ly"
       },
       "data": [
        {
         "hovertemplate": "variable=Value<br>Date=%{x}<br>value=%{y}<extra></extra>",
         "legendgroup": "Value",
         "line": {
          "color": "#636efa",
          "dash": "solid"
         },
         "mode": "lines",
         "name": "Value",
         "orientation": "v",
         "showlegend": true,
         "type": "scatter",
         "x": [
          "1791-12-31T00:00:00",
          "1792-12-31T00:00:00",
          "1793-12-31T00:00:00",
          "1794-12-31T00:00:00",
          "1795-12-31T00:00:00",
          "1796-12-31T00:00:00",
          "1797-12-31T00:00:00",
          "1798-12-31T00:00:00",
          "1799-12-31T00:00:00",
          "1800-12-31T00:00:00",
          "1801-12-31T00:00:00",
          "1802-12-31T00:00:00",
          "1803-12-31T00:00:00",
          "1804-12-31T00:00:00",
          "1805-12-31T00:00:00",
          "1806-12-31T00:00:00",
          "1807-12-31T00:00:00",
          "1808-12-31T00:00:00",
          "1809-12-31T00:00:00",
          "1810-12-31T00:00:00",
          "1811-12-31T00:00:00",
          "1812-12-31T00:00:00",
          "1813-12-31T00:00:00",
          "1814-12-31T00:00:00",
          "1815-12-31T00:00:00",
          "1816-12-31T00:00:00",
          "1817-12-31T00:00:00",
          "1818-12-31T00:00:00",
          "1819-12-31T00:00:00",
          "1820-12-31T00:00:00",
          "1821-12-31T00:00:00",
          "1822-12-31T00:00:00",
          "1823-12-31T00:00:00",
          "1824-12-31T00:00:00",
          "1825-12-31T00:00:00",
          "1826-12-31T00:00:00",
          "1827-12-31T00:00:00",
          "1828-12-31T00:00:00",
          "1829-12-31T00:00:00",
          "1830-12-31T00:00:00",
          "1831-12-31T00:00:00",
          "1832-12-31T00:00:00",
          "1833-12-31T00:00:00",
          "1834-12-31T00:00:00",
          "1835-12-31T00:00:00",
          "1836-12-31T00:00:00",
          "1837-12-31T00:00:00",
          "1838-12-31T00:00:00",
          "1839-12-31T00:00:00",
          "1840-12-31T00:00:00",
          "1841-12-31T00:00:00",
          "1842-12-31T00:00:00",
          "1843-12-31T00:00:00",
          "1844-12-31T00:00:00",
          "1845-12-31T00:00:00",
          "1846-12-31T00:00:00",
          "1847-12-31T00:00:00",
          "1848-12-31T00:00:00",
          "1849-12-31T00:00:00",
          "1850-12-31T00:00:00",
          "1851-12-31T00:00:00",
          "1852-12-31T00:00:00",
          "1853-12-31T00:00:00",
          "1854-12-31T00:00:00",
          "1855-12-31T00:00:00",
          "1856-12-31T00:00:00",
          "1857-12-31T00:00:00",
          "1858-12-31T00:00:00",
          "1859-12-31T00:00:00",
          "1860-12-31T00:00:00",
          "1861-12-31T00:00:00",
          "1862-12-31T00:00:00",
          "1863-12-31T00:00:00",
          "1864-12-31T00:00:00",
          "1865-12-31T00:00:00",
          "1866-12-31T00:00:00",
          "1867-12-31T00:00:00",
          "1868-12-31T00:00:00",
          "1869-12-31T00:00:00",
          "1870-12-31T00:00:00",
          "1871-12-31T00:00:00",
          "1872-12-31T00:00:00",
          "1873-12-31T00:00:00",
          "1874-12-31T00:00:00",
          "1875-12-31T00:00:00",
          "1876-12-31T00:00:00",
          "1877-12-31T00:00:00",
          "1878-12-31T00:00:00",
          "1879-12-31T00:00:00",
          "1880-12-31T00:00:00",
          "1881-12-31T00:00:00",
          "1882-12-31T00:00:00",
          "1883-12-31T00:00:00",
          "1884-12-31T00:00:00",
          "1885-12-31T00:00:00",
          "1886-12-31T00:00:00",
          "1887-12-31T00:00:00",
          "1888-12-31T00:00:00",
          "1889-12-31T00:00:00",
          "1890-12-31T00:00:00",
          "1891-12-31T00:00:00",
          "1892-12-31T00:00:00",
          "1893-12-31T00:00:00",
          "1894-12-31T00:00:00",
          "1895-12-31T00:00:00",
          "1896-12-31T00:00:00",
          "1897-12-31T00:00:00",
          "1898-12-31T00:00:00",
          "1899-12-31T00:00:00",
          "1900-12-31T00:00:00",
          "1901-12-31T00:00:00",
          "1902-12-31T00:00:00",
          "1903-12-31T00:00:00",
          "1904-12-31T00:00:00",
          "1905-12-31T00:00:00",
          "1906-12-31T00:00:00",
          "1907-12-31T00:00:00",
          "1908-12-31T00:00:00",
          "1909-12-31T00:00:00",
          "1910-12-31T00:00:00",
          "1911-12-31T00:00:00",
          "1912-12-31T00:00:00",
          "1913-12-31T00:00:00",
          "1914-12-31T00:00:00",
          "1915-12-31T00:00:00",
          "1916-12-31T00:00:00",
          "1917-12-31T00:00:00",
          "1918-12-31T00:00:00",
          "1919-12-31T00:00:00",
          "1920-12-31T00:00:00",
          "1921-12-31T00:00:00",
          "1922-12-31T00:00:00",
          "1923-12-31T00:00:00",
          "1924-12-31T00:00:00",
          "1925-12-31T00:00:00",
          "1926-12-31T00:00:00",
          "1927-12-31T00:00:00",
          "1928-12-31T00:00:00",
          "1929-12-31T00:00:00",
          "1930-12-31T00:00:00",
          "1931-12-31T00:00:00",
          "1932-12-31T00:00:00",
          "1933-12-31T00:00:00",
          "1934-12-31T00:00:00",
          "1935-12-31T00:00:00",
          "1936-12-31T00:00:00",
          "1937-12-31T00:00:00",
          "1938-12-31T00:00:00",
          "1939-12-31T00:00:00",
          "1940-12-31T00:00:00",
          "1941-12-31T00:00:00",
          "1942-12-31T00:00:00",
          "1943-12-31T00:00:00",
          "1944-12-31T00:00:00",
          "1945-12-31T00:00:00",
          "1946-12-31T00:00:00",
          "1947-12-31T00:00:00",
          "1948-12-31T00:00:00",
          "1949-12-31T00:00:00",
          "1950-12-31T00:00:00",
          "1951-12-31T00:00:00",
          "1952-12-31T00:00:00",
          "1953-12-31T00:00:00",
          "1954-12-31T00:00:00",
          "1955-12-31T00:00:00",
          "1956-12-31T00:00:00",
          "1957-12-31T00:00:00",
          "1958-12-31T00:00:00",
          "1959-12-31T00:00:00",
          "1960-12-31T00:00:00",
          "1961-12-31T00:00:00",
          "1962-12-31T00:00:00",
          "1963-12-31T00:00:00",
          "1964-12-31T00:00:00",
          "1965-12-31T00:00:00",
          "1966-12-31T00:00:00",
          "1967-12-31T00:00:00",
          "1968-12-31T00:00:00",
          "1969-12-31T00:00:00",
          "1970-12-31T00:00:00",
          "1971-12-31T00:00:00",
          "1972-12-31T00:00:00",
          "1973-12-31T00:00:00",
          "1974-12-31T00:00:00",
          "1975-12-31T00:00:00",
          "1976-12-31T00:00:00",
          "1977-12-31T00:00:00",
          "1978-12-31T00:00:00",
          "1979-12-31T00:00:00",
          "1980-12-31T00:00:00",
          "1981-12-31T00:00:00",
          "1982-12-31T00:00:00",
          "1983-12-31T00:00:00",
          "1984-12-31T00:00:00",
          "1985-12-31T00:00:00",
          "1986-12-31T00:00:00",
          "1987-12-31T00:00:00",
          "1988-12-31T00:00:00",
          "1989-12-31T00:00:00",
          "1990-12-31T00:00:00",
          "1991-12-31T00:00:00",
          "1992-12-31T00:00:00",
          "1993-12-31T00:00:00",
          "1994-12-31T00:00:00",
          "1995-12-31T00:00:00",
          "1996-12-31T00:00:00",
          "1997-12-31T00:00:00",
          "1998-12-31T00:00:00",
          "1999-12-31T00:00:00",
          "2000-12-31T00:00:00",
          "2001-12-31T00:00:00",
          "2002-12-31T00:00:00",
          "2003-12-31T00:00:00",
          "2004-12-31T00:00:00",
          "2005-12-31T00:00:00",
          "2006-12-31T00:00:00",
          "2007-12-31T00:00:00",
          "2008-12-31T00:00:00",
          "2009-12-31T00:00:00",
          "2010-12-31T00:00:00",
          "2011-12-31T00:00:00",
          "2012-12-31T00:00:00",
          "2013-12-31T00:00:00",
          "2014-12-31T00:00:00",
          "2015-12-31T00:00:00",
          "2016-12-31T00:00:00",
          "2017-12-31T00:00:00",
          "2018-12-31T00:00:00",
          "2019-12-31T00:00:00",
          "2020-12-31T00:00:00"
         ],
         "xaxis": "x",
         "y": [
          1.29,
          1.28,
          1.29,
          1.26,
          1.25,
          1.24,
          1.26,
          1.24,
          1.23,
          1.24,
          1.25,
          1.27,
          1.26,
          1.26,
          1.23,
          1.25,
          1.26,
          1.21,
          1.21,
          1.23,
          1.25,
          1.2,
          1.19,
          1.34,
          1.42,
          1.37,
          1.29,
          1.26,
          1.26,
          1.24,
          1.22,
          1.23,
          1.22,
          1.23,
          1.24,
          1.23,
          1.23,
          1.23,
          1.23,
          1.23,
          1.23,
          1.23,
          1.22,
          1.27,
          1.31,
          1.32,
          1.37,
          1.32,
          1.32,
          1.32,
          1.32,
          1.3,
          1.3,
          1.3,
          1.3,
          1.3,
          1.31,
          1.3,
          1.31,
          1.32,
          1.34,
          1.33,
          1.35,
          1.35,
          1.34,
          1.34,
          1.36,
          1.34,
          1.36,
          1.35,
          1.33,
          1.53,
          1.95,
          2.73,
          2.11,
          1.89,
          1.83,
          1.85,
          1.76,
          1.53,
          1.48,
          1.49,
          1.48,
          1.42,
          1.43,
          1.3,
          1.26,
          1.16,
          1.12,
          1.15,
          1.13,
          1.14,
          1.11,
          1.11,
          1.06,
          0.99,
          0.98,
          0.94,
          0.94,
          1.05,
          0.99,
          0.87,
          0.78,
          0.63,
          0.65,
          0.68,
          0.6,
          0.59,
          0.6,
          0.62,
          0.6,
          0.53,
          0.54,
          0.58,
          0.61,
          0.68,
          0.66,
          0.53,
          0.52,
          0.54,
          0.54,
          0.61,
          15,
          13.75,
          12.75,
          13.87163561,
          15.27272727,
          15.26479751,
          15.09433962,
          11.88811189,
          8.213820078,
          9.714285714,
          9.285714286,
          9.571428571,
          9.2,
          8,
          8.050847458,
          8.285714286,
          7.571428571,
          5.428571429,
          4.461538462,
          4.666666667,
          6.272401434,
          8,
          10.83333333,
          7.5,
          7.5,
          7.333333333,
          6.5,
          5.833333333,
          5.6,
          5.571428571,
          6.428571429,
          5.936675462,
          6.5,
          9.501187648,
          7.578947368,
          7.4,
          7.2,
          7.219512195,
          8.090909091,
          7.727272727,
          7.502206531,
          7.391304348,
          8.032490975,
          7.797772065,
          7.583333333,
          7.416666667,
          7.380373074,
          7,
          7.153846154,
          8.384615385,
          9.846153846,
          9.923076923,
          9.499263623,
          9.214285714,
          11.07142857,
          14.5936255,
          11.42507187,
          10.59246974,
          8.997506988,
          9.313932981,
          13.4,
          22.16135756,
          19.24152687,
          17.82739959,
          17.94471176,
          19.41985605,
          35.61102039,
          59.52755906,
          27.00719142,
          19.2044252,
          26.82019616,
          18.32848704,
          13.35334867,
          11.64685328,
          14.44116071,
          12.93554573,
          10.37720875,
          8.654023826,
          6.954299139,
          6.568931713,
          6.984429758,
          8.345614681,
          7.964848264,
          7.751292381,
          7.140329461,
          7.95109185,
          7.333212897,
          6.738108789,
          5.768924719,
          5.979259012,
          6.194918125,
          8.245337754,
          8.756439502,
          13.40290787,
          15.09380387,
          16.26240113,
          16.03745221,
          21.67311994,
          36.48748383,
          31.78543084,
          23.88867389,
          18.56516724,
          15.51388511,
          17.10423497,
          17.07857988,
          15.70574176,
          16.20011019,
          20.52693151
         ],
         "yaxis": "y"
        }
       ],
       "layout": {
        "autosize": true,
        "legend": {
         "title": {
          "text": "variable"
         },
         "tracegroupgap": 0
        },
        "margin": {
         "t": 60
        },
        "template": {
         "data": {
          "bar": [
           {
            "error_x": {
             "color": "#2a3f5f"
            },
            "error_y": {
             "color": "#2a3f5f"
            },
            "marker": {
             "line": {
              "color": "#E5ECF6",
              "width": 0.5
             }
            },
            "type": "bar"
           }
          ],
          "barpolar": [
           {
            "marker": {
             "line": {
              "color": "#E5ECF6",
              "width": 0.5
             }
            },
            "type": "barpolar"
           }
          ],
          "carpet": [
           {
            "aaxis": {
             "endlinecolor": "#2a3f5f",
             "gridcolor": "white",
             "linecolor": "white",
             "minorgridcolor": "white",
             "startlinecolor": "#2a3f5f"
            },
            "baxis": {
             "endlinecolor": "#2a3f5f",
             "gridcolor": "white",
             "linecolor": "white",
             "minorgridcolor": "white",
             "startlinecolor": "#2a3f5f"
            },
            "type": "carpet"
           }
          ],
          "choropleth": [
           {
            "colorbar": {
             "outlinewidth": 0,
             "ticks": ""
            },
            "type": "choropleth"
           }
          ],
          "contour": [
           {
            "colorbar": {
             "outlinewidth": 0,
             "ticks": ""
            },
            "colorscale": [
             [
              0,
              "#0d0887"
             ],
             [
              0.1111111111111111,
              "#46039f"
             ],
             [
              0.2222222222222222,
              "#7201a8"
             ],
             [
              0.3333333333333333,
              "#9c179e"
             ],
             [
              0.4444444444444444,
              "#bd3786"
             ],
             [
              0.5555555555555556,
              "#d8576b"
             ],
             [
              0.6666666666666666,
              "#ed7953"
             ],
             [
              0.7777777777777778,
              "#fb9f3a"
             ],
             [
              0.8888888888888888,
              "#fdca26"
             ],
             [
              1,
              "#f0f921"
             ]
            ],
            "type": "contour"
           }
          ],
          "contourcarpet": [
           {
            "colorbar": {
             "outlinewidth": 0,
             "ticks": ""
            },
            "type": "contourcarpet"
           }
          ],
          "heatmap": [
           {
            "colorbar": {
             "outlinewidth": 0,
             "ticks": ""
            },
            "colorscale": [
             [
              0,
              "#0d0887"
             ],
             [
              0.1111111111111111,
              "#46039f"
             ],
             [
              0.2222222222222222,
              "#7201a8"
             ],
             [
              0.3333333333333333,
              "#9c179e"
             ],
             [
              0.4444444444444444,
              "#bd3786"
             ],
             [
              0.5555555555555556,
              "#d8576b"
             ],
             [
              0.6666666666666666,
              "#ed7953"
             ],
             [
              0.7777777777777778,
              "#fb9f3a"
             ],
             [
              0.8888888888888888,
              "#fdca26"
             ],
             [
              1,
              "#f0f921"
             ]
            ],
            "type": "heatmap"
           }
          ],
          "heatmapgl": [
           {
            "colorbar": {
             "outlinewidth": 0,
             "ticks": ""
            },
            "colorscale": [
             [
              0,
              "#0d0887"
             ],
             [
              0.1111111111111111,
              "#46039f"
             ],
             [
              0.2222222222222222,
              "#7201a8"
             ],
             [
              0.3333333333333333,
              "#9c179e"
             ],
             [
              0.4444444444444444,
              "#bd3786"
             ],
             [
              0.5555555555555556,
              "#d8576b"
             ],
             [
              0.6666666666666666,
              "#ed7953"
             ],
             [
              0.7777777777777778,
              "#fb9f3a"
             ],
             [
              0.8888888888888888,
              "#fdca26"
             ],
             [
              1,
              "#f0f921"
             ]
            ],
            "type": "heatmapgl"
           }
          ],
          "histogram": [
           {
            "marker": {
             "colorbar": {
              "outlinewidth": 0,
              "ticks": ""
             }
            },
            "type": "histogram"
           }
          ],
          "histogram2d": [
           {
            "colorbar": {
             "outlinewidth": 0,
             "ticks": ""
            },
            "colorscale": [
             [
              0,
              "#0d0887"
             ],
             [
              0.1111111111111111,
              "#46039f"
             ],
             [
              0.2222222222222222,
              "#7201a8"
             ],
             [
              0.3333333333333333,
              "#9c179e"
             ],
             [
              0.4444444444444444,
              "#bd3786"
             ],
             [
              0.5555555555555556,
              "#d8576b"
             ],
             [
              0.6666666666666666,
              "#ed7953"
             ],
             [
              0.7777777777777778,
              "#fb9f3a"
             ],
             [
              0.8888888888888888,
              "#fdca26"
             ],
             [
              1,
              "#f0f921"
             ]
            ],
            "type": "histogram2d"
           }
          ],
          "histogram2dcontour": [
           {
            "colorbar": {
             "outlinewidth": 0,
             "ticks": ""
            },
            "colorscale": [
             [
              0,
              "#0d0887"
             ],
             [
              0.1111111111111111,
              "#46039f"
             ],
             [
              0.2222222222222222,
              "#7201a8"
             ],
             [
              0.3333333333333333,
              "#9c179e"
             ],
             [
              0.4444444444444444,
              "#bd3786"
             ],
             [
              0.5555555555555556,
              "#d8576b"
             ],
             [
              0.6666666666666666,
              "#ed7953"
             ],
             [
              0.7777777777777778,
              "#fb9f3a"
             ],
             [
              0.8888888888888888,
              "#fdca26"
             ],
             [
              1,
              "#f0f921"
             ]
            ],
            "type": "histogram2dcontour"
           }
          ],
          "mesh3d": [
           {
            "colorbar": {
             "outlinewidth": 0,
             "ticks": ""
            },
            "type": "mesh3d"
           }
          ],
          "parcoords": [
           {
            "line": {
             "colorbar": {
              "outlinewidth": 0,
              "ticks": ""
             }
            },
            "type": "parcoords"
           }
          ],
          "pie": [
           {
            "automargin": true,
            "type": "pie"
           }
          ],
          "scatter": [
           {
            "marker": {
             "colorbar": {
              "outlinewidth": 0,
              "ticks": ""
             }
            },
            "type": "scatter"
           }
          ],
          "scatter3d": [
           {
            "line": {
             "colorbar": {
              "outlinewidth": 0,
              "ticks": ""
             }
            },
            "marker": {
             "colorbar": {
              "outlinewidth": 0,
              "ticks": ""
             }
            },
            "type": "scatter3d"
           }
          ],
          "scattercarpet": [
           {
            "marker": {
             "colorbar": {
              "outlinewidth": 0,
              "ticks": ""
             }
            },
            "type": "scattercarpet"
           }
          ],
          "scattergeo": [
           {
            "marker": {
             "colorbar": {
              "outlinewidth": 0,
              "ticks": ""
             }
            },
            "type": "scattergeo"
           }
          ],
          "scattergl": [
           {
            "marker": {
             "colorbar": {
              "outlinewidth": 0,
              "ticks": ""
             }
            },
            "type": "scattergl"
           }
          ],
          "scattermapbox": [
           {
            "marker": {
             "colorbar": {
              "outlinewidth": 0,
              "ticks": ""
             }
            },
            "type": "scattermapbox"
           }
          ],
          "scatterpolar": [
           {
            "marker": {
             "colorbar": {
              "outlinewidth": 0,
              "ticks": ""
             }
            },
            "type": "scatterpolar"
           }
          ],
          "scatterpolargl": [
           {
            "marker": {
             "colorbar": {
              "outlinewidth": 0,
              "ticks": ""
             }
            },
            "type": "scatterpolargl"
           }
          ],
          "scatterternary": [
           {
            "marker": {
             "colorbar": {
              "outlinewidth": 0,
              "ticks": ""
             }
            },
            "type": "scatterternary"
           }
          ],
          "surface": [
           {
            "colorbar": {
             "outlinewidth": 0,
             "ticks": ""
            },
            "colorscale": [
             [
              0,
              "#0d0887"
             ],
             [
              0.1111111111111111,
              "#46039f"
             ],
             [
              0.2222222222222222,
              "#7201a8"
             ],
             [
              0.3333333333333333,
              "#9c179e"
             ],
             [
              0.4444444444444444,
              "#bd3786"
             ],
             [
              0.5555555555555556,
              "#d8576b"
             ],
             [
              0.6666666666666666,
              "#ed7953"
             ],
             [
              0.7777777777777778,
              "#fb9f3a"
             ],
             [
              0.8888888888888888,
              "#fdca26"
             ],
             [
              1,
              "#f0f921"
             ]
            ],
            "type": "surface"
           }
          ],
          "table": [
           {
            "cells": {
             "fill": {
              "color": "#EBF0F8"
             },
             "line": {
              "color": "white"
             }
            },
            "header": {
             "fill": {
              "color": "#C8D4E3"
             },
             "line": {
              "color": "white"
             }
            },
            "type": "table"
           }
          ]
         },
         "layout": {
          "annotationdefaults": {
           "arrowcolor": "#2a3f5f",
           "arrowhead": 0,
           "arrowwidth": 1
          },
          "autotypenumbers": "strict",
          "coloraxis": {
           "colorbar": {
            "outlinewidth": 0,
            "ticks": ""
           }
          },
          "colorscale": {
           "diverging": [
            [
             0,
             "#8e0152"
            ],
            [
             0.1,
             "#c51b7d"
            ],
            [
             0.2,
             "#de77ae"
            ],
            [
             0.3,
             "#f1b6da"
            ],
            [
             0.4,
             "#fde0ef"
            ],
            [
             0.5,
             "#f7f7f7"
            ],
            [
             0.6,
             "#e6f5d0"
            ],
            [
             0.7,
             "#b8e186"
            ],
            [
             0.8,
             "#7fbc41"
            ],
            [
             0.9,
             "#4d9221"
            ],
            [
             1,
             "#276419"
            ]
           ],
           "sequential": [
            [
             0,
             "#0d0887"
            ],
            [
             0.1111111111111111,
             "#46039f"
            ],
            [
             0.2222222222222222,
             "#7201a8"
            ],
            [
             0.3333333333333333,
             "#9c179e"
            ],
            [
             0.4444444444444444,
             "#bd3786"
            ],
            [
             0.5555555555555556,
             "#d8576b"
            ],
            [
             0.6666666666666666,
             "#ed7953"
            ],
            [
             0.7777777777777778,
             "#fb9f3a"
            ],
            [
             0.8888888888888888,
             "#fdca26"
            ],
            [
             1,
             "#f0f921"
            ]
           ],
           "sequentialminus": [
            [
             0,
             "#0d0887"
            ],
            [
             0.1111111111111111,
             "#46039f"
            ],
            [
             0.2222222222222222,
             "#7201a8"
            ],
            [
             0.3333333333333333,
             "#9c179e"
            ],
            [
             0.4444444444444444,
             "#bd3786"
            ],
            [
             0.5555555555555556,
             "#d8576b"
            ],
            [
             0.6666666666666666,
             "#ed7953"
            ],
            [
             0.7777777777777778,
             "#fb9f3a"
            ],
            [
             0.8888888888888888,
             "#fdca26"
            ],
            [
             1,
             "#f0f921"
            ]
           ]
          },
          "colorway": [
           "#636efa",
           "#EF553B",
           "#00cc96",
           "#ab63fa",
           "#FFA15A",
           "#19d3f3",
           "#FF6692",
           "#B6E880",
           "#FF97FF",
           "#FECB52"
          ],
          "font": {
           "color": "#2a3f5f"
          },
          "geo": {
           "bgcolor": "white",
           "lakecolor": "white",
           "landcolor": "#E5ECF6",
           "showlakes": true,
           "showland": true,
           "subunitcolor": "white"
          },
          "hoverlabel": {
           "align": "left"
          },
          "hovermode": "closest",
          "mapbox": {
           "style": "light"
          },
          "paper_bgcolor": "white",
          "plot_bgcolor": "#E5ECF6",
          "polar": {
           "angularaxis": {
            "gridcolor": "white",
            "linecolor": "white",
            "ticks": ""
           },
           "bgcolor": "#E5ECF6",
           "radialaxis": {
            "gridcolor": "white",
            "linecolor": "white",
            "ticks": ""
           }
          },
          "scene": {
           "xaxis": {
            "backgroundcolor": "#E5ECF6",
            "gridcolor": "white",
            "gridwidth": 2,
            "linecolor": "white",
            "showbackground": true,
            "ticks": "",
            "zerolinecolor": "white"
           },
           "yaxis": {
            "backgroundcolor": "#E5ECF6",
            "gridcolor": "white",
            "gridwidth": 2,
            "linecolor": "white",
            "showbackground": true,
            "ticks": "",
            "zerolinecolor": "white"
           },
           "zaxis": {
            "backgroundcolor": "#E5ECF6",
            "gridcolor": "white",
            "gridwidth": 2,
            "linecolor": "white",
            "showbackground": true,
            "ticks": "",
            "zerolinecolor": "white"
           }
          },
          "shapedefaults": {
           "line": {
            "color": "#2a3f5f"
           }
          },
          "ternary": {
           "aaxis": {
            "gridcolor": "white",
            "linecolor": "white",
            "ticks": ""
           },
           "baxis": {
            "gridcolor": "white",
            "linecolor": "white",
            "ticks": ""
           },
           "bgcolor": "#E5ECF6",
           "caxis": {
            "gridcolor": "white",
            "linecolor": "white",
            "ticks": ""
           }
          },
          "title": {
           "x": 0.05
          },
          "xaxis": {
           "automargin": true,
           "gridcolor": "white",
           "linecolor": "white",
           "ticks": "",
           "title": {
            "standoff": 15
           },
           "zerolinecolor": "white",
           "zerolinewidth": 2
          },
          "yaxis": {
           "automargin": true,
           "gridcolor": "white",
           "linecolor": "white",
           "ticks": "",
           "title": {
            "standoff": 15
           },
           "zerolinecolor": "white",
           "zerolinewidth": 2
          }
         }
        },
        "xaxis": {
         "anchor": "y",
         "autorange": true,
         "domain": [
          0,
          1
         ],
         "range": [
          "1791-12-31",
          "2020-12-31"
         ],
         "title": {
          "text": "Date"
         },
         "type": "date"
        },
        "yaxis": {
         "anchor": "x",
         "autorange": true,
         "domain": [
          0,
          1
         ],
         "range": [
          -2.758197725555555,
          62.80575678555556
         ],
         "title": {
          "text": "value"
         },
         "type": "linear"
        }
       }
      },
      "image/png": "[encoded data removed]",
      "text/html": [
       "<div>                            <div id=\"46bf9e75-e7ad-4130-8eab-5767697912dc\" class=\"plotly-graph-div\" style=\"height:525px; width:100%;\"></div>            <script type=\"text/javascript\">                require([\"plotly\"], function(Plotly) {                    window.PLOTLYENV=window.PLOTLYENV || {};                                    if (document.getElementById(\"46bf9e75-e7ad-4130-8eab-5767697912dc\")) {                    Plotly.newPlot(                        \"46bf9e75-e7ad-4130-8eab-5767697912dc\",                        [{\"hovertemplate\": \"variable=Value<br>Date=%{x}<br>value=%{y}<extra></extra>\", \"legendgroup\": \"Value\", \"line\": {\"color\": \"#636efa\", \"dash\": \"solid\"}, \"mode\": \"lines\", \"name\": \"Value\", \"orientation\": \"v\", \"showlegend\": true, \"type\": \"scatter\", \"x\": [\"1791-12-31T00:00:00\", \"1792-12-31T00:00:00\", \"1793-12-31T00:00:00\", \"1794-12-31T00:00:00\", \"1795-12-31T00:00:00\", \"1796-12-31T00:00:00\", \"1797-12-31T00:00:00\", \"1798-12-31T00:00:00\", \"1799-12-31T00:00:00\", \"1800-12-31T00:00:00\", \"1801-12-31T00:00:00\", \"1802-12-31T00:00:00\", \"1803-12-31T00:00:00\", \"1804-12-31T00:00:00\", \"1805-12-31T00:00:00\", \"1806-12-31T00:00:00\", \"1807-12-31T00:00:00\", \"1808-12-31T00:00:00\", \"1809-12-31T00:00:00\", \"1810-12-31T00:00:00\", \"1811-12-31T00:00:00\", \"1812-12-31T00:00:00\", \"1813-12-31T00:00:00\", \"1814-12-31T00:00:00\", \"1815-12-31T00:00:00\", \"1816-12-31T00:00:00\", \"1817-12-31T00:00:00\", \"1818-12-31T00:00:00\", \"1819-12-31T00:00:00\", \"1820-12-31T00:00:00\", \"1821-12-31T00:00:00\", \"1822-12-31T00:00:00\", \"1823-12-31T00:00:00\", \"1824-12-31T00:00:00\", \"1825-12-31T00:00:00\", \"1826-12-31T00:00:00\", \"1827-12-31T00:00:00\", \"1828-12-31T00:00:00\", \"1829-12-31T00:00:00\", \"1830-12-31T00:00:00\", \"1831-12-31T00:00:00\", \"1832-12-31T00:00:00\", \"1833-12-31T00:00:00\", \"1834-12-31T00:00:00\", \"1835-12-31T00:00:00\", \"1836-12-31T00:00:00\", \"1837-12-31T00:00:00\", \"1838-12-31T00:00:00\", \"1839-12-31T00:00:00\", \"1840-12-31T00:00:00\", \"1841-12-31T00:00:00\", \"1842-12-31T00:00:00\", \"1843-12-31T00:00:00\", \"1844-12-31T00:00:00\", \"1845-12-31T00:00:00\", \"1846-12-31T00:00:00\", \"1847-12-31T00:00:00\", \"1848-12-31T00:00:00\", \"1849-12-31T00:00:00\", \"1850-12-31T00:00:00\", \"1851-12-31T00:00:00\", \"1852-12-31T00:00:00\", \"1853-12-31T00:00:00\", \"1854-12-31T00:00:00\", \"1855-12-31T00:00:00\", \"1856-12-31T00:00:00\", \"1857-12-31T00:00:00\", \"1858-12-31T00:00:00\", \"1859-12-31T00:00:00\", \"1860-12-31T00:00:00\", \"1861-12-31T00:00:00\", \"1862-12-31T00:00:00\", \"1863-12-31T00:00:00\", \"1864-12-31T00:00:00\", \"1865-12-31T00:00:00\", \"1866-12-31T00:00:00\", \"1867-12-31T00:00:00\", \"1868-12-31T00:00:00\", \"1869-12-31T00:00:00\", \"1870-12-31T00:00:00\", \"1871-12-31T00:00:00\", \"1872-12-31T00:00:00\", \"1873-12-31T00:00:00\", \"1874-12-31T00:00:00\", \"1875-12-31T00:00:00\", \"1876-12-31T00:00:00\", \"1877-12-31T00:00:00\", \"1878-12-31T00:00:00\", \"1879-12-31T00:00:00\", \"1880-12-31T00:00:00\", \"1881-12-31T00:00:00\", \"1882-12-31T00:00:00\", \"1883-12-31T00:00:00\", \"1884-12-31T00:00:00\", \"1885-12-31T00:00:00\", \"1886-12-31T00:00:00\", \"1887-12-31T00:00:00\", \"1888-12-31T00:00:00\", \"1889-12-31T00:00:00\", \"1890-12-31T00:00:00\", \"1891-12-31T00:00:00\", \"1892-12-31T00:00:00\", \"1893-12-31T00:00:00\", \"1894-12-31T00:00:00\", \"1895-12-31T00:00:00\", \"1896-12-31T00:00:00\", \"1897-12-31T00:00:00\", \"1898-12-31T00:00:00\", \"1899-12-31T00:00:00\", \"1900-12-31T00:00:00\", \"1901-12-31T00:00:00\", \"1902-12-31T00:00:00\", \"1903-12-31T00:00:00\", \"1904-12-31T00:00:00\", \"1905-12-31T00:00:00\", \"1906-12-31T00:00:00\", \"1907-12-31T00:00:00\", \"1908-12-31T00:00:00\", \"1909-12-31T00:00:00\", \"1910-12-31T00:00:00\", \"1911-12-31T00:00:00\", \"1912-12-31T00:00:00\", \"1913-12-31T00:00:00\", \"1914-12-31T00:00:00\", \"1915-12-31T00:00:00\", \"1916-12-31T00:00:00\", \"1917-12-31T00:00:00\", \"1918-12-31T00:00:00\", \"1919-12-31T00:00:00\", \"1920-12-31T00:00:00\", \"1921-12-31T00:00:00\", \"1922-12-31T00:00:00\", \"1923-12-31T00:00:00\", \"1924-12-31T00:00:00\", \"1925-12-31T00:00:00\", \"1926-12-31T00:00:00\", \"1927-12-31T00:00:00\", \"1928-12-31T00:00:00\", \"1929-12-31T00:00:00\", \"1930-12-31T00:00:00\", \"1931-12-31T00:00:00\", \"1932-12-31T00:00:00\", \"1933-12-31T00:00:00\", \"1934-12-31T00:00:00\", \"1935-12-31T00:00:00\", \"1936-12-31T00:00:00\", \"1937-12-31T00:00:00\", \"1938-12-31T00:00:00\", \"1939-12-31T00:00:00\", \"1940-12-31T00:00:00\", \"1941-12-31T00:00:00\", \"1942-12-31T00:00:00\", \"1943-12-31T00:00:00\", \"1944-12-31T00:00:00\", \"1945-12-31T00:00:00\", \"1946-12-31T00:00:00\", \"1947-12-31T00:00:00\", \"1948-12-31T00:00:00\", \"1949-12-31T00:00:00\", \"1950-12-31T00:00:00\", \"1951-12-31T00:00:00\", \"1952-12-31T00:00:00\", \"1953-12-31T00:00:00\", \"1954-12-31T00:00:00\", \"1955-12-31T00:00:00\", \"1956-12-31T00:00:00\", \"1957-12-31T00:00:00\", \"1958-12-31T00:00:00\", \"1959-12-31T00:00:00\", \"1960-12-31T00:00:00\", \"1961-12-31T00:00:00\", \"1962-12-31T00:00:00\", \"1963-12-31T00:00:00\", \"1964-12-31T00:00:00\", \"1965-12-31T00:00:00\", \"1966-12-31T00:00:00\", \"1967-12-31T00:00:00\", \"1968-12-31T00:00:00\", \"1969-12-31T00:00:00\", \"1970-12-31T00:00:00\", \"1971-12-31T00:00:00\", \"1972-12-31T00:00:00\", \"1973-12-31T00:00:00\", \"1974-12-31T00:00:00\", \"1975-12-31T00:00:00\", \"1976-12-31T00:00:00\", \"1977-12-31T00:00:00\", \"1978-12-31T00:00:00\", \"1979-12-31T00:00:00\", \"1980-12-31T00:00:00\", \"1981-12-31T00:00:00\", \"1982-12-31T00:00:00\", \"1983-12-31T00:00:00\", \"1984-12-31T00:00:00\", \"1985-12-31T00:00:00\", \"1986-12-31T00:00:00\", \"1987-12-31T00:00:00\", \"1988-12-31T00:00:00\", \"1989-12-31T00:00:00\", \"1990-12-31T00:00:00\", \"1991-12-31T00:00:00\", \"1992-12-31T00:00:00\", \"1993-12-31T00:00:00\", \"1994-12-31T00:00:00\", \"1995-12-31T00:00:00\", \"1996-12-31T00:00:00\", \"1997-12-31T00:00:00\", \"1998-12-31T00:00:00\", \"1999-12-31T00:00:00\", \"2000-12-31T00:00:00\", \"2001-12-31T00:00:00\", \"2002-12-31T00:00:00\", \"2003-12-31T00:00:00\", \"2004-12-31T00:00:00\", \"2005-12-31T00:00:00\", \"2006-12-31T00:00:00\", \"2007-12-31T00:00:00\", \"2008-12-31T00:00:00\", \"2009-12-31T00:00:00\", \"2010-12-31T00:00:00\", \"2011-12-31T00:00:00\", \"2012-12-31T00:00:00\", \"2013-12-31T00:00:00\", \"2014-12-31T00:00:00\", \"2015-12-31T00:00:00\", \"2016-12-31T00:00:00\", \"2017-12-31T00:00:00\", \"2018-12-31T00:00:00\", \"2019-12-31T00:00:00\", \"2020-12-31T00:00:00\"], \"xaxis\": \"x\", \"y\": [1.29, 1.28, 1.29, 1.26, 1.25, 1.24, 1.26, 1.24, 1.23, 1.24, 1.25, 1.27, 1.26, 1.26, 1.23, 1.25, 1.26, 1.21, 1.21, 1.23, 1.25, 1.2, 1.19, 1.34, 1.42, 1.37, 1.29, 1.26, 1.26, 1.24, 1.22, 1.23, 1.22, 1.23, 1.24, 1.23, 1.23, 1.23, 1.23, 1.23, 1.23, 1.23, 1.22, 1.27, 1.31, 1.32, 1.37, 1.32, 1.32, 1.32, 1.32, 1.3, 1.3, 1.3, 1.3, 1.3, 1.31, 1.3, 1.31, 1.32, 1.34, 1.33, 1.35, 1.35, 1.34, 1.34, 1.36, 1.34, 1.36, 1.35, 1.33, 1.53, 1.95, 2.73, 2.11, 1.89, 1.83, 1.85, 1.76, 1.53, 1.48, 1.49, 1.48, 1.42, 1.43, 1.3, 1.26, 1.16, 1.12, 1.15, 1.13, 1.14, 1.11, 1.11, 1.06, 0.99, 0.98, 0.94, 0.94, 1.05, 0.99, 0.87, 0.78, 0.63, 0.65, 0.68, 0.6, 0.59, 0.6, 0.62, 0.6, 0.53, 0.54, 0.58, 0.61, 0.68, 0.66, 0.53, 0.52, 0.54, 0.54, 0.61, 15.0, 13.75, 12.75, 13.87163561, 15.27272727, 15.26479751, 15.09433962, 11.88811189, 8.213820078, 9.714285714, 9.285714286, 9.571428571, 9.2, 8.0, 8.050847458, 8.285714286, 7.571428571, 5.428571429, 4.461538462, 4.666666667, 6.272401434, 8.0, 10.83333333, 7.5, 7.5, 7.333333333, 6.5, 5.833333333, 5.6, 5.571428571, 6.428571429, 5.936675462, 6.5, 9.501187648, 7.578947368, 7.4, 7.2, 7.219512195, 8.090909091, 7.727272727, 7.502206531, 7.391304348, 8.032490975, 7.797772065, 7.583333333, 7.416666667, 7.380373074, 7.0, 7.153846154, 8.384615385, 9.846153846, 9.923076923, 9.499263623, 9.214285714, 11.07142857, 14.5936255, 11.42507187, 10.59246974, 8.997506988, 9.313932981, 13.4, 22.16135756, 19.24152687, 17.82739959, 17.94471176, 19.41985605, 35.61102039, 59.52755906, 27.00719142, 19.2044252, 26.82019616, 18.32848704, 13.35334867, 11.64685328, 14.44116071, 12.93554573, 10.37720875, 8.654023826, 6.954299139, 6.568931713, 6.984429758, 8.345614681, 7.964848264, 7.751292381, 7.140329461, 7.95109185, 7.333212897, 6.738108789, 5.768924719, 5.979259012, 6.194918125, 8.245337754, 8.756439502, 13.40290787, 15.09380387, 16.26240113, 16.03745221, 21.67311994, 36.48748383, 31.78543084, 23.88867389, 18.56516724, 15.51388511, 17.10423497, 17.07857988, 15.70574176, 16.20011019, 20.52693151], \"yaxis\": \"y\"}],                        {\"legend\": {\"title\": {\"text\": \"variable\"}, \"tracegroupgap\": 0}, \"margin\": {\"t\": 60}, \"template\": {\"data\": {\"bar\": [{\"error_x\": {\"color\": \"#2a3f5f\"}, \"error_y\": {\"color\": \"#2a3f5f\"}, \"marker\": {\"line\": {\"color\": \"#E5ECF6\", \"width\": 0.5}}, \"type\": \"bar\"}], \"barpolar\": [{\"marker\": {\"line\": {\"color\": \"#E5ECF6\", \"width\": 0.5}}, \"type\": \"barpolar\"}], \"carpet\": [{\"aaxis\": {\"endlinecolor\": \"#2a3f5f\", \"gridcolor\": \"white\", \"linecolor\": \"white\", \"minorgridcolor\": \"white\", \"startlinecolor\": \"#2a3f5f\"}, \"baxis\": {\"endlinecolor\": \"#2a3f5f\", \"gridcolor\": \"white\", \"linecolor\": \"white\", \"minorgridcolor\": \"white\", \"startlinecolor\": \"#2a3f5f\"}, \"type\": \"carpet\"}], \"choropleth\": [{\"colorbar\": {\"outlinewidth\": 0, \"ticks\": \"\"}, \"type\": \"choropleth\"}], \"contour\": [{\"colorbar\": {\"outlinewidth\": 0, \"ticks\": \"\"}, \"colorscale\": [[0.0, \"#0d0887\"], [0.1111111111111111, \"#46039f\"], [0.2222222222222222, \"#7201a8\"], [0.3333333333333333, \"#9c179e\"], [0.4444444444444444, \"#bd3786\"], [0.5555555555555556, \"#d8576b\"], [0.6666666666666666, \"#ed7953\"], [0.7777777777777778, \"#fb9f3a\"], [0.8888888888888888, \"#fdca26\"], [1.0, \"#f0f921\"]], \"type\": \"contour\"}], \"contourcarpet\": [{\"colorbar\": {\"outlinewidth\": 0, \"ticks\": \"\"}, \"type\": \"contourcarpet\"}], \"heatmap\": [{\"colorbar\": {\"outlinewidth\": 0, \"ticks\": \"\"}, \"colorscale\": [[0.0, \"#0d0887\"], [0.1111111111111111, \"#46039f\"], [0.2222222222222222, \"#7201a8\"], [0.3333333333333333, \"#9c179e\"], [0.4444444444444444, \"#bd3786\"], [0.5555555555555556, \"#d8576b\"], [0.6666666666666666, \"#ed7953\"], [0.7777777777777778, \"#fb9f3a\"], [0.8888888888888888, \"#fdca26\"], [1.0, \"#f0f921\"]], \"type\": \"heatmap\"}], \"heatmapgl\": [{\"colorbar\": {\"outlinewidth\": 0, \"ticks\": \"\"}, \"colorscale\": [[0.0, \"#0d0887\"], [0.1111111111111111, \"#46039f\"], [0.2222222222222222, \"#7201a8\"], [0.3333333333333333, \"#9c179e\"], [0.4444444444444444, \"#bd3786\"], [0.5555555555555556, \"#d8576b\"], [0.6666666666666666, \"#ed7953\"], [0.7777777777777778, \"#fb9f3a\"], [0.8888888888888888, \"#fdca26\"], [1.0, \"#f0f921\"]], \"type\": \"heatmapgl\"}], \"histogram\": [{\"marker\": {\"colorbar\": {\"outlinewidth\": 0, \"ticks\": \"\"}}, \"type\": \"histogram\"}], \"histogram2d\": [{\"colorbar\": {\"outlinewidth\": 0, \"ticks\": \"\"}, \"colorscale\": [[0.0, \"#0d0887\"], [0.1111111111111111, \"#46039f\"], [0.2222222222222222, \"#7201a8\"], [0.3333333333333333, \"#9c179e\"], [0.4444444444444444, \"#bd3786\"], [0.5555555555555556, \"#d8576b\"], [0.6666666666666666, \"#ed7953\"], [0.7777777777777778, \"#fb9f3a\"], [0.8888888888888888, \"#fdca26\"], [1.0, \"#f0f921\"]], \"type\": \"histogram2d\"}], \"histogram2dcontour\": [{\"colorbar\": {\"outlinewidth\": 0, \"ticks\": \"\"}, \"colorscale\": [[0.0, \"#0d0887\"], [0.1111111111111111, \"#46039f\"], [0.2222222222222222, \"#7201a8\"], [0.3333333333333333, \"#9c179e\"], [0.4444444444444444, \"#bd3786\"], [0.5555555555555556, \"#d8576b\"], [0.6666666666666666, \"#ed7953\"], [0.7777777777777778, \"#fb9f3a\"], [0.8888888888888888, \"#fdca26\"], [1.0, \"#f0f921\"]], \"type\": \"histogram2dcontour\"}], \"mesh3d\": [{\"colorbar\": {\"outlinewidth\": 0, \"ticks\": \"\"}, \"type\": \"mesh3d\"}], \"parcoords\": [{\"line\": {\"colorbar\": {\"outlinewidth\": 0, \"ticks\": \"\"}}, \"type\": \"parcoords\"}], \"pie\": [{\"automargin\": true, \"type\": \"pie\"}], \"scatter\": [{\"marker\": {\"colorbar\": {\"outlinewidth\": 0, \"ticks\": \"\"}}, \"type\": \"scatter\"}], \"scatter3d\": [{\"line\": {\"colorbar\": {\"outlinewidth\": 0, \"ticks\": \"\"}}, \"marker\": {\"colorbar\": {\"outlinewidth\": 0, \"ticks\": \"\"}}, \"type\": \"scatter3d\"}], \"scattercarpet\": [{\"marker\": {\"colorbar\": {\"outlinewidth\": 0, \"ticks\": \"\"}}, \"type\": \"scattercarpet\"}], \"scattergeo\": [{\"marker\": {\"colorbar\": {\"outlinewidth\": 0, \"ticks\": \"\"}}, \"type\": \"scattergeo\"}], \"scattergl\": [{\"marker\": {\"colorbar\": {\"outlinewidth\": 0, \"ticks\": \"\"}}, \"type\": \"scattergl\"}], \"scattermapbox\": [{\"marker\": {\"colorbar\": {\"outlinewidth\": 0, \"ticks\": \"\"}}, \"type\": \"scattermapbox\"}], \"scatterpolar\": [{\"marker\": {\"colorbar\": {\"outlinewidth\": 0, \"ticks\": \"\"}}, \"type\": \"scatterpolar\"}], \"scatterpolargl\": [{\"marker\": {\"colorbar\": {\"outlinewidth\": 0, \"ticks\": \"\"}}, \"type\": \"scatterpolargl\"}], \"scatterternary\": [{\"marker\": {\"colorbar\": {\"outlinewidth\": 0, \"ticks\": \"\"}}, \"type\": \"scatterternary\"}], \"surface\": [{\"colorbar\": {\"outlinewidth\": 0, \"ticks\": \"\"}, \"colorscale\": [[0.0, \"#0d0887\"], [0.1111111111111111, \"#46039f\"], [0.2222222222222222, \"#7201a8\"], [0.3333333333333333, \"#9c179e\"], [0.4444444444444444, \"#bd3786\"], [0.5555555555555556, \"#d8576b\"], [0.6666666666666666, \"#ed7953\"], [0.7777777777777778, \"#fb9f3a\"], [0.8888888888888888, \"#fdca26\"], [1.0, \"#f0f921\"]], \"type\": \"surface\"}], \"table\": [{\"cells\": {\"fill\": {\"color\": \"#EBF0F8\"}, \"line\": {\"color\": \"white\"}}, \"header\": {\"fill\": {\"color\": \"#C8D4E3\"}, \"line\": {\"color\": \"white\"}}, \"type\": \"table\"}]}, \"layout\": {\"annotationdefaults\": {\"arrowcolor\": \"#2a3f5f\", \"arrowhead\": 0, \"arrowwidth\": 1}, \"autotypenumbers\": \"strict\", \"coloraxis\": {\"colorbar\": {\"outlinewidth\": 0, \"ticks\": \"\"}}, \"colorscale\": {\"diverging\": [[0, \"#8e0152\"], [0.1, \"#c51b7d\"], [0.2, \"#de77ae\"], [0.3, \"#f1b6da\"], [0.4, \"#fde0ef\"], [0.5, \"#f7f7f7\"], [0.6, \"#e6f5d0\"], [0.7, \"#b8e186\"], [0.8, \"#7fbc41\"], [0.9, \"#4d9221\"], [1, \"#276419\"]], \"sequential\": [[0.0, \"#0d0887\"], [0.1111111111111111, \"#46039f\"], [0.2222222222222222, \"#7201a8\"], [0.3333333333333333, \"#9c179e\"], [0.4444444444444444, \"#bd3786\"], [0.5555555555555556, \"#d8576b\"], [0.6666666666666666, \"#ed7953\"], [0.7777777777777778, \"#fb9f3a\"], [0.8888888888888888, \"#fdca26\"], [1.0, \"#f0f921\"]], \"sequentialminus\": [[0.0, \"#0d0887\"], [0.1111111111111111, \"#46039f\"], [0.2222222222222222, \"#7201a8\"], [0.3333333333333333, \"#9c179e\"], [0.4444444444444444, \"#bd3786\"], [0.5555555555555556, \"#d8576b\"], [0.6666666666666666, \"#ed7953\"], [0.7777777777777778, \"#fb9f3a\"], [0.8888888888888888, \"#fdca26\"], [1.0, \"#f0f921\"]]}, \"colorway\": [\"#636efa\", \"#EF553B\", \"#00cc96\", \"#ab63fa\", \"#FFA15A\", \"#19d3f3\", \"#FF6692\", \"#B6E880\", \"#FF97FF\", \"#FECB52\"], \"font\": {\"color\": \"#2a3f5f\"}, \"geo\": {\"bgcolor\": \"white\", \"lakecolor\": \"white\", \"landcolor\": \"#E5ECF6\", \"showlakes\": true, \"showland\": true, \"subunitcolor\": \"white\"}, \"hoverlabel\": {\"align\": \"left\"}, \"hovermode\": \"closest\", \"mapbox\": {\"style\": \"light\"}, \"paper_bgcolor\": \"white\", \"plot_bgcolor\": \"#E5ECF6\", \"polar\": {\"angularaxis\": {\"gridcolor\": \"white\", \"linecolor\": \"white\", \"ticks\": \"\"}, \"bgcolor\": \"#E5ECF6\", \"radialaxis\": {\"gridcolor\": \"white\", \"linecolor\": \"white\", \"ticks\": \"\"}}, \"scene\": {\"xaxis\": {\"backgroundcolor\": \"#E5ECF6\", \"gridcolor\": \"white\", \"gridwidth\": 2, \"linecolor\": \"white\", \"showbackground\": true, \"ticks\": \"\", \"zerolinecolor\": \"white\"}, \"yaxis\": {\"backgroundcolor\": \"#E5ECF6\", \"gridcolor\": \"white\", \"gridwidth\": 2, \"linecolor\": \"white\", \"showbackground\": true, \"ticks\": \"\", \"zerolinecolor\": \"white\"}, \"zaxis\": {\"backgroundcolor\": \"#E5ECF6\", \"gridcolor\": \"white\", \"gridwidth\": 2, \"linecolor\": \"white\", \"showbackground\": true, \"ticks\": \"\", \"zerolinecolor\": \"white\"}}, \"shapedefaults\": {\"line\": {\"color\": \"#2a3f5f\"}}, \"ternary\": {\"aaxis\": {\"gridcolor\": \"white\", \"linecolor\": \"white\", \"ticks\": \"\"}, \"baxis\": {\"gridcolor\": \"white\", \"linecolor\": \"white\", \"ticks\": \"\"}, \"bgcolor\": \"#E5ECF6\", \"caxis\": {\"gridcolor\": \"white\", \"linecolor\": \"white\", \"ticks\": \"\"}}, \"title\": {\"x\": 0.05}, \"xaxis\": {\"automargin\": true, \"gridcolor\": \"white\", \"linecolor\": \"white\", \"ticks\": \"\", \"title\": {\"standoff\": 15}, \"zerolinecolor\": \"white\", \"zerolinewidth\": 2}, \"yaxis\": {\"automargin\": true, \"gridcolor\": \"white\", \"linecolor\": \"white\", \"ticks\": \"\", \"title\": {\"standoff\": 15}, \"zerolinecolor\": \"white\", \"zerolinewidth\": 2}}}, \"xaxis\": {\"anchor\": \"y\", \"domain\": [0.0, 1.0], \"title\": {\"text\": \"Date\"}}, \"yaxis\": {\"anchor\": \"x\", \"domain\": [0.0, 1.0], \"title\": {\"text\": \"value\"}}},                        {\"responsive\": true}                    ).then(function(){\n",
       "                            \n",
       "var gd = document.getElementById('46bf9e75-e7ad-4130-8eab-5767697912dc');\n",
       "var x = new MutationObserver(function (mutations, observer) {{\n",
       "        var display = window.getComputedStyle(gd).display;\n",
       "        if (!display || display === 'none') {{\n",
       "            console.log([gd, 'removed!']);\n",
       "            Plotly.purge(gd);\n",
       "            observer.disconnect();\n",
       "        }}\n",
       "}});\n",
       "\n",
       "// Listen for the removal of the full notebook cells\n",
       "var notebookContainer = gd.closest('#notebook-container');\n",
       "if (notebookContainer) {{\n",
       "    x.observe(notebookContainer, {childList: true});\n",
       "}}\n",
       "\n",
       "// Listen for the clearing of the current output cell\n",
       "var outputEl = gd.closest('.output');\n",
       "if (outputEl) {{\n",
       "    x.observe(outputEl, {childList: true});\n",
       "}}\n",
       "\n",
       "                        })                };                });            </script>        </div>"
      ]
     },
     "metadata": {},
     "output_type": "display_data"
    }
   ],
   "source": [
    "px.line(silver_real_log)"
   ]
  },
  {
   "cell_type": "code",
   "execution_count": 31,
   "id": "ca844f36-861d-474a-8a18-64616c1fa3d8",
   "metadata": {},
   "outputs": [],
   "source": [
    "silver_real_log.to_pickle(r'..\\02-Data\\02-Silver\\05-Silver_USD_inflation-adjusted_1791-12-31_2020-12-31_yearly_logarithmic_denvergold.pkl')"
   ]
  }
 ],
 "metadata": {
  "kernelspec": {
   "display_name": "Python 3",
   "language": "python",
   "name": "python3"
  },
  "language_info": {
   "codemirror_mode": {
    "name": "ipython",
    "version": 3
   },
   "file_extension": ".py",
   "mimetype": "text/x-python",
   "name": "python",
   "nbconvert_exporter": "python",
   "pygments_lexer": "ipython3",
   "version": "3.8.10"
  }
 },
 "nbformat": 4,
 "nbformat_minor": 5
}
