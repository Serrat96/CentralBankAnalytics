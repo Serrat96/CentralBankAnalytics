{
 "cells": [
  {
   "cell_type": "code",
   "execution_count": 1,
   "id": "9706708c-a6c5-49e0-963d-4e175c274d56",
   "metadata": {},
   "outputs": [],
   "source": [
    "from fredapi import Fred\n",
    "import pandas as pd\n",
    "from datetime import *\n",
    "from pandas.tseries.offsets import MonthEnd"
   ]
  },
  {
   "cell_type": "code",
   "execution_count": 2,
   "id": "cc20fae8-0282-4a15-a082-b71cbfe90674",
   "metadata": {},
   "outputs": [],
   "source": [
    "m2_prev = pd.read_excel(r'..\\01-Raw_data\\03-M2\\m2_billions.usd_1867_1970_anually.xlsx')"
   ]
  },
  {
   "cell_type": "code",
   "execution_count": 3,
   "id": "feabf503-6fd6-49d5-b438-7571db4f5cf0",
   "metadata": {},
   "outputs": [],
   "source": [
    "m2_prev = m2_prev[['Year', 'M2']]\n",
    "m2_prev = m2_prev.dropna()\n",
    "m2_prev.rename(columns={\"M2\": \"Value\"}, inplace=True)\n",
    "m2_prev['Year'] = m2_prev['Year'].astype(int)\n",
    "m2_prev['Year'] = pd.to_datetime(m2_prev['Year'], format='%Y')\n",
    "m2_prev = m2_prev.set_index('Year')"
   ]
  },
  {
   "cell_type": "code",
   "execution_count": 4,
   "id": "bae4b55f-86fd-40a7-a780-1a441f0c22a8",
   "metadata": {},
   "outputs": [
    {
     "name": "stderr",
     "output_type": "stream",
     "text": [
      "<ipython-input-4-7427b4ec9383>:3: FutureWarning: The pandas.datetime class is deprecated and will be removed from pandas in a future version. Import from datetime module instead.\n",
      "  m2_prev.index = m2_prev.index.map(lambda x: pd.datetime(x.year, 12, x.day))\n"
     ]
    }
   ],
   "source": [
    "mask = (m2_prev.index < datetime.strptime('1959-01-01', '%Y-%m-%d'))\n",
    "m2_prev = m2_prev.loc[mask]\n",
    "m2_prev.index = m2_prev.index.map(lambda x: pd.datetime(x.year, 12, x.day))\n",
    "m2_prev.index = pd.to_datetime(m2_prev.index, format='%Y') + MonthEnd(1)"
   ]
  },
  {
   "cell_type": "code",
   "execution_count": 5,
   "id": "fea058f9-c637-422b-879c-957bef7c6b65",
   "metadata": {},
   "outputs": [
    {
     "data": {
      "text/html": [
       "<div>\n",
       "<style scoped>\n",
       "    .dataframe tbody tr th:only-of-type {\n",
       "        vertical-align: middle;\n",
       "    }\n",
       "\n",
       "    .dataframe tbody tr th {\n",
       "        vertical-align: top;\n",
       "    }\n",
       "\n",
       "    .dataframe thead th {\n",
       "        text-align: right;\n",
       "    }\n",
       "</style>\n",
       "<table border=\"1\" class=\"dataframe\">\n",
       "  <thead>\n",
       "    <tr style=\"text-align: right;\">\n",
       "      <th></th>\n",
       "      <th>Value</th>\n",
       "    </tr>\n",
       "    <tr>\n",
       "      <th>Year</th>\n",
       "      <th></th>\n",
       "    </tr>\n",
       "  </thead>\n",
       "  <tbody>\n",
       "    <tr>\n",
       "      <th>1958-12-31</th>\n",
       "      <td>302.93</td>\n",
       "    </tr>\n",
       "    <tr>\n",
       "      <th>1957-12-31</th>\n",
       "      <td>287.06</td>\n",
       "    </tr>\n",
       "    <tr>\n",
       "      <th>1956-12-31</th>\n",
       "      <td>274.89</td>\n",
       "    </tr>\n",
       "    <tr>\n",
       "      <th>1955-12-31</th>\n",
       "      <td>264.81</td>\n",
       "    </tr>\n",
       "    <tr>\n",
       "      <th>1954-12-31</th>\n",
       "      <td>251.84</td>\n",
       "    </tr>\n",
       "    <tr>\n",
       "      <th>...</th>\n",
       "      <td>...</td>\n",
       "    </tr>\n",
       "    <tr>\n",
       "      <th>1871-12-31</th>\n",
       "      <td>2.45</td>\n",
       "    </tr>\n",
       "    <tr>\n",
       "      <th>1870-12-31</th>\n",
       "      <td>2.21</td>\n",
       "    </tr>\n",
       "    <tr>\n",
       "      <th>1869-12-31</th>\n",
       "      <td>2.05</td>\n",
       "    </tr>\n",
       "    <tr>\n",
       "      <th>1868-12-31</th>\n",
       "      <td>1.85</td>\n",
       "    </tr>\n",
       "    <tr>\n",
       "      <th>1867-12-31</th>\n",
       "      <td>1.83</td>\n",
       "    </tr>\n",
       "  </tbody>\n",
       "</table>\n",
       "<p>92 rows × 1 columns</p>\n",
       "</div>"
      ],
      "text/plain": [
       "             Value\n",
       "Year              \n",
       "1958-12-31  302.93\n",
       "1957-12-31  287.06\n",
       "1956-12-31  274.89\n",
       "1955-12-31  264.81\n",
       "1954-12-31  251.84\n",
       "...            ...\n",
       "1871-12-31    2.45\n",
       "1870-12-31    2.21\n",
       "1869-12-31    2.05\n",
       "1868-12-31    1.85\n",
       "1867-12-31    1.83\n",
       "\n",
       "[92 rows x 1 columns]"
      ]
     },
     "execution_count": 5,
     "metadata": {},
     "output_type": "execute_result"
    }
   ],
   "source": [
    "m2_prev"
   ]
  },
  {
   "cell_type": "code",
   "execution_count": 15,
   "id": "bcd4588a-af11-4282-9fd4-32f9ae9552a6",
   "metadata": {},
   "outputs": [
    {
     "data": {
      "text/plain": [
       "1959-01-01      286.6\n",
       "1959-02-01      287.7\n",
       "1959-03-01      289.2\n",
       "1959-04-01      290.1\n",
       "1959-05-01      292.2\n",
       "               ...   \n",
       "2021-01-01    19395.4\n",
       "2021-02-01    19666.7\n",
       "2021-03-01    19912.8\n",
       "2021-04-01    20118.8\n",
       "2021-05-01    20370.1\n",
       "Length: 749, dtype: float64"
      ]
     },
     "execution_count": 15,
     "metadata": {},
     "output_type": "execute_result"
    }
   ],
   "source": [
    "fred = Fred(api_key='a7eca89fdf2905baea21d67b942c9ef7')\n",
    "m2=fred.get_series('M2SL')\n",
    "m2"
   ]
  },
  {
   "cell_type": "code",
   "execution_count": 16,
   "id": "e8923130-206f-40f4-8e56-cb4c0a450e0f",
   "metadata": {},
   "outputs": [
    {
     "data": {
      "text/html": [
       "<div>\n",
       "<style scoped>\n",
       "    .dataframe tbody tr th:only-of-type {\n",
       "        vertical-align: middle;\n",
       "    }\n",
       "\n",
       "    .dataframe tbody tr th {\n",
       "        vertical-align: top;\n",
       "    }\n",
       "\n",
       "    .dataframe thead th {\n",
       "        text-align: right;\n",
       "    }\n",
       "</style>\n",
       "<table border=\"1\" class=\"dataframe\">\n",
       "  <thead>\n",
       "    <tr style=\"text-align: right;\">\n",
       "      <th></th>\n",
       "      <th>Value</th>\n",
       "    </tr>\n",
       "  </thead>\n",
       "  <tbody>\n",
       "    <tr>\n",
       "      <th>1959-01-01</th>\n",
       "      <td>286.6</td>\n",
       "    </tr>\n",
       "    <tr>\n",
       "      <th>1960-01-01</th>\n",
       "      <td>298.2</td>\n",
       "    </tr>\n",
       "    <tr>\n",
       "      <th>1961-01-01</th>\n",
       "      <td>314.1</td>\n",
       "    </tr>\n",
       "    <tr>\n",
       "      <th>1962-01-01</th>\n",
       "      <td>337.5</td>\n",
       "    </tr>\n",
       "    <tr>\n",
       "      <th>1963-01-01</th>\n",
       "      <td>365.2</td>\n",
       "    </tr>\n",
       "    <tr>\n",
       "      <th>...</th>\n",
       "      <td>...</td>\n",
       "    </tr>\n",
       "    <tr>\n",
       "      <th>2017-01-01</th>\n",
       "      <td>13295.3</td>\n",
       "    </tr>\n",
       "    <tr>\n",
       "      <th>2018-01-01</th>\n",
       "      <td>13876.1</td>\n",
       "    </tr>\n",
       "    <tr>\n",
       "      <th>2019-01-01</th>\n",
       "      <td>14446.8</td>\n",
       "    </tr>\n",
       "    <tr>\n",
       "      <th>2020-01-01</th>\n",
       "      <td>15410.0</td>\n",
       "    </tr>\n",
       "    <tr>\n",
       "      <th>2021-01-01</th>\n",
       "      <td>19395.4</td>\n",
       "    </tr>\n",
       "  </tbody>\n",
       "</table>\n",
       "<p>63 rows × 1 columns</p>\n",
       "</div>"
      ],
      "text/plain": [
       "              Value\n",
       "1959-01-01    286.6\n",
       "1960-01-01    298.2\n",
       "1961-01-01    314.1\n",
       "1962-01-01    337.5\n",
       "1963-01-01    365.2\n",
       "...             ...\n",
       "2017-01-01  13295.3\n",
       "2018-01-01  13876.1\n",
       "2019-01-01  14446.8\n",
       "2020-01-01  15410.0\n",
       "2021-01-01  19395.4\n",
       "\n",
       "[63 rows x 1 columns]"
      ]
     },
     "execution_count": 16,
     "metadata": {},
     "output_type": "execute_result"
    }
   ],
   "source": [
    "m2 = pd.DataFrame(data=m2, columns=['Value'])\n",
    "m2 = m2.asfreq(freq='YS', method='ffill')\n",
    "m2"
   ]
  },
  {
   "cell_type": "code",
   "execution_count": 17,
   "id": "9d909d40-4e27-4f5d-a137-8df1e10e9b2e",
   "metadata": {},
   "outputs": [
    {
     "data": {
      "text/html": [
       "<div>\n",
       "<style scoped>\n",
       "    .dataframe tbody tr th:only-of-type {\n",
       "        vertical-align: middle;\n",
       "    }\n",
       "\n",
       "    .dataframe tbody tr th {\n",
       "        vertical-align: top;\n",
       "    }\n",
       "\n",
       "    .dataframe thead th {\n",
       "        text-align: right;\n",
       "    }\n",
       "</style>\n",
       "<table border=\"1\" class=\"dataframe\">\n",
       "  <thead>\n",
       "    <tr style=\"text-align: right;\">\n",
       "      <th></th>\n",
       "      <th>Value</th>\n",
       "    </tr>\n",
       "    <tr>\n",
       "      <th>index</th>\n",
       "      <th></th>\n",
       "    </tr>\n",
       "  </thead>\n",
       "  <tbody>\n",
       "    <tr>\n",
       "      <th>1867-12-31</th>\n",
       "      <td>1.83</td>\n",
       "    </tr>\n",
       "    <tr>\n",
       "      <th>1868-12-31</th>\n",
       "      <td>1.85</td>\n",
       "    </tr>\n",
       "    <tr>\n",
       "      <th>1869-12-31</th>\n",
       "      <td>2.05</td>\n",
       "    </tr>\n",
       "    <tr>\n",
       "      <th>1870-12-31</th>\n",
       "      <td>2.21</td>\n",
       "    </tr>\n",
       "    <tr>\n",
       "      <th>1871-12-31</th>\n",
       "      <td>2.45</td>\n",
       "    </tr>\n",
       "    <tr>\n",
       "      <th>...</th>\n",
       "      <td>...</td>\n",
       "    </tr>\n",
       "    <tr>\n",
       "      <th>2017-01-01</th>\n",
       "      <td>13295.30</td>\n",
       "    </tr>\n",
       "    <tr>\n",
       "      <th>2018-01-01</th>\n",
       "      <td>13876.10</td>\n",
       "    </tr>\n",
       "    <tr>\n",
       "      <th>2019-01-01</th>\n",
       "      <td>14446.80</td>\n",
       "    </tr>\n",
       "    <tr>\n",
       "      <th>2020-01-01</th>\n",
       "      <td>15410.00</td>\n",
       "    </tr>\n",
       "    <tr>\n",
       "      <th>2021-01-01</th>\n",
       "      <td>19395.40</td>\n",
       "    </tr>\n",
       "  </tbody>\n",
       "</table>\n",
       "<p>155 rows × 1 columns</p>\n",
       "</div>"
      ],
      "text/plain": [
       "               Value\n",
       "index               \n",
       "1867-12-31      1.83\n",
       "1868-12-31      1.85\n",
       "1869-12-31      2.05\n",
       "1870-12-31      2.21\n",
       "1871-12-31      2.45\n",
       "...              ...\n",
       "2017-01-01  13295.30\n",
       "2018-01-01  13876.10\n",
       "2019-01-01  14446.80\n",
       "2020-01-01  15410.00\n",
       "2021-01-01  19395.40\n",
       "\n",
       "[155 rows x 1 columns]"
      ]
     },
     "execution_count": 17,
     "metadata": {},
     "output_type": "execute_result"
    }
   ],
   "source": [
    "m2_def = m2.append(m2_prev).sort_index().reset_index().set_index('index')\n",
    "m2_def"
   ]
  },
  {
   "cell_type": "code",
   "execution_count": null,
   "id": "765beb81-12a4-4c21-8f01-d866e670e7b7",
   "metadata": {},
   "outputs": [],
   "source": [
    "m2_def.to_pickle(r'..\\02-Data\\06-M2\\02_M2_USD_1867-12-31-2021-01-01_yearly_fred.pkl')"
   ]
  },
  {
   "cell_type": "code",
   "execution_count": 3,
   "id": "fb19ac3e-0e8c-4e86-9375-9532009a8d7e",
   "metadata": {},
   "outputs": [],
   "source": [
    "m2_def = pd.read_pickle(r'..\\02-Data\\06-M2\\02_M2_USD_1867-12-31-2021-01-01_yearly_fred.pkl')"
   ]
  },
  {
   "cell_type": "code",
   "execution_count": 4,
   "id": "4b8884de-9bb2-4171-b247-5eebf8f9086f",
   "metadata": {},
   "outputs": [],
   "source": [
    "m2_pct = m2_def.pct_change(1).dropna()"
   ]
  },
  {
   "cell_type": "code",
   "execution_count": 5,
   "id": "7c0a52db-0f1d-4a0d-99e1-54cbac08d9d5",
   "metadata": {},
   "outputs": [],
   "source": [
    "m2_pct.to_pickle(r'..\\02-Data\\06-M2\\01_M2_percentage_1868-12-31-2021-01-01_yearly_fred.pkl')"
   ]
  },
  {
   "cell_type": "code",
   "execution_count": null,
   "id": "668f9f28-a069-4525-a8d4-8378db9ae9df",
   "metadata": {},
   "outputs": [],
   "source": [
    "m2_pct"
   ]
  },
  {
   "cell_type": "code",
   "execution_count": null,
   "id": "48d20095-1348-4bbb-8f8b-ebeb2bd6c578",
   "metadata": {},
   "outputs": [],
   "source": [
    "m2_prev_pct = m2_prev.pct_change(1)"
   ]
  }
 ],
 "metadata": {
  "kernelspec": {
   "display_name": "Python 3",
   "language": "python",
   "name": "python3"
  },
  "language_info": {
   "codemirror_mode": {
    "name": "ipython",
    "version": 3
   },
   "file_extension": ".py",
   "mimetype": "text/x-python",
   "name": "python",
   "nbconvert_exporter": "python",
   "pygments_lexer": "ipython3",
   "version": "3.8.10"
  }
 },
 "nbformat": 4,
 "nbformat_minor": 5
}
