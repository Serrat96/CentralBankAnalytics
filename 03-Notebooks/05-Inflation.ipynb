{
 "cells": [
  {
   "cell_type": "code",
   "execution_count": 8,
   "id": "316be5c4-1c7e-4580-ace2-47aea20e3ce1",
   "metadata": {},
   "outputs": [],
   "source": [
    "import pandas as pd"
   ]
  },
  {
   "cell_type": "markdown",
   "id": "a46b69ed-aeeb-4f3d-ac09-2c6c025a68ce",
   "metadata": {},
   "source": [
    "### Se lee el pickle de CPI para calcular los cambios anuales y mensuales para inflacion"
   ]
  },
  {
   "cell_type": "code",
   "execution_count": 9,
   "id": "c9f3daac-205b-4e0d-b879-4ff1bd5d84e5",
   "metadata": {},
   "outputs": [],
   "source": [
    "cpi = pd.read_pickle(r'..\\02-Data\\04-CPI\\01-CPI_USD_1913-01-01_2021-06-01_monthly_fred.pkl')"
   ]
  },
  {
   "cell_type": "code",
   "execution_count": 10,
   "id": "9033ff58-bb6e-4a4d-af37-434063c987dd",
   "metadata": {},
   "outputs": [],
   "source": [
    "inflation_monthly = cpi.pct_change(12).dropna()"
   ]
  },
  {
   "cell_type": "code",
   "execution_count": 11,
   "id": "9b332735-6c24-42a4-8800-8372a18b0cad",
   "metadata": {},
   "outputs": [
    {
     "data": {
      "text/html": [
       "<div>\n",
       "<style scoped>\n",
       "    .dataframe tbody tr th:only-of-type {\n",
       "        vertical-align: middle;\n",
       "    }\n",
       "\n",
       "    .dataframe tbody tr th {\n",
       "        vertical-align: top;\n",
       "    }\n",
       "\n",
       "    .dataframe thead th {\n",
       "        text-align: right;\n",
       "    }\n",
       "</style>\n",
       "<table border=\"1\" class=\"dataframe\">\n",
       "  <thead>\n",
       "    <tr style=\"text-align: right;\">\n",
       "      <th></th>\n",
       "      <th>Value</th>\n",
       "    </tr>\n",
       "  </thead>\n",
       "  <tbody>\n",
       "    <tr>\n",
       "      <th>1914-01-01</th>\n",
       "      <td>0.020408</td>\n",
       "    </tr>\n",
       "    <tr>\n",
       "      <th>1914-02-01</th>\n",
       "      <td>0.010204</td>\n",
       "    </tr>\n",
       "    <tr>\n",
       "      <th>1914-03-01</th>\n",
       "      <td>0.010204</td>\n",
       "    </tr>\n",
       "    <tr>\n",
       "      <th>1914-04-01</th>\n",
       "      <td>0.000000</td>\n",
       "    </tr>\n",
       "    <tr>\n",
       "      <th>1914-05-01</th>\n",
       "      <td>0.020619</td>\n",
       "    </tr>\n",
       "    <tr>\n",
       "      <th>...</th>\n",
       "      <td>...</td>\n",
       "    </tr>\n",
       "    <tr>\n",
       "      <th>2021-02-01</th>\n",
       "      <td>0.016762</td>\n",
       "    </tr>\n",
       "    <tr>\n",
       "      <th>2021-03-01</th>\n",
       "      <td>0.026198</td>\n",
       "    </tr>\n",
       "    <tr>\n",
       "      <th>2021-04-01</th>\n",
       "      <td>0.041597</td>\n",
       "    </tr>\n",
       "    <tr>\n",
       "      <th>2021-05-01</th>\n",
       "      <td>0.049927</td>\n",
       "    </tr>\n",
       "    <tr>\n",
       "      <th>2021-06-01</th>\n",
       "      <td>0.053915</td>\n",
       "    </tr>\n",
       "  </tbody>\n",
       "</table>\n",
       "<p>1290 rows × 1 columns</p>\n",
       "</div>"
      ],
      "text/plain": [
       "               Value\n",
       "1914-01-01  0.020408\n",
       "1914-02-01  0.010204\n",
       "1914-03-01  0.010204\n",
       "1914-04-01  0.000000\n",
       "1914-05-01  0.020619\n",
       "...              ...\n",
       "2021-02-01  0.016762\n",
       "2021-03-01  0.026198\n",
       "2021-04-01  0.041597\n",
       "2021-05-01  0.049927\n",
       "2021-06-01  0.053915\n",
       "\n",
       "[1290 rows x 1 columns]"
      ]
     },
     "execution_count": 11,
     "metadata": {},
     "output_type": "execute_result"
    }
   ],
   "source": [
    "inflation_monthly"
   ]
  },
  {
   "cell_type": "code",
   "execution_count": 12,
   "id": "811b54bb-c7f4-4176-ab1e-32258986f488",
   "metadata": {},
   "outputs": [],
   "source": [
    "inflation_monthly.to_pickle(r'..\\02-Data\\05-Inflation\\01_Inflation_percentage_1913-01-01_2021-06-01_monthly_fred.pkl')"
   ]
  },
  {
   "cell_type": "code",
   "execution_count": null,
   "id": "0c54ec77-b4c1-493f-b52c-8d4e55cb79d7",
   "metadata": {},
   "outputs": [],
   "source": [
    "inflation_monthly.to_parquet(r'..\\02-Data\\05-Inflation\\01_Inflation_percentage_1913-01-01_2021-06-01_monthly_fred.')"
   ]
  },
  {
   "cell_type": "code",
   "execution_count": 13,
   "id": "d9142c64-f718-4313-a253-79c785fef5c9",
   "metadata": {},
   "outputs": [],
   "source": [
    "inflation_monthly.to_parquet(r'..\\02-Data\\05-Inflation\\01_Inflation_percentage_1913-01-01_2021-06-01_monthly_fred.parquet')"
   ]
  },
  {
   "cell_type": "code",
   "execution_count": 21,
   "id": "6a662df9-f0de-4e02-be5f-dd10aaa07552",
   "metadata": {},
   "outputs": [
    {
     "data": {
      "text/html": [
       "<div>\n",
       "<style scoped>\n",
       "    .dataframe tbody tr th:only-of-type {\n",
       "        vertical-align: middle;\n",
       "    }\n",
       "\n",
       "    .dataframe tbody tr th {\n",
       "        vertical-align: top;\n",
       "    }\n",
       "\n",
       "    .dataframe thead th {\n",
       "        text-align: right;\n",
       "    }\n",
       "</style>\n",
       "<table border=\"1\" class=\"dataframe\">\n",
       "  <thead>\n",
       "    <tr style=\"text-align: right;\">\n",
       "      <th></th>\n",
       "      <th>Value</th>\n",
       "    </tr>\n",
       "  </thead>\n",
       "  <tbody>\n",
       "    <tr>\n",
       "      <th>1914-12-01</th>\n",
       "      <td>0.010000</td>\n",
       "    </tr>\n",
       "    <tr>\n",
       "      <th>1915-12-01</th>\n",
       "      <td>0.019802</td>\n",
       "    </tr>\n",
       "    <tr>\n",
       "      <th>1916-12-01</th>\n",
       "      <td>0.126214</td>\n",
       "    </tr>\n",
       "    <tr>\n",
       "      <th>1917-12-01</th>\n",
       "      <td>0.181034</td>\n",
       "    </tr>\n",
       "    <tr>\n",
       "      <th>1918-12-01</th>\n",
       "      <td>0.204380</td>\n",
       "    </tr>\n",
       "    <tr>\n",
       "      <th>...</th>\n",
       "      <td>...</td>\n",
       "    </tr>\n",
       "    <tr>\n",
       "      <th>2017-12-01</th>\n",
       "      <td>0.021091</td>\n",
       "    </tr>\n",
       "    <tr>\n",
       "      <th>2018-12-01</th>\n",
       "      <td>0.019102</td>\n",
       "    </tr>\n",
       "    <tr>\n",
       "      <th>2019-12-01</th>\n",
       "      <td>0.022851</td>\n",
       "    </tr>\n",
       "    <tr>\n",
       "      <th>2020-12-01</th>\n",
       "      <td>0.013620</td>\n",
       "    </tr>\n",
       "    <tr>\n",
       "      <th>2021-06-01</th>\n",
       "      <td>0.043083</td>\n",
       "    </tr>\n",
       "  </tbody>\n",
       "</table>\n",
       "<p>108 rows × 1 columns</p>\n",
       "</div>"
      ],
      "text/plain": [
       "               Value\n",
       "1914-12-01  0.010000\n",
       "1915-12-01  0.019802\n",
       "1916-12-01  0.126214\n",
       "1917-12-01  0.181034\n",
       "1918-12-01  0.204380\n",
       "...              ...\n",
       "2017-12-01  0.021091\n",
       "2018-12-01  0.019102\n",
       "2019-12-01  0.022851\n",
       "2020-12-01  0.013620\n",
       "2021-06-01  0.043083\n",
       "\n",
       "[108 rows x 1 columns]"
      ]
     },
     "execution_count": 21,
     "metadata": {},
     "output_type": "execute_result"
    }
   ],
   "source": [
    "inflation_anually = cpi.groupby(cpi.index.strftime('%Y')).tail(1).pct_change(1).dropna()\n",
    "inflation_anually"
   ]
  },
  {
   "cell_type": "code",
   "execution_count": 22,
   "id": "672f6738-2d04-48bc-8b02-86d891a83e00",
   "metadata": {},
   "outputs": [],
   "source": [
    "inflation_anually.to_pickle(r'..\\02-Data\\05-Inflation\\02_Inflation_percentage_1913-01-01_2021-06-01_anually_fred.pkl')"
   ]
  },
  {
   "cell_type": "code",
   "execution_count": null,
   "id": "e1736cf0-99cb-4212-bf7f-17757235d05b",
   "metadata": {},
   "outputs": [],
   "source": []
  }
 ],
 "metadata": {
  "kernelspec": {
   "display_name": "Python 3",
   "language": "python",
   "name": "python3"
  },
  "language_info": {
   "codemirror_mode": {
    "name": "ipython",
    "version": 3
   },
   "file_extension": ".py",
   "mimetype": "text/x-python",
   "name": "python",
   "nbconvert_exporter": "python",
   "pygments_lexer": "ipython3",
   "version": "3.8.10"
  }
 },
 "nbformat": 4,
 "nbformat_minor": 5
}
