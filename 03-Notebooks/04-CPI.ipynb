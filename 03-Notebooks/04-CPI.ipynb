{
 "cells": [
  {
   "cell_type": "code",
   "execution_count": 2,
   "id": "e85973a2-277d-40f0-84e6-b248850e47f1",
   "metadata": {},
   "outputs": [],
   "source": [
    "import pandas as pd\n",
    "from fredapi import Fred"
   ]
  },
  {
   "cell_type": "markdown",
   "id": "3f5f57e1-b48b-4050-a1b7-35d80b57d484",
   "metadata": {},
   "source": [
    "## Obtención de datos de FRED"
   ]
  },
  {
   "cell_type": "code",
   "execution_count": 3,
   "id": "70b6d852-200b-4a0b-b364-7a05b4f1624b",
   "metadata": {},
   "outputs": [],
   "source": [
    "fred = Fred(api_key='a7eca89fdf2905baea21d67b942c9ef7')\n",
    "cpi=fred.get_series('CPIAUCNS')"
   ]
  },
  {
   "cell_type": "code",
   "execution_count": 4,
   "id": "59fdd87b-e6e3-4883-9233-2d25865d2f01",
   "metadata": {},
   "outputs": [],
   "source": [
    "cpi = pd.DataFrame(data=cpi, columns=['Value'])"
   ]
  },
  {
   "cell_type": "markdown",
   "id": "42cb886a-ca6e-4566-862e-5379ab07b229",
   "metadata": {},
   "source": [
    "## Creación del pickle para no llamar a la API siempre"
   ]
  },
  {
   "cell_type": "code",
   "execution_count": 5,
   "id": "b188647d-432b-4ca5-98b8-04376df64cbf",
   "metadata": {},
   "outputs": [],
   "source": [
    "cpi.to_pickle(r'..\\02-Data\\04-CPI\\01-CPI_USD_1913-01-01_2021-06-01_monthly_fred.pkl')"
   ]
  }
 ],
 "metadata": {
  "kernelspec": {
   "display_name": "Python 3",
   "language": "python",
   "name": "python3"
  },
  "language_info": {
   "codemirror_mode": {
    "name": "ipython",
    "version": 3
   },
   "file_extension": ".py",
   "mimetype": "text/x-python",
   "name": "python",
   "nbconvert_exporter": "python",
   "pygments_lexer": "ipython3",
   "version": "3.8.10"
  }
 },
 "nbformat": 4,
 "nbformat_minor": 5
}
