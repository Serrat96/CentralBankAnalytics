{
 "cells": [
  {
   "cell_type": "code",
   "execution_count": 1,
   "id": "e85973a2-277d-40f0-84e6-b248850e47f1",
   "metadata": {},
   "outputs": [],
   "source": [
    "import pandas as pd\n",
    "from fredapi import Fred"
   ]
  },
  {
   "cell_type": "markdown",
   "id": "3f5f57e1-b48b-4050-a1b7-35d80b57d484",
   "metadata": {},
   "source": [
    "## Obtención de datos de FRED"
   ]
  },
  {
   "cell_type": "code",
   "execution_count": 3,
   "id": "70b6d852-200b-4a0b-b364-7a05b4f1624b",
   "metadata": {},
   "outputs": [],
   "source": [
    "fred = Fred(api_key='a7eca89fdf2905baea21d67b942c9ef7')\n",
    "cpi=fred.get_series('CPIAUCNS')"
   ]
  },
  {
   "cell_type": "code",
   "execution_count": 4,
   "id": "59fdd87b-e6e3-4883-9233-2d25865d2f01",
   "metadata": {},
   "outputs": [],
   "source": [
    "cpi = pd.DataFrame(data=cpi, columns=['Value'])"
   ]
  },
  {
   "cell_type": "markdown",
   "id": "42cb886a-ca6e-4566-862e-5379ab07b229",
   "metadata": {},
   "source": [
    "## Creación del pickle para no llamar a la API siempre"
   ]
  },
  {
   "cell_type": "code",
   "execution_count": 3,
   "id": "b188647d-432b-4ca5-98b8-04376df64cbf",
   "metadata": {},
   "outputs": [
    {
     "data": {
      "text/html": [
       "<div>\n",
       "<style scoped>\n",
       "    .dataframe tbody tr th:only-of-type {\n",
       "        vertical-align: middle;\n",
       "    }\n",
       "\n",
       "    .dataframe tbody tr th {\n",
       "        vertical-align: top;\n",
       "    }\n",
       "\n",
       "    .dataframe thead th {\n",
       "        text-align: right;\n",
       "    }\n",
       "</style>\n",
       "<table border=\"1\" class=\"dataframe\">\n",
       "  <thead>\n",
       "    <tr style=\"text-align: right;\">\n",
       "      <th></th>\n",
       "      <th>Value</th>\n",
       "    </tr>\n",
       "  </thead>\n",
       "  <tbody>\n",
       "    <tr>\n",
       "      <th>1913-01-01</th>\n",
       "      <td>9.800</td>\n",
       "    </tr>\n",
       "    <tr>\n",
       "      <th>1913-02-01</th>\n",
       "      <td>9.800</td>\n",
       "    </tr>\n",
       "    <tr>\n",
       "      <th>1913-03-01</th>\n",
       "      <td>9.800</td>\n",
       "    </tr>\n",
       "    <tr>\n",
       "      <th>1913-04-01</th>\n",
       "      <td>9.800</td>\n",
       "    </tr>\n",
       "    <tr>\n",
       "      <th>1913-05-01</th>\n",
       "      <td>9.700</td>\n",
       "    </tr>\n",
       "    <tr>\n",
       "      <th>...</th>\n",
       "      <td>...</td>\n",
       "    </tr>\n",
       "    <tr>\n",
       "      <th>2021-02-01</th>\n",
       "      <td>263.014</td>\n",
       "    </tr>\n",
       "    <tr>\n",
       "      <th>2021-03-01</th>\n",
       "      <td>264.877</td>\n",
       "    </tr>\n",
       "    <tr>\n",
       "      <th>2021-04-01</th>\n",
       "      <td>267.054</td>\n",
       "    </tr>\n",
       "    <tr>\n",
       "      <th>2021-05-01</th>\n",
       "      <td>269.195</td>\n",
       "    </tr>\n",
       "    <tr>\n",
       "      <th>2021-06-01</th>\n",
       "      <td>271.696</td>\n",
       "    </tr>\n",
       "  </tbody>\n",
       "</table>\n",
       "<p>1302 rows × 1 columns</p>\n",
       "</div>"
      ],
      "text/plain": [
       "              Value\n",
       "1913-01-01    9.800\n",
       "1913-02-01    9.800\n",
       "1913-03-01    9.800\n",
       "1913-04-01    9.800\n",
       "1913-05-01    9.700\n",
       "...             ...\n",
       "2021-02-01  263.014\n",
       "2021-03-01  264.877\n",
       "2021-04-01  267.054\n",
       "2021-05-01  269.195\n",
       "2021-06-01  271.696\n",
       "\n",
       "[1302 rows x 1 columns]"
      ]
     },
     "execution_count": 3,
     "metadata": {},
     "output_type": "execute_result"
    }
   ],
   "source": [
    "#cpi.to_pickle(r'..\\02-Data\\04-CPI\\01-CPI_USD_1913-01-01_2021-06-01_monthly_fred.pkl')\n",
    "cpi = pd.read_pickle(r'..\\02-Data\\04-CPI\\01-CPI_USD_1913-01-01_2021-06-01_monthly_fred.pkl')\n",
    "cpi"
   ]
  },
  {
   "cell_type": "code",
   "execution_count": 4,
   "id": "2bcee2d5-1b5e-43c2-be02-29e464dacaff",
   "metadata": {},
   "outputs": [],
   "source": [
    "cpi.to_csv(r'..\\02-Data\\04-CPI\\01-CPI_USD_1913-01-01_2021-06-01_monthly_fred.csv')"
   ]
  },
  {
   "cell_type": "code",
   "execution_count": null,
   "id": "572a71fc-1ce5-4d8e-bf21-abe7ccc1e0ff",
   "metadata": {},
   "outputs": [],
   "source": []
  }
 ],
 "metadata": {
  "kernelspec": {
   "display_name": "Python 3",
   "language": "python",
   "name": "python3"
  },
  "language_info": {
   "codemirror_mode": {
    "name": "ipython",
    "version": 3
   },
   "file_extension": ".py",
   "mimetype": "text/x-python",
   "name": "python",
   "nbconvert_exporter": "python",
   "pygments_lexer": "ipython3",
   "version": "3.8.10"
  }
 },
 "nbformat": 4,
 "nbformat_minor": 5
}
