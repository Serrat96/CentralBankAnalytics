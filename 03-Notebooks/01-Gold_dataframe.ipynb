{
 "cells": [
  {
   "cell_type": "code",
   "execution_count": 2,
   "id": "c4955022-7751-4320-a95f-f12cb9eb59b2",
   "metadata": {},
   "outputs": [],
   "source": [
    "import pandas as pd\n",
    "from datetime import *\n",
    "from pandas.tseries.offsets import MonthEnd\n",
    "import plotly.express as px"
   ]
  },
  {
   "cell_type": "markdown",
   "id": "cd836bbe-4841-42fe-b242-e202348fe5d8",
   "metadata": {},
   "source": [
    "# Precio oro diario desde 1968 en EUR USD y GBP"
   ]
  },
  {
   "cell_type": "code",
   "execution_count": 6,
   "id": "494e984d-e573-4e94-8702-a56f047a0408",
   "metadata": {},
   "outputs": [],
   "source": [
    "gold = pd.read_excel(r'..\\01-Raw_data\\01-Gold\\03-lbma_gold_pm_usd_1968-01-01_2021-07-22.xlsx')\n",
    "gold.rename(columns={\"DATE\": \"Date\", 'PM USD': 'Value'}, inplace=True)\n",
    "gold.set_index('Date', inplace=True)\n",
    "gold.index = pd.to_datetime(gold.index, format='%Y-%m-%d')"
   ]
  },
  {
   "cell_type": "code",
   "execution_count": 7,
   "id": "5e169bff-792b-4b1a-811c-977d3575d313",
   "metadata": {},
   "outputs": [
    {
     "data": {
      "text/html": [
       "<div>\n",
       "<style scoped>\n",
       "    .dataframe tbody tr th:only-of-type {\n",
       "        vertical-align: middle;\n",
       "    }\n",
       "\n",
       "    .dataframe tbody tr th {\n",
       "        vertical-align: top;\n",
       "    }\n",
       "\n",
       "    .dataframe thead th {\n",
       "        text-align: right;\n",
       "    }\n",
       "</style>\n",
       "<table border=\"1\" class=\"dataframe\">\n",
       "  <thead>\n",
       "    <tr style=\"text-align: right;\">\n",
       "      <th></th>\n",
       "      <th>AM USD</th>\n",
       "      <th>Value</th>\n",
       "      <th>AM GBP</th>\n",
       "      <th>PM GBP</th>\n",
       "      <th>AM EUR</th>\n",
       "      <th>PM EUR</th>\n",
       "    </tr>\n",
       "    <tr>\n",
       "      <th>Date</th>\n",
       "      <th></th>\n",
       "      <th></th>\n",
       "      <th></th>\n",
       "      <th></th>\n",
       "      <th></th>\n",
       "      <th></th>\n",
       "    </tr>\n",
       "  </thead>\n",
       "  <tbody>\n",
       "    <tr>\n",
       "      <th>2021-07-22</th>\n",
       "      <td>1797.400</td>\n",
       "      <td>1799.45</td>\n",
       "      <td>1308.510</td>\n",
       "      <td>1307.12</td>\n",
       "      <td>1523.84</td>\n",
       "      <td>1523.05</td>\n",
       "    </tr>\n",
       "    <tr>\n",
       "      <th>2021-07-21</th>\n",
       "      <td>1805.900</td>\n",
       "      <td>1802.15</td>\n",
       "      <td>1324.810</td>\n",
       "      <td>1317.73</td>\n",
       "      <td>1533.75</td>\n",
       "      <td>1529.30</td>\n",
       "    </tr>\n",
       "    <tr>\n",
       "      <th>2021-07-20</th>\n",
       "      <td>1815.300</td>\n",
       "      <td>1823.05</td>\n",
       "      <td>1328.260</td>\n",
       "      <td>1339.21</td>\n",
       "      <td>1538.47</td>\n",
       "      <td>1549.77</td>\n",
       "    </tr>\n",
       "    <tr>\n",
       "      <th>2021-07-19</th>\n",
       "      <td>1803.250</td>\n",
       "      <td>1814.90</td>\n",
       "      <td>1314.030</td>\n",
       "      <td>1322.88</td>\n",
       "      <td>1531.32</td>\n",
       "      <td>1535.04</td>\n",
       "    </tr>\n",
       "    <tr>\n",
       "      <th>2021-07-16</th>\n",
       "      <td>1822.000</td>\n",
       "      <td>1824.30</td>\n",
       "      <td>1316.030</td>\n",
       "      <td>1321.89</td>\n",
       "      <td>1541.96</td>\n",
       "      <td>1545.73</td>\n",
       "    </tr>\n",
       "    <tr>\n",
       "      <th>...</th>\n",
       "      <td>...</td>\n",
       "      <td>...</td>\n",
       "      <td>...</td>\n",
       "      <td>...</td>\n",
       "      <td>...</td>\n",
       "      <td>...</td>\n",
       "    </tr>\n",
       "    <tr>\n",
       "      <th>1968-01-08</th>\n",
       "      <td>35.138</td>\n",
       "      <td>NaN</td>\n",
       "      <td>14.586</td>\n",
       "      <td>NaN</td>\n",
       "      <td>NaN</td>\n",
       "      <td>NaN</td>\n",
       "    </tr>\n",
       "    <tr>\n",
       "      <th>1968-01-05</th>\n",
       "      <td>35.140</td>\n",
       "      <td>NaN</td>\n",
       "      <td>14.597</td>\n",
       "      <td>NaN</td>\n",
       "      <td>NaN</td>\n",
       "      <td>NaN</td>\n",
       "    </tr>\n",
       "    <tr>\n",
       "      <th>1968-01-04</th>\n",
       "      <td>35.141</td>\n",
       "      <td>NaN</td>\n",
       "      <td>14.603</td>\n",
       "      <td>NaN</td>\n",
       "      <td>NaN</td>\n",
       "      <td>NaN</td>\n",
       "    </tr>\n",
       "    <tr>\n",
       "      <th>1968-01-03</th>\n",
       "      <td>35.159</td>\n",
       "      <td>NaN</td>\n",
       "      <td>14.617</td>\n",
       "      <td>NaN</td>\n",
       "      <td>NaN</td>\n",
       "      <td>NaN</td>\n",
       "    </tr>\n",
       "    <tr>\n",
       "      <th>1968-01-02</th>\n",
       "      <td>35.181</td>\n",
       "      <td>NaN</td>\n",
       "      <td>14.641</td>\n",
       "      <td>NaN</td>\n",
       "      <td>NaN</td>\n",
       "      <td>NaN</td>\n",
       "    </tr>\n",
       "  </tbody>\n",
       "</table>\n",
       "<p>13549 rows × 6 columns</p>\n",
       "</div>"
      ],
      "text/plain": [
       "              AM USD    Value    AM GBP   PM GBP   AM EUR   PM EUR\n",
       "Date                                                              \n",
       "2021-07-22  1797.400  1799.45  1308.510  1307.12  1523.84  1523.05\n",
       "2021-07-21  1805.900  1802.15  1324.810  1317.73  1533.75  1529.30\n",
       "2021-07-20  1815.300  1823.05  1328.260  1339.21  1538.47  1549.77\n",
       "2021-07-19  1803.250  1814.90  1314.030  1322.88  1531.32  1535.04\n",
       "2021-07-16  1822.000  1824.30  1316.030  1321.89  1541.96  1545.73\n",
       "...              ...      ...       ...      ...      ...      ...\n",
       "1968-01-08    35.138      NaN    14.586      NaN      NaN      NaN\n",
       "1968-01-05    35.140      NaN    14.597      NaN      NaN      NaN\n",
       "1968-01-04    35.141      NaN    14.603      NaN      NaN      NaN\n",
       "1968-01-03    35.159      NaN    14.617      NaN      NaN      NaN\n",
       "1968-01-02    35.181      NaN    14.641      NaN      NaN      NaN\n",
       "\n",
       "[13549 rows x 6 columns]"
      ]
     },
     "execution_count": 7,
     "metadata": {},
     "output_type": "execute_result"
    }
   ],
   "source": [
    "gold"
   ]
  },
  {
   "cell_type": "markdown",
   "id": "b7d1ad20-6586-41b5-a544-faabed45aea9",
   "metadata": {},
   "source": [
    "### Se guarda este dataframe como pickle de los precios del oro desde 1968"
   ]
  },
  {
   "cell_type": "code",
   "execution_count": 8,
   "id": "aeacb14d-55f0-441a-90fe-f0012096d10a",
   "metadata": {},
   "outputs": [],
   "source": [
    "gold.to_pickle(r'..\\02-Data\\01-Gold\\01_Gold_USD-GBP-EUR_1968-01-02_2021-07-22_daily_lbma.pkl')"
   ]
  },
  {
   "cell_type": "markdown",
   "id": "c2602fc3-0aae-4e72-90a0-4146169e65a9",
   "metadata": {},
   "source": [
    "# Precio oro mensual desde 1950 en USD"
   ]
  },
  {
   "cell_type": "code",
   "execution_count": 9,
   "id": "bd6e8e77-d859-4ff4-b914-c12b24154282",
   "metadata": {},
   "outputs": [
    {
     "data": {
      "text/plain": [
       "\"gold_prev = pd.read_csv(r'..\\x01-Raw_Data\\x01-Gold\\\\gold_price_1950_2020_monthly_datahub.csv')\\ngold_prev.rename(columns={'Price': 'Value'}, inplace=True)\\ngold_prev.set_index('Date', inplace=True)\\ngold_prev.index = pd.to_datetime(gold_prev.index, format='%Y-%m') + MonthEnd(1)\""
      ]
     },
     "execution_count": 9,
     "metadata": {},
     "output_type": "execute_result"
    }
   ],
   "source": [
    "'''gold_prev = pd.read_csv(r'..\\01-Raw_Data\\01-Gold\\gold_price_1950_2020_monthly_datahub.csv')\n",
    "gold_prev.rename(columns={'Price': 'Value'}, inplace=True)\n",
    "gold_prev.set_index('Date', inplace=True)\n",
    "gold_prev.index = pd.to_datetime(gold_prev.index, format='%Y-%m') + MonthEnd(1)'''"
   ]
  },
  {
   "cell_type": "code",
   "execution_count": 10,
   "id": "e529eb9b-e879-45de-a8dc-4d30bc9e8ca1",
   "metadata": {},
   "outputs": [
    {
     "data": {
      "text/plain": [
       "'gold_prev'"
      ]
     },
     "execution_count": 10,
     "metadata": {},
     "output_type": "execute_result"
    }
   ],
   "source": [
    "'''gold_prev'''"
   ]
  },
  {
   "cell_type": "markdown",
   "id": "a5d835fe-8210-4a80-939c-c0f04a0896f3",
   "metadata": {},
   "source": [
    "### Se guarda este dataframe como pickle de los precios mensuales del oro desde 1950 en USD"
   ]
  },
  {
   "cell_type": "code",
   "execution_count": 11,
   "id": "2be5e471-0e74-42a9-84d4-0d4ecff0914f",
   "metadata": {},
   "outputs": [
    {
     "data": {
      "text/plain": [
       "\"gold_prev.to_pickle(r'..\\x02-Data\\x01-Gold\\x02_Gold_USD_1950-01-31_2020-07-01_monthly_datahub.pkl')\""
      ]
     },
     "execution_count": 11,
     "metadata": {},
     "output_type": "execute_result"
    }
   ],
   "source": [
    "'''gold_prev.to_pickle(r'..\\02-Data\\01-Gold\\02_Gold_USD_1950-01-31_2020-07-01_monthly_datahub.pkl')'''"
   ]
  },
  {
   "cell_type": "markdown",
   "id": "4beb89d5-809f-45d6-a7f5-b5436a6ba0b3",
   "metadata": {},
   "source": [
    "# Precio oro anual desde 1791 a 2020 en USD"
   ]
  },
  {
   "cell_type": "code",
   "execution_count": 12,
   "id": "96911f29-e1be-46b6-82d3-544aaf9922e5",
   "metadata": {},
   "outputs": [],
   "source": [
    "gold_prev_2 = pd.read_csv(r'..\\01-Raw_data\\01-Gold\\gold_price_1791_2020_yearly_denvergold.csv')"
   ]
  },
  {
   "cell_type": "code",
   "execution_count": 13,
   "id": "f4f1b4e2-838e-49fd-b8f7-7df1da3e7582",
   "metadata": {},
   "outputs": [
    {
     "name": "stderr",
     "output_type": "stream",
     "text": [
      "<ipython-input-13-0757f7a71613>:5: FutureWarning:\n",
      "\n",
      "The pandas.datetime class is deprecated and will be removed from pandas in a future version. Import from datetime module instead.\n",
      "\n"
     ]
    }
   ],
   "source": [
    "gold_prev_2 = gold_prev_2[['Year', 'Nominal ounce closing price USD']]\n",
    "gold_prev_2.rename(columns={\"Year\": \"Date\", 'Nominal ounce closing price USD': 'Value'}, inplace=True)\n",
    "gold_prev_2.set_index('Date', inplace=True)\n",
    "gold_prev_2.index = pd.to_datetime(gold_prev_2.index, format='%Y') + MonthEnd(1)\n",
    "gold_prev_2.index = gold_prev_2.index.map(lambda x: pd.datetime(x.year, 12, x.day))\n"
   ]
  },
  {
   "cell_type": "code",
   "execution_count": 14,
   "id": "c6c898fe-6a55-4561-af89-9d4b8b661ac3",
   "metadata": {},
   "outputs": [
    {
     "data": {
      "text/html": [
       "<div>\n",
       "<style scoped>\n",
       "    .dataframe tbody tr th:only-of-type {\n",
       "        vertical-align: middle;\n",
       "    }\n",
       "\n",
       "    .dataframe tbody tr th {\n",
       "        vertical-align: top;\n",
       "    }\n",
       "\n",
       "    .dataframe thead th {\n",
       "        text-align: right;\n",
       "    }\n",
       "</style>\n",
       "<table border=\"1\" class=\"dataframe\">\n",
       "  <thead>\n",
       "    <tr style=\"text-align: right;\">\n",
       "      <th></th>\n",
       "      <th>Value</th>\n",
       "    </tr>\n",
       "    <tr>\n",
       "      <th>Date</th>\n",
       "      <th></th>\n",
       "    </tr>\n",
       "  </thead>\n",
       "  <tbody>\n",
       "    <tr>\n",
       "      <th>1791-12-31</th>\n",
       "      <td>19.390000</td>\n",
       "    </tr>\n",
       "    <tr>\n",
       "      <th>1792-12-31</th>\n",
       "      <td>19.390000</td>\n",
       "    </tr>\n",
       "    <tr>\n",
       "      <th>1793-12-31</th>\n",
       "      <td>19.390000</td>\n",
       "    </tr>\n",
       "    <tr>\n",
       "      <th>1794-12-31</th>\n",
       "      <td>19.390000</td>\n",
       "    </tr>\n",
       "    <tr>\n",
       "      <th>1795-12-31</th>\n",
       "      <td>19.390000</td>\n",
       "    </tr>\n",
       "    <tr>\n",
       "      <th>...</th>\n",
       "      <td>...</td>\n",
       "    </tr>\n",
       "    <tr>\n",
       "      <th>2016-12-31</th>\n",
       "      <td>1248.207705</td>\n",
       "    </tr>\n",
       "    <tr>\n",
       "      <th>2017-12-31</th>\n",
       "      <td>1256.455444</td>\n",
       "    </tr>\n",
       "    <tr>\n",
       "      <th>2018-12-31</th>\n",
       "      <td>1269.245934</td>\n",
       "    </tr>\n",
       "    <tr>\n",
       "      <th>2019-12-31</th>\n",
       "      <td>1393.178430</td>\n",
       "    </tr>\n",
       "    <tr>\n",
       "      <th>2020-12-31</th>\n",
       "      <td>1770.784274</td>\n",
       "    </tr>\n",
       "  </tbody>\n",
       "</table>\n",
       "<p>230 rows × 1 columns</p>\n",
       "</div>"
      ],
      "text/plain": [
       "                  Value\n",
       "Date                   \n",
       "1791-12-31    19.390000\n",
       "1792-12-31    19.390000\n",
       "1793-12-31    19.390000\n",
       "1794-12-31    19.390000\n",
       "1795-12-31    19.390000\n",
       "...                 ...\n",
       "2016-12-31  1248.207705\n",
       "2017-12-31  1256.455444\n",
       "2018-12-31  1269.245934\n",
       "2019-12-31  1393.178430\n",
       "2020-12-31  1770.784274\n",
       "\n",
       "[230 rows x 1 columns]"
      ]
     },
     "execution_count": 14,
     "metadata": {},
     "output_type": "execute_result"
    }
   ],
   "source": [
    "gold_prev_2"
   ]
  },
  {
   "cell_type": "markdown",
   "id": "27d9f532-de45-4acc-b55c-9ac926e35772",
   "metadata": {},
   "source": [
    "### Se guarda este dataframe como pickle de los precios anules del oro desde 1791 en USD"
   ]
  },
  {
   "cell_type": "code",
   "execution_count": 15,
   "id": "0a5534a5-3485-4025-9390-80672a336ec5",
   "metadata": {},
   "outputs": [],
   "source": [
    "gold_prev_2.to_pickle(r'..\\02-Data\\01-Gold\\03_Gold_USD_1791-12-31_2020-12-31_yearly_denvergold.pkl')"
   ]
  },
  {
   "cell_type": "markdown",
   "id": "d569e8ee-8164-4114-9df3-0d46cb109fff",
   "metadata": {},
   "source": [
    "# Elaboración dataset completo oro"
   ]
  },
  {
   "cell_type": "markdown",
   "id": "956d2e7b-1612-4d73-a42d-04c1fc0af002",
   "metadata": {},
   "source": [
    "## Lectura datasets"
   ]
  },
  {
   "cell_type": "code",
   "execution_count": 16,
   "id": "5098eee6-e7e0-4b0d-b4aa-6a0905270153",
   "metadata": {},
   "outputs": [],
   "source": [
    "gold = pd.read_pickle(r'..\\02-Data\\01-Gold\\01_Gold_USD-GBP-EUR_1968-01-02_2021-07-22_daily_lbma.pkl')\n",
    "'''gold_prev = pd.read_pickle(r'..\\02-Data\\01-Gold\\02_Gold_USD_1950-01-31_2020-07-01_monthly_datahub.pkl')'''\n",
    "gold_prev_2 = pd.read_pickle(r'..\\02-Data\\01-Gold\\03_Gold_USD_1791-12-31_2020-12-31_yearly_denvergold.pkl')"
   ]
  },
  {
   "cell_type": "markdown",
   "id": "f43043e8-8bb6-40cb-bd53-4baee15ecc7c",
   "metadata": {},
   "source": [
    "### Filtrado datset gold"
   ]
  },
  {
   "cell_type": "code",
   "execution_count": 17,
   "id": "3f0abcc0-b597-447d-8feb-92987b03c3b2",
   "metadata": {},
   "outputs": [
    {
     "data": {
      "text/html": [
       "<div>\n",
       "<style scoped>\n",
       "    .dataframe tbody tr th:only-of-type {\n",
       "        vertical-align: middle;\n",
       "    }\n",
       "\n",
       "    .dataframe tbody tr th {\n",
       "        vertical-align: top;\n",
       "    }\n",
       "\n",
       "    .dataframe thead th {\n",
       "        text-align: right;\n",
       "    }\n",
       "</style>\n",
       "<table border=\"1\" class=\"dataframe\">\n",
       "  <thead>\n",
       "    <tr style=\"text-align: right;\">\n",
       "      <th></th>\n",
       "      <th>Value</th>\n",
       "    </tr>\n",
       "    <tr>\n",
       "      <th>Date</th>\n",
       "      <th></th>\n",
       "    </tr>\n",
       "  </thead>\n",
       "  <tbody>\n",
       "    <tr>\n",
       "      <th>2021-07-22</th>\n",
       "      <td>1799.45</td>\n",
       "    </tr>\n",
       "    <tr>\n",
       "      <th>2021-07-21</th>\n",
       "      <td>1802.15</td>\n",
       "    </tr>\n",
       "    <tr>\n",
       "      <th>2021-07-20</th>\n",
       "      <td>1823.05</td>\n",
       "    </tr>\n",
       "    <tr>\n",
       "      <th>2021-07-19</th>\n",
       "      <td>1814.90</td>\n",
       "    </tr>\n",
       "    <tr>\n",
       "      <th>2021-07-16</th>\n",
       "      <td>1824.30</td>\n",
       "    </tr>\n",
       "    <tr>\n",
       "      <th>...</th>\n",
       "      <td>...</td>\n",
       "    </tr>\n",
       "    <tr>\n",
       "      <th>1968-04-05</th>\n",
       "      <td>37.00</td>\n",
       "    </tr>\n",
       "    <tr>\n",
       "      <th>1968-04-04</th>\n",
       "      <td>36.95</td>\n",
       "    </tr>\n",
       "    <tr>\n",
       "      <th>1968-04-03</th>\n",
       "      <td>37.60</td>\n",
       "    </tr>\n",
       "    <tr>\n",
       "      <th>1968-04-02</th>\n",
       "      <td>37.30</td>\n",
       "    </tr>\n",
       "    <tr>\n",
       "      <th>1968-04-01</th>\n",
       "      <td>37.70</td>\n",
       "    </tr>\n",
       "  </tbody>\n",
       "</table>\n",
       "<p>13394 rows × 1 columns</p>\n",
       "</div>"
      ],
      "text/plain": [
       "              Value\n",
       "Date               \n",
       "2021-07-22  1799.45\n",
       "2021-07-21  1802.15\n",
       "2021-07-20  1823.05\n",
       "2021-07-19  1814.90\n",
       "2021-07-16  1824.30\n",
       "...             ...\n",
       "1968-04-05    37.00\n",
       "1968-04-04    36.95\n",
       "1968-04-03    37.60\n",
       "1968-04-02    37.30\n",
       "1968-04-01    37.70\n",
       "\n",
       "[13394 rows x 1 columns]"
      ]
     },
     "execution_count": 17,
     "metadata": {},
     "output_type": "execute_result"
    }
   ],
   "source": [
    "gold = gold.drop(['AM USD', 'AM GBP', 'PM GBP', 'AM EUR', 'PM EUR'], axis=1).dropna()\n",
    "gold"
   ]
  },
  {
   "cell_type": "code",
   "execution_count": 18,
   "id": "f48f2ef0-4a06-428e-8ac8-20ff60c313fb",
   "metadata": {},
   "outputs": [],
   "source": [
    "### Filtrado dataset gold_prev"
   ]
  },
  {
   "cell_type": "code",
   "execution_count": 19,
   "id": "1508921c-7ab3-4593-8bcb-8ea179984d4c",
   "metadata": {},
   "outputs": [
    {
     "data": {
      "text/plain": [
       "\"mask = (gold_prev.index < datetime.strptime('1968-04-01', '%Y-%m-%d'))\\ngold_prev = gold_prev.loc[mask]\""
      ]
     },
     "execution_count": 19,
     "metadata": {},
     "output_type": "execute_result"
    }
   ],
   "source": [
    "'''mask = (gold_prev.index < datetime.strptime('1968-04-01', '%Y-%m-%d'))\n",
    "gold_prev = gold_prev.loc[mask]'''"
   ]
  },
  {
   "cell_type": "code",
   "execution_count": 20,
   "id": "3d427ec3-9352-4d1b-bdfd-c58b82aabaf8",
   "metadata": {},
   "outputs": [
    {
     "data": {
      "text/plain": [
       "'gold_prev'"
      ]
     },
     "execution_count": 20,
     "metadata": {},
     "output_type": "execute_result"
    }
   ],
   "source": [
    "'''gold_prev'''"
   ]
  },
  {
   "cell_type": "markdown",
   "id": "4b656d4f-779b-4598-84cd-80f6c20661af",
   "metadata": {},
   "source": [
    "### Filtrado dataset gold_prev_2"
   ]
  },
  {
   "cell_type": "code",
   "execution_count": 26,
   "id": "ff33cfc3-d95b-4457-a73c-557df5ceabbc",
   "metadata": {},
   "outputs": [
    {
     "data": {
      "text/html": [
       "<div>\n",
       "<style scoped>\n",
       "    .dataframe tbody tr th:only-of-type {\n",
       "        vertical-align: middle;\n",
       "    }\n",
       "\n",
       "    .dataframe tbody tr th {\n",
       "        vertical-align: top;\n",
       "    }\n",
       "\n",
       "    .dataframe thead th {\n",
       "        text-align: right;\n",
       "    }\n",
       "</style>\n",
       "<table border=\"1\" class=\"dataframe\">\n",
       "  <thead>\n",
       "    <tr style=\"text-align: right;\">\n",
       "      <th></th>\n",
       "      <th>Value</th>\n",
       "    </tr>\n",
       "    <tr>\n",
       "      <th>Date</th>\n",
       "      <th></th>\n",
       "    </tr>\n",
       "  </thead>\n",
       "  <tbody>\n",
       "    <tr>\n",
       "      <th>1791-12-31</th>\n",
       "      <td>19.39</td>\n",
       "    </tr>\n",
       "    <tr>\n",
       "      <th>1792-12-31</th>\n",
       "      <td>19.39</td>\n",
       "    </tr>\n",
       "    <tr>\n",
       "      <th>1793-12-31</th>\n",
       "      <td>19.39</td>\n",
       "    </tr>\n",
       "    <tr>\n",
       "      <th>1794-12-31</th>\n",
       "      <td>19.39</td>\n",
       "    </tr>\n",
       "    <tr>\n",
       "      <th>1795-12-31</th>\n",
       "      <td>19.39</td>\n",
       "    </tr>\n",
       "    <tr>\n",
       "      <th>...</th>\n",
       "      <td>...</td>\n",
       "    </tr>\n",
       "    <tr>\n",
       "      <th>1963-12-31</th>\n",
       "      <td>35.09</td>\n",
       "    </tr>\n",
       "    <tr>\n",
       "      <th>1964-12-31</th>\n",
       "      <td>35.10</td>\n",
       "    </tr>\n",
       "    <tr>\n",
       "      <th>1965-12-31</th>\n",
       "      <td>35.12</td>\n",
       "    </tr>\n",
       "    <tr>\n",
       "      <th>1966-12-31</th>\n",
       "      <td>35.13</td>\n",
       "    </tr>\n",
       "    <tr>\n",
       "      <th>1967-12-31</th>\n",
       "      <td>34.95</td>\n",
       "    </tr>\n",
       "  </tbody>\n",
       "</table>\n",
       "<p>177 rows × 1 columns</p>\n",
       "</div>"
      ],
      "text/plain": [
       "            Value\n",
       "Date             \n",
       "1791-12-31  19.39\n",
       "1792-12-31  19.39\n",
       "1793-12-31  19.39\n",
       "1794-12-31  19.39\n",
       "1795-12-31  19.39\n",
       "...           ...\n",
       "1963-12-31  35.09\n",
       "1964-12-31  35.10\n",
       "1965-12-31  35.12\n",
       "1966-12-31  35.13\n",
       "1967-12-31  34.95\n",
       "\n",
       "[177 rows x 1 columns]"
      ]
     },
     "execution_count": 26,
     "metadata": {},
     "output_type": "execute_result"
    }
   ],
   "source": [
    "mask_2 = (gold_prev_2.index < datetime.strptime('1968-04-01', '%Y-%m-%d'))\n",
    "gold_prev_2 = gold_prev_2.loc[mask_2]\n",
    "gold_prev_2"
   ]
  },
  {
   "cell_type": "markdown",
   "id": "8714a39c-ebba-49b8-8718-e4e067a9b48d",
   "metadata": {},
   "source": [
    "# Se juntan los dataframes filtrados"
   ]
  },
  {
   "cell_type": "code",
   "execution_count": 22,
   "id": "f4cd36e7-ff5e-4c77-a037-1fa40401a824",
   "metadata": {},
   "outputs": [],
   "source": [
    "gold_def = gold.append(gold_prev_2).sort_index().reset_index().set_index('Date')"
   ]
  },
  {
   "cell_type": "code",
   "execution_count": 23,
   "id": "f825a00d-5c6e-4175-a116-9406b717204a",
   "metadata": {},
   "outputs": [
    {
     "data": {
      "text/plain": [
       "\"gold_def = gold_def.append(gold_prev_2).sort_index().reset_index().set_index('Date')\""
      ]
     },
     "execution_count": 23,
     "metadata": {},
     "output_type": "execute_result"
    }
   ],
   "source": [
    "'''gold_def = gold_def.append(gold_prev_2).sort_index().reset_index().set_index('Date')'''"
   ]
  },
  {
   "cell_type": "code",
   "execution_count": 24,
   "id": "931ce62a-dfb1-40bf-bd1e-cfdaece3cb0c",
   "metadata": {},
   "outputs": [
    {
     "data": {
      "text/html": [
       "<div>\n",
       "<style scoped>\n",
       "    .dataframe tbody tr th:only-of-type {\n",
       "        vertical-align: middle;\n",
       "    }\n",
       "\n",
       "    .dataframe tbody tr th {\n",
       "        vertical-align: top;\n",
       "    }\n",
       "\n",
       "    .dataframe thead th {\n",
       "        text-align: right;\n",
       "    }\n",
       "</style>\n",
       "<table border=\"1\" class=\"dataframe\">\n",
       "  <thead>\n",
       "    <tr style=\"text-align: right;\">\n",
       "      <th></th>\n",
       "      <th>Value</th>\n",
       "    </tr>\n",
       "    <tr>\n",
       "      <th>Date</th>\n",
       "      <th></th>\n",
       "    </tr>\n",
       "  </thead>\n",
       "  <tbody>\n",
       "    <tr>\n",
       "      <th>1791-12-31</th>\n",
       "      <td>19.39</td>\n",
       "    </tr>\n",
       "    <tr>\n",
       "      <th>1792-12-31</th>\n",
       "      <td>19.39</td>\n",
       "    </tr>\n",
       "    <tr>\n",
       "      <th>1793-12-31</th>\n",
       "      <td>19.39</td>\n",
       "    </tr>\n",
       "    <tr>\n",
       "      <th>1794-12-31</th>\n",
       "      <td>19.39</td>\n",
       "    </tr>\n",
       "    <tr>\n",
       "      <th>1795-12-31</th>\n",
       "      <td>19.39</td>\n",
       "    </tr>\n",
       "    <tr>\n",
       "      <th>...</th>\n",
       "      <td>...</td>\n",
       "    </tr>\n",
       "    <tr>\n",
       "      <th>2021-07-16</th>\n",
       "      <td>1824.30</td>\n",
       "    </tr>\n",
       "    <tr>\n",
       "      <th>2021-07-19</th>\n",
       "      <td>1814.90</td>\n",
       "    </tr>\n",
       "    <tr>\n",
       "      <th>2021-07-20</th>\n",
       "      <td>1823.05</td>\n",
       "    </tr>\n",
       "    <tr>\n",
       "      <th>2021-07-21</th>\n",
       "      <td>1802.15</td>\n",
       "    </tr>\n",
       "    <tr>\n",
       "      <th>2021-07-22</th>\n",
       "      <td>1799.45</td>\n",
       "    </tr>\n",
       "  </tbody>\n",
       "</table>\n",
       "<p>13571 rows × 1 columns</p>\n",
       "</div>"
      ],
      "text/plain": [
       "              Value\n",
       "Date               \n",
       "1791-12-31    19.39\n",
       "1792-12-31    19.39\n",
       "1793-12-31    19.39\n",
       "1794-12-31    19.39\n",
       "1795-12-31    19.39\n",
       "...             ...\n",
       "2021-07-16  1824.30\n",
       "2021-07-19  1814.90\n",
       "2021-07-20  1823.05\n",
       "2021-07-21  1802.15\n",
       "2021-07-22  1799.45\n",
       "\n",
       "[13571 rows x 1 columns]"
      ]
     },
     "execution_count": 24,
     "metadata": {},
     "output_type": "execute_result"
    }
   ],
   "source": [
    "gold_def"
   ]
  },
  {
   "cell_type": "code",
   "execution_count": 25,
   "id": "f3ec2c3c-088d-49a7-a18f-99265509a8f7",
   "metadata": {},
   "outputs": [],
   "source": [
    "gold_def.to_pickle(r'..\\02-Data\\01-Gold\\04_Gold_USD_1791-12-31_2020-07-22_mix.pkl')"
   ]
  },
  {
   "cell_type": "markdown",
   "id": "379e4be5-e7e2-447c-82d0-9148e1b19492",
   "metadata": {},
   "source": [
    "# Gold annual change on monthly spot"
   ]
  },
  {
   "cell_type": "code",
   "execution_count": 3,
   "id": "61b61056-944f-49ef-a079-42134cb1ee1b",
   "metadata": {},
   "outputs": [],
   "source": [
    "gold_prev = pd.read_pickle(r'..\\02-Data\\01-Gold\\01_Gold_USD-GBP-EUR_1968-01-02_2021-07-22_daily_lbma.pkl')"
   ]
  },
  {
   "cell_type": "code",
   "execution_count": 4,
   "id": "1cdf8063-4b7a-4be6-a5e7-b3a070e2d389",
   "metadata": {},
   "outputs": [],
   "source": [
    "gold_prev = gold_prev.drop(columns=['AM USD', 'AM GBP', 'PM GBP', 'AM EUR', 'PM EUR']).dropna()"
   ]
  },
  {
   "cell_type": "code",
   "execution_count": 5,
   "id": "423dd5f1-4094-406b-a2bd-6032646d52da",
   "metadata": {},
   "outputs": [],
   "source": [
    "gold_prev = gold_prev.groupby(gold_prev.index.strftime('%Y-%m')).head(1)"
   ]
  },
  {
   "cell_type": "code",
   "execution_count": 6,
   "id": "f019d640-4f4d-4584-91f7-516514e45984",
   "metadata": {},
   "outputs": [],
   "source": [
    "gold_prev = gold_prev.sort_index()"
   ]
  },
  {
   "cell_type": "code",
   "execution_count": 7,
   "id": "f0ae08c2-2156-48e7-99c7-22953a9c1d05",
   "metadata": {},
   "outputs": [],
   "source": [
    "gold_percentage = gold_prev.pct_change(12).dropna()"
   ]
  },
  {
   "cell_type": "code",
   "execution_count": 8,
   "id": "d5a7ac74-8e43-4962-aaa9-33316d859dc2",
   "metadata": {},
   "outputs": [
    {
     "data": {
      "text/html": [
       "<div>\n",
       "<style scoped>\n",
       "    .dataframe tbody tr th:only-of-type {\n",
       "        vertical-align: middle;\n",
       "    }\n",
       "\n",
       "    .dataframe tbody tr th {\n",
       "        vertical-align: top;\n",
       "    }\n",
       "\n",
       "    .dataframe thead th {\n",
       "        text-align: right;\n",
       "    }\n",
       "</style>\n",
       "<table border=\"1\" class=\"dataframe\">\n",
       "  <thead>\n",
       "    <tr style=\"text-align: right;\">\n",
       "      <th></th>\n",
       "      <th>Value</th>\n",
       "    </tr>\n",
       "    <tr>\n",
       "      <th>Date</th>\n",
       "      <th></th>\n",
       "    </tr>\n",
       "  </thead>\n",
       "  <tbody>\n",
       "    <tr>\n",
       "      <th>1969-04-30</th>\n",
       "      <td>0.115090</td>\n",
       "    </tr>\n",
       "    <tr>\n",
       "      <th>1969-05-30</th>\n",
       "      <td>0.026818</td>\n",
       "    </tr>\n",
       "    <tr>\n",
       "      <th>1969-06-30</th>\n",
       "      <td>0.007335</td>\n",
       "    </tr>\n",
       "    <tr>\n",
       "      <th>1969-07-31</th>\n",
       "      <td>0.065380</td>\n",
       "    </tr>\n",
       "    <tr>\n",
       "      <th>1969-08-29</th>\n",
       "      <td>0.026633</td>\n",
       "    </tr>\n",
       "    <tr>\n",
       "      <th>...</th>\n",
       "      <td>...</td>\n",
       "    </tr>\n",
       "    <tr>\n",
       "      <th>2021-03-31</th>\n",
       "      <td>0.051027</td>\n",
       "    </tr>\n",
       "    <tr>\n",
       "      <th>2021-04-30</th>\n",
       "      <td>0.038115</td>\n",
       "    </tr>\n",
       "    <tr>\n",
       "      <th>2021-05-28</th>\n",
       "      <td>0.099063</td>\n",
       "    </tr>\n",
       "    <tr>\n",
       "      <th>2021-06-30</th>\n",
       "      <td>-0.002800</td>\n",
       "    </tr>\n",
       "    <tr>\n",
       "      <th>2021-07-22</th>\n",
       "      <td>-0.084203</td>\n",
       "    </tr>\n",
       "  </tbody>\n",
       "</table>\n",
       "<p>628 rows × 1 columns</p>\n",
       "</div>"
      ],
      "text/plain": [
       "               Value\n",
       "Date                \n",
       "1969-04-30  0.115090\n",
       "1969-05-30  0.026818\n",
       "1969-06-30  0.007335\n",
       "1969-07-31  0.065380\n",
       "1969-08-29  0.026633\n",
       "...              ...\n",
       "2021-03-31  0.051027\n",
       "2021-04-30  0.038115\n",
       "2021-05-28  0.099063\n",
       "2021-06-30 -0.002800\n",
       "2021-07-22 -0.084203\n",
       "\n",
       "[628 rows x 1 columns]"
      ]
     },
     "execution_count": 8,
     "metadata": {},
     "output_type": "execute_result"
    }
   ],
   "source": [
    "gold_percentage"
   ]
  },
  {
   "cell_type": "code",
   "execution_count": 9,
   "id": "c4952a68-721c-42e3-b709-787f8d19d6ab",
   "metadata": {},
   "outputs": [],
   "source": [
    "gold_percentage.to_pickle(r'..\\02-Data\\01-Gold\\05-Gold_percentage_1968-04_2021-07_monthly_datahub.pkl')"
   ]
  },
  {
   "cell_type": "code",
   "execution_count": 223,
   "id": "fb4f18ba-0c38-4d50-94de-cb1f3610686d",
   "metadata": {},
   "outputs": [
    {
     "data": {
      "application/vnd.plotly.v1+json": {
       "config": {
        "plotlyServerURL": "https://plot.ly"
       },
       "data": [
        {
         "hovertemplate": "variable=Value<br>Date=%{x}<br>value=%{y}<extra></extra>",
         "legendgroup": "Value",
         "line": {
          "color": "#636efa",
          "dash": "solid"
         },
         "mode": "lines",
         "name": "Value",
         "orientation": "v",
         "showlegend": true,
         "type": "scatter",
         "x": [
          "1969-04-30T00:00:00",
          "1969-05-30T00:00:00",
          "1969-06-30T00:00:00",
          "1969-07-31T00:00:00",
          "1969-08-29T00:00:00",
          "1969-09-30T00:00:00",
          "1969-10-31T00:00:00",
          "1969-11-28T00:00:00",
          "1969-12-31T00:00:00",
          "1970-01-30T00:00:00",
          "1970-02-27T00:00:00",
          "1970-03-31T00:00:00",
          "1970-04-30T00:00:00",
          "1970-05-29T00:00:00",
          "1970-06-30T00:00:00",
          "1970-07-31T00:00:00",
          "1970-08-28T00:00:00",
          "1970-09-30T00:00:00",
          "1970-10-30T00:00:00",
          "1970-11-30T00:00:00",
          "1970-12-31T00:00:00",
          "1971-01-29T00:00:00",
          "1971-02-26T00:00:00",
          "1971-03-31T00:00:00",
          "1971-04-30T00:00:00",
          "1971-05-28T00:00:00",
          "1971-06-30T00:00:00",
          "1971-07-30T00:00:00",
          "1971-08-31T00:00:00",
          "1971-09-30T00:00:00",
          "1971-10-29T00:00:00",
          "1971-11-30T00:00:00",
          "1971-12-31T00:00:00",
          "1972-01-31T00:00:00",
          "1972-02-29T00:00:00",
          "1972-03-30T00:00:00",
          "1972-04-28T00:00:00",
          "1972-05-31T00:00:00",
          "1972-06-30T00:00:00",
          "1972-07-31T00:00:00",
          "1972-08-31T00:00:00",
          "1972-09-29T00:00:00",
          "1972-10-31T00:00:00",
          "1972-11-30T00:00:00",
          "1972-12-29T00:00:00",
          "1973-01-31T00:00:00",
          "1973-02-28T00:00:00",
          "1973-03-30T00:00:00",
          "1973-04-30T00:00:00",
          "1973-05-31T00:00:00",
          "1973-06-29T00:00:00",
          "1973-07-31T00:00:00",
          "1973-08-31T00:00:00",
          "1973-09-28T00:00:00",
          "1973-10-31T00:00:00",
          "1973-11-30T00:00:00",
          "1973-12-31T00:00:00",
          "1974-01-31T00:00:00",
          "1974-02-28T00:00:00",
          "1974-03-29T00:00:00",
          "1974-04-30T00:00:00",
          "1974-05-31T00:00:00",
          "1974-06-28T00:00:00",
          "1974-07-31T00:00:00",
          "1974-08-30T00:00:00",
          "1974-09-30T00:00:00",
          "1974-10-31T00:00:00",
          "1974-11-29T00:00:00",
          "1974-12-31T00:00:00",
          "1975-01-31T00:00:00",
          "1975-02-28T00:00:00",
          "1975-03-27T00:00:00",
          "1975-04-30T00:00:00",
          "1975-05-30T00:00:00",
          "1975-06-30T00:00:00",
          "1975-07-31T00:00:00",
          "1975-08-29T00:00:00",
          "1975-09-30T00:00:00",
          "1975-10-31T00:00:00",
          "1975-11-28T00:00:00",
          "1975-12-31T00:00:00",
          "1976-01-30T00:00:00",
          "1976-02-27T00:00:00",
          "1976-03-31T00:00:00",
          "1976-04-30T00:00:00",
          "1976-05-28T00:00:00",
          "1976-06-30T00:00:00",
          "1976-07-30T00:00:00",
          "1976-08-31T00:00:00",
          "1976-09-30T00:00:00",
          "1976-10-29T00:00:00",
          "1976-11-30T00:00:00",
          "1976-12-31T00:00:00",
          "1977-01-31T00:00:00",
          "1977-02-28T00:00:00",
          "1977-03-31T00:00:00",
          "1977-04-29T00:00:00",
          "1977-05-31T00:00:00",
          "1977-06-30T00:00:00",
          "1977-07-29T00:00:00",
          "1977-08-31T00:00:00",
          "1977-09-30T00:00:00",
          "1977-10-31T00:00:00",
          "1977-11-30T00:00:00",
          "1977-12-30T00:00:00",
          "1978-01-31T00:00:00",
          "1978-02-28T00:00:00",
          "1978-03-31T00:00:00",
          "1978-04-28T00:00:00",
          "1978-05-31T00:00:00",
          "1978-06-30T00:00:00",
          "1978-07-31T00:00:00",
          "1978-08-31T00:00:00",
          "1978-09-29T00:00:00",
          "1978-10-31T00:00:00",
          "1978-11-30T00:00:00",
          "1978-12-29T00:00:00",
          "1979-01-31T00:00:00",
          "1979-02-28T00:00:00",
          "1979-03-30T00:00:00",
          "1979-04-30T00:00:00",
          "1979-05-31T00:00:00",
          "1979-06-29T00:00:00",
          "1979-07-31T00:00:00",
          "1979-08-31T00:00:00",
          "1979-09-28T00:00:00",
          "1979-10-31T00:00:00",
          "1979-11-30T00:00:00",
          "1979-12-28T00:00:00",
          "1980-01-31T00:00:00",
          "1980-02-29T00:00:00",
          "1980-03-31T00:00:00",
          "1980-04-30T00:00:00",
          "1980-05-30T00:00:00",
          "1980-06-30T00:00:00",
          "1980-07-31T00:00:00",
          "1980-08-29T00:00:00",
          "1980-09-30T00:00:00",
          "1980-10-31T00:00:00",
          "1980-11-28T00:00:00",
          "1980-12-30T00:00:00",
          "1981-01-30T00:00:00",
          "1981-02-27T00:00:00",
          "1981-03-31T00:00:00",
          "1981-04-30T00:00:00",
          "1981-05-29T00:00:00",
          "1981-06-30T00:00:00",
          "1981-07-31T00:00:00",
          "1981-08-28T00:00:00",
          "1981-09-30T00:00:00",
          "1981-10-30T00:00:00",
          "1981-11-30T00:00:00",
          "1981-12-30T00:00:00",
          "1982-01-29T00:00:00",
          "1982-02-26T00:00:00",
          "1982-03-31T00:00:00",
          "1982-04-30T00:00:00",
          "1982-05-28T00:00:00",
          "1982-06-30T00:00:00",
          "1982-07-30T00:00:00",
          "1982-08-31T00:00:00",
          "1982-09-30T00:00:00",
          "1982-10-29T00:00:00",
          "1982-11-30T00:00:00",
          "1982-12-30T00:00:00",
          "1983-01-31T00:00:00",
          "1983-02-28T00:00:00",
          "1983-03-31T00:00:00",
          "1983-04-29T00:00:00",
          "1983-05-31T00:00:00",
          "1983-06-30T00:00:00",
          "1983-07-29T00:00:00",
          "1983-08-31T00:00:00",
          "1983-09-30T00:00:00",
          "1983-10-31T00:00:00",
          "1983-11-30T00:00:00",
          "1983-12-29T00:00:00",
          "1984-01-31T00:00:00",
          "1984-02-29T00:00:00",
          "1984-03-30T00:00:00",
          "1984-04-30T00:00:00",
          "1984-05-31T00:00:00",
          "1984-06-29T00:00:00",
          "1984-07-31T00:00:00",
          "1984-08-31T00:00:00",
          "1984-09-28T00:00:00",
          "1984-10-31T00:00:00",
          "1984-11-30T00:00:00",
          "1984-12-31T00:00:00",
          "1985-01-31T00:00:00",
          "1985-02-28T00:00:00",
          "1985-03-29T00:00:00",
          "1985-04-30T00:00:00",
          "1985-05-31T00:00:00",
          "1985-06-28T00:00:00",
          "1985-07-31T00:00:00",
          "1985-08-30T00:00:00",
          "1985-09-30T00:00:00",
          "1985-10-31T00:00:00",
          "1985-11-29T00:00:00",
          "1985-12-30T00:00:00",
          "1986-01-31T00:00:00",
          "1986-02-28T00:00:00",
          "1986-03-27T00:00:00",
          "1986-04-30T00:00:00",
          "1986-05-30T00:00:00",
          "1986-06-30T00:00:00",
          "1986-07-31T00:00:00",
          "1986-08-29T00:00:00",
          "1986-09-30T00:00:00",
          "1986-10-31T00:00:00",
          "1986-11-28T00:00:00",
          "1986-12-30T00:00:00",
          "1987-01-30T00:00:00",
          "1987-02-27T00:00:00",
          "1987-03-31T00:00:00",
          "1987-04-30T00:00:00",
          "1987-05-29T00:00:00",
          "1987-06-30T00:00:00",
          "1987-07-31T00:00:00",
          "1987-08-28T00:00:00",
          "1987-09-30T00:00:00",
          "1987-10-30T00:00:00",
          "1987-11-30T00:00:00",
          "1987-12-30T00:00:00",
          "1988-01-29T00:00:00",
          "1988-02-29T00:00:00",
          "1988-03-31T00:00:00",
          "1988-04-29T00:00:00",
          "1988-05-31T00:00:00",
          "1988-06-30T00:00:00",
          "1988-07-29T00:00:00",
          "1988-08-31T00:00:00",
          "1988-09-30T00:00:00",
          "1988-10-31T00:00:00",
          "1988-11-30T00:00:00",
          "1988-12-29T00:00:00",
          "1989-01-31T00:00:00",
          "1989-02-28T00:00:00",
          "1989-03-31T00:00:00",
          "1989-04-28T00:00:00",
          "1989-05-31T00:00:00",
          "1989-06-30T00:00:00",
          "1989-07-31T00:00:00",
          "1989-08-31T00:00:00",
          "1989-09-29T00:00:00",
          "1989-10-31T00:00:00",
          "1989-11-30T00:00:00",
          "1989-12-28T00:00:00",
          "1990-01-31T00:00:00",
          "1990-02-28T00:00:00",
          "1990-03-30T00:00:00",
          "1990-04-30T00:00:00",
          "1990-05-31T00:00:00",
          "1990-06-29T00:00:00",
          "1990-07-31T00:00:00",
          "1990-08-31T00:00:00",
          "1990-09-28T00:00:00",
          "1990-10-31T00:00:00",
          "1990-11-30T00:00:00",
          "1990-12-28T00:00:00",
          "1991-01-31T00:00:00",
          "1991-02-28T00:00:00",
          "1991-03-28T00:00:00",
          "1991-04-30T00:00:00",
          "1991-05-31T00:00:00",
          "1991-06-28T00:00:00",
          "1991-07-31T00:00:00",
          "1991-08-30T00:00:00",
          "1991-09-30T00:00:00",
          "1991-10-31T00:00:00",
          "1991-11-29T00:00:00",
          "1991-12-30T00:00:00",
          "1992-01-31T00:00:00",
          "1992-02-28T00:00:00",
          "1992-03-31T00:00:00",
          "1992-04-30T00:00:00",
          "1992-05-29T00:00:00",
          "1992-06-30T00:00:00",
          "1992-07-31T00:00:00",
          "1992-08-28T00:00:00",
          "1992-09-30T00:00:00",
          "1992-10-30T00:00:00",
          "1992-11-30T00:00:00",
          "1992-12-30T00:00:00",
          "1993-01-29T00:00:00",
          "1993-02-26T00:00:00",
          "1993-03-31T00:00:00",
          "1993-04-30T00:00:00",
          "1993-05-28T00:00:00",
          "1993-06-30T00:00:00",
          "1993-07-30T00:00:00",
          "1993-08-31T00:00:00",
          "1993-09-30T00:00:00",
          "1993-10-29T00:00:00",
          "1993-11-30T00:00:00",
          "1993-12-30T00:00:00",
          "1994-01-31T00:00:00",
          "1994-02-28T00:00:00",
          "1994-03-31T00:00:00",
          "1994-04-29T00:00:00",
          "1994-05-31T00:00:00",
          "1994-06-30T00:00:00",
          "1994-07-29T00:00:00",
          "1994-08-31T00:00:00",
          "1994-09-30T00:00:00",
          "1994-10-31T00:00:00",
          "1994-11-30T00:00:00",
          "1994-12-29T00:00:00",
          "1995-01-31T00:00:00",
          "1995-02-28T00:00:00",
          "1995-03-31T00:00:00",
          "1995-04-28T00:00:00",
          "1995-05-31T00:00:00",
          "1995-06-30T00:00:00",
          "1995-07-31T00:00:00",
          "1995-08-31T00:00:00",
          "1995-09-29T00:00:00",
          "1995-10-31T00:00:00",
          "1995-11-30T00:00:00",
          "1995-12-28T00:00:00",
          "1996-01-31T00:00:00",
          "1996-02-29T00:00:00",
          "1996-03-29T00:00:00",
          "1996-04-30T00:00:00",
          "1996-05-31T00:00:00",
          "1996-06-28T00:00:00",
          "1996-07-31T00:00:00",
          "1996-08-30T00:00:00",
          "1996-09-30T00:00:00",
          "1996-10-31T00:00:00",
          "1996-11-29T00:00:00",
          "1996-12-30T00:00:00",
          "1997-01-31T00:00:00",
          "1997-02-28T00:00:00",
          "1997-03-27T00:00:00",
          "1997-04-30T00:00:00",
          "1997-05-30T00:00:00",
          "1997-06-30T00:00:00",
          "1997-07-31T00:00:00",
          "1997-08-29T00:00:00",
          "1997-09-30T00:00:00",
          "1997-10-31T00:00:00",
          "1997-11-28T00:00:00",
          "1997-12-30T00:00:00",
          "1998-01-30T00:00:00",
          "1998-02-27T00:00:00",
          "1998-03-31T00:00:00",
          "1998-04-30T00:00:00",
          "1998-05-29T00:00:00",
          "1998-06-30T00:00:00",
          "1998-07-31T00:00:00",
          "1998-08-28T00:00:00",
          "1998-09-30T00:00:00",
          "1998-10-30T00:00:00",
          "1998-11-30T00:00:00",
          "1998-12-30T00:00:00",
          "1999-01-29T00:00:00",
          "1999-02-26T00:00:00",
          "1999-03-31T00:00:00",
          "1999-04-30T00:00:00",
          "1999-05-28T00:00:00",
          "1999-06-30T00:00:00",
          "1999-07-30T00:00:00",
          "1999-08-31T00:00:00",
          "1999-09-30T00:00:00",
          "1999-10-29T00:00:00",
          "1999-11-30T00:00:00",
          "1999-12-30T00:00:00",
          "2000-01-31T00:00:00",
          "2000-02-29T00:00:00",
          "2000-03-31T00:00:00",
          "2000-04-28T00:00:00",
          "2000-05-31T00:00:00",
          "2000-06-30T00:00:00",
          "2000-07-31T00:00:00",
          "2000-08-31T00:00:00",
          "2000-09-29T00:00:00",
          "2000-10-31T00:00:00",
          "2000-11-30T00:00:00",
          "2000-12-28T00:00:00",
          "2001-01-31T00:00:00",
          "2001-02-28T00:00:00",
          "2001-03-30T00:00:00",
          "2001-04-30T00:00:00",
          "2001-05-31T00:00:00",
          "2001-06-29T00:00:00",
          "2001-07-31T00:00:00",
          "2001-08-31T00:00:00",
          "2001-09-28T00:00:00",
          "2001-10-31T00:00:00",
          "2001-11-30T00:00:00",
          "2001-12-28T00:00:00",
          "2002-01-31T00:00:00",
          "2002-02-28T00:00:00",
          "2002-03-28T00:00:00",
          "2002-04-30T00:00:00",
          "2002-05-31T00:00:00",
          "2002-06-28T00:00:00",
          "2002-07-31T00:00:00",
          "2002-08-30T00:00:00",
          "2002-09-30T00:00:00",
          "2002-10-31T00:00:00",
          "2002-11-29T00:00:00",
          "2002-12-30T00:00:00",
          "2003-01-31T00:00:00",
          "2003-02-28T00:00:00",
          "2003-03-31T00:00:00",
          "2003-04-30T00:00:00",
          "2003-05-30T00:00:00",
          "2003-06-30T00:00:00",
          "2003-07-31T00:00:00",
          "2003-08-29T00:00:00",
          "2003-09-30T00:00:00",
          "2003-10-31T00:00:00",
          "2003-11-28T00:00:00",
          "2003-12-30T00:00:00",
          "2004-01-30T00:00:00",
          "2004-02-27T00:00:00",
          "2004-03-31T00:00:00",
          "2004-04-30T00:00:00",
          "2004-05-28T00:00:00",
          "2004-06-30T00:00:00",
          "2004-07-30T00:00:00",
          "2004-08-31T00:00:00",
          "2004-09-30T00:00:00",
          "2004-10-29T00:00:00",
          "2004-11-30T00:00:00",
          "2004-12-30T00:00:00",
          "2005-01-31T00:00:00",
          "2005-02-28T00:00:00",
          "2005-03-31T00:00:00",
          "2005-04-29T00:00:00",
          "2005-05-31T00:00:00",
          "2005-06-30T00:00:00",
          "2005-07-29T00:00:00",
          "2005-08-31T00:00:00",
          "2005-09-30T00:00:00",
          "2005-10-31T00:00:00",
          "2005-11-30T00:00:00",
          "2005-12-29T00:00:00",
          "2006-01-31T00:00:00",
          "2006-02-28T00:00:00",
          "2006-03-31T00:00:00",
          "2006-04-28T00:00:00",
          "2006-05-31T00:00:00",
          "2006-06-30T00:00:00",
          "2006-07-31T00:00:00",
          "2006-08-31T00:00:00",
          "2006-09-29T00:00:00",
          "2006-10-31T00:00:00",
          "2006-11-30T00:00:00",
          "2006-12-28T00:00:00",
          "2007-01-31T00:00:00",
          "2007-02-28T00:00:00",
          "2007-03-30T00:00:00",
          "2007-04-30T00:00:00",
          "2007-05-31T00:00:00",
          "2007-06-29T00:00:00",
          "2007-07-31T00:00:00",
          "2007-08-31T00:00:00",
          "2007-09-28T00:00:00",
          "2007-10-31T00:00:00",
          "2007-11-30T00:00:00",
          "2007-12-28T00:00:00",
          "2008-01-31T00:00:00",
          "2008-02-29T00:00:00",
          "2008-03-31T00:00:00",
          "2008-04-30T00:00:00",
          "2008-05-30T00:00:00",
          "2008-06-30T00:00:00",
          "2008-07-31T00:00:00",
          "2008-08-29T00:00:00",
          "2008-09-30T00:00:00",
          "2008-10-31T00:00:00",
          "2008-11-28T00:00:00",
          "2008-12-30T00:00:00",
          "2009-01-30T00:00:00",
          "2009-02-27T00:00:00",
          "2009-03-31T00:00:00",
          "2009-04-30T00:00:00",
          "2009-05-29T00:00:00",
          "2009-06-30T00:00:00",
          "2009-07-31T00:00:00",
          "2009-08-28T00:00:00",
          "2009-09-30T00:00:00",
          "2009-10-30T00:00:00",
          "2009-11-30T00:00:00",
          "2009-12-30T00:00:00",
          "2010-01-29T00:00:00",
          "2010-02-26T00:00:00",
          "2010-03-31T00:00:00",
          "2010-04-30T00:00:00",
          "2010-05-28T00:00:00",
          "2010-06-30T00:00:00",
          "2010-07-30T00:00:00",
          "2010-08-31T00:00:00",
          "2010-09-30T00:00:00",
          "2010-10-29T00:00:00",
          "2010-11-30T00:00:00",
          "2010-12-30T00:00:00",
          "2011-01-31T00:00:00",
          "2011-02-28T00:00:00",
          "2011-03-31T00:00:00",
          "2011-04-28T00:00:00",
          "2011-05-31T00:00:00",
          "2011-06-30T00:00:00",
          "2011-07-29T00:00:00",
          "2011-08-31T00:00:00",
          "2011-09-30T00:00:00",
          "2011-10-31T00:00:00",
          "2011-11-30T00:00:00",
          "2011-12-29T00:00:00",
          "2012-01-31T00:00:00",
          "2012-02-29T00:00:00",
          "2012-03-30T00:00:00",
          "2012-04-30T00:00:00",
          "2012-05-31T00:00:00",
          "2012-06-29T00:00:00",
          "2012-07-31T00:00:00",
          "2012-08-31T00:00:00",
          "2012-09-28T00:00:00",
          "2012-10-31T00:00:00",
          "2012-11-30T00:00:00",
          "2012-12-28T00:00:00",
          "2013-01-31T00:00:00",
          "2013-02-28T00:00:00",
          "2013-03-28T00:00:00",
          "2013-04-30T00:00:00",
          "2013-05-31T00:00:00",
          "2013-06-28T00:00:00",
          "2013-07-31T00:00:00",
          "2013-08-30T00:00:00",
          "2013-09-30T00:00:00",
          "2013-10-31T00:00:00",
          "2013-11-29T00:00:00",
          "2013-12-30T00:00:00",
          "2014-01-31T00:00:00",
          "2014-02-28T00:00:00",
          "2014-03-31T00:00:00",
          "2014-04-30T00:00:00",
          "2014-05-30T00:00:00",
          "2014-06-30T00:00:00",
          "2014-07-31T00:00:00",
          "2014-08-29T00:00:00",
          "2014-09-30T00:00:00",
          "2014-10-31T00:00:00",
          "2014-11-28T00:00:00",
          "2014-12-30T00:00:00",
          "2015-01-30T00:00:00",
          "2015-02-27T00:00:00",
          "2015-03-31T00:00:00",
          "2015-04-30T00:00:00",
          "2015-05-29T00:00:00",
          "2015-06-30T00:00:00",
          "2015-07-31T00:00:00",
          "2015-08-28T00:00:00",
          "2015-09-30T00:00:00",
          "2015-10-30T00:00:00",
          "2015-11-30T00:00:00",
          "2015-12-30T00:00:00",
          "2016-01-29T00:00:00",
          "2016-02-29T00:00:00",
          "2016-03-31T00:00:00",
          "2016-04-29T00:00:00",
          "2016-05-31T00:00:00",
          "2016-06-30T00:00:00",
          "2016-07-29T00:00:00",
          "2016-08-31T00:00:00",
          "2016-09-30T00:00:00",
          "2016-10-31T00:00:00",
          "2016-11-30T00:00:00",
          "2016-12-29T00:00:00",
          "2017-01-31T00:00:00",
          "2017-02-28T00:00:00",
          "2017-03-31T00:00:00",
          "2017-04-28T00:00:00",
          "2017-05-31T00:00:00",
          "2017-06-30T00:00:00",
          "2017-07-31T00:00:00",
          "2017-08-31T00:00:00",
          "2017-09-29T00:00:00",
          "2017-10-31T00:00:00",
          "2017-11-30T00:00:00",
          "2017-12-28T00:00:00",
          "2018-01-31T00:00:00",
          "2018-02-28T00:00:00",
          "2018-03-29T00:00:00",
          "2018-04-30T00:00:00",
          "2018-05-31T00:00:00",
          "2018-06-29T00:00:00",
          "2018-07-31T00:00:00",
          "2018-08-31T00:00:00",
          "2018-09-28T00:00:00",
          "2018-10-31T00:00:00",
          "2018-11-30T00:00:00",
          "2018-12-28T00:00:00",
          "2019-01-31T00:00:00",
          "2019-02-28T00:00:00",
          "2019-03-29T00:00:00",
          "2019-04-30T00:00:00",
          "2019-05-31T00:00:00",
          "2019-06-28T00:00:00",
          "2019-07-31T00:00:00",
          "2019-08-30T00:00:00",
          "2019-09-30T00:00:00",
          "2019-10-31T00:00:00",
          "2019-11-29T00:00:00",
          "2019-12-30T00:00:00",
          "2020-01-31T00:00:00",
          "2020-02-28T00:00:00",
          "2020-03-31T00:00:00",
          "2020-04-30T00:00:00",
          "2020-05-29T00:00:00",
          "2020-06-30T00:00:00",
          "2020-07-31T00:00:00",
          "2020-08-28T00:00:00",
          "2020-09-30T00:00:00",
          "2020-10-30T00:00:00",
          "2020-11-30T00:00:00",
          "2020-12-30T00:00:00",
          "2021-01-29T00:00:00",
          "2021-02-26T00:00:00",
          "2021-03-31T00:00:00",
          "2021-04-30T00:00:00",
          "2021-05-28T00:00:00",
          "2021-06-30T00:00:00",
          "2021-07-22T00:00:00"
         ],
         "xaxis": "x",
         "y": [
          11.508951406649626,
          2.681764004767584,
          0.7334963325183574,
          6.537966537966544,
          2.6633165829145877,
          2.714646464646453,
          1.9230769230769162,
          -10.66499372647428,
          -15.990453460620513,
          -17.748001880582976,
          -17.985948477751755,
          -17.715617715617714,
          -17.77522935779816,
          -17.70168311085316,
          -13.85922330097088,
          -14.713698961101729,
          -12.383749388154685,
          -10.51014136447449,
          -6.2893081761006275,
          5.449438202247192,
          6.178977272727271,
          8.745355815947399,
          10.793832095945156,
          10.127478753541075,
          10.73919107391912,
          15.20451339915374,
          12.989574528036062,
          20.113314447592078,
          13.547486033519561,
          17.03296703296704,
          13.66442953020135,
          16.142781033564212,
          16.722408026755865,
          23.915900131406055,
          24.226804123711364,
          24.450160771704187,
          24.937027707808568,
          45.568070519098924,
          61.22194513715711,
          61.084905660377366,
          64.51414514145142,
          50.70422535211267,
          52.07841284837031,
          45.871559633027516,
          48.767908309455606,
          39.978791092258746,
          76.34854771784232,
          86.02728400165356,
          82.91330645161288,
          93.0193439865433,
          90.64191802010826,
          69.25329428989751,
          54.7663551401869,
          55.7632398753894,
          52.19754620282653,
          58.80503144654088,
          72.9583975346687,
          100.75757575757578,
          91.1764705882353,
          92.22222222222223,
          86.55276935794987,
          36.60130718954249,
          17.038539553752543,
          34.94809688581315,
          50.72463768115942,
          51.24999999999999,
          70.40816326530613,
          82.17821782178218,
          66.14699331848553,
          32.679245283018886,
          11.84615384615384,
          2.4566473988439252,
          -1.3293943870014813,
          6.5390749601276,
          15.25129982668978,
          6.858974358974357,
          2.4358974358974494,
          -6.6115702479338845,
          -14.43113772455089,
          -24.91847826086956,
          -24.798927613941025,
          -27.104664391353815,
          -27.207702888583206,
          -26.88293370944993,
          -23.11377245508982,
          -24.850299401197606,
          -25.533834586466163,
          -32.51349730053988,
          -34.91864831038799,
          -17.876106194690266,
          -13.820853743876837,
          -5.718422005066959,
          -4.099821746880572,
          3.2383925087787757,
          7.89871504157218,
          14.891975308641992,
          14.680685358255442,
          13.904382470119515,
          15.508885298869156,
          28.088888888888874,
          40.38461538461537,
          32.80172413793105,
          31.140885099472193,
          22.879078694817668,
          22.63940520446095,
          32.842025699168545,
          27.670753064798603,
          21.96104768300873,
          16.027164685908325,
          28.82126617698497,
          28.006993006993007,
          38.96599583622484,
          42.94520547945204,
          40.92827004219408,
          50.21671826625387,
          20.837238363011544,
          37.01121551985451,
          32.97297297297297,
          37.8875171467764,
          32.2136563876652,
          43.57623646473516,
          49.117567200651656,
          51.597924064463264,
          48.039950062421966,
          50.98227120268331,
          82.98019345923538,
          57.460840890354504,
          114.91726990692861,
          126.54867256637168,
          179.41805733846815,
          153.48189415041782,
          105.9558517284465,
          111.16999592335914,
          95.01092498179169,
          135.49549549549548,
          107.20188902007087,
          100.3332275468105,
          67.84140969162995,
          64.65968586387434,
          49.103813304462896,
          15.185546875,
          -22.434915773353747,
          -23.23390894819466,
          3.892821031344784,
          -6.8050193050193,
          -10.504201680672265,
          -34.81254781943382,
          -33.903133903133906,
          -32.67326732673267,
          -35.69553805774278,
          -32.11446740858506,
          -33.118192819685355,
          -32.59855871131836,
          -23.59328726554788,
          -25.848670756646207,
          -37.71289537712895,
          -25.168306576903156,
          -32.13354199269693,
          -25.469483568075113,
          -15.54187192118227,
          -3.1764705882352917,
          -7.4052478134110755,
          -0.8782201405152179,
          5.186972255729794,
          14.943396226415096,
          29.06976744186047,
          12.658576944291223,
          29.609375000000004,
          18.823529411764707,
          34.51191391237509,
          31.023622047244093,
          23.067949839603386,
          0.6682867557715744,
          2.015113350125941,
          -9.746012994683994,
          -7.110091743119263,
          -16.305537316699493,
          -25.17517517517518,
          -3.488372093023251,
          -6.329113924050633,
          -12.451951077460688,
          -12.171428571428567,
          -10.324519230769225,
          -18.874407582938378,
          -15.932407966203987,
          -15.123456790123457,
          -12.696335078534027,
          -18.765432098765434,
          -19.3776150627615,
          -17.953177257525088,
          -27.013316423589096,
          -15.250965250965255,
          -14.489089941458221,
          -18.282368249837344,
          -14.823750167537863,
          -4.33766613115234,
          -4.307250538406315,
          -5.236363636363639,
          -2.5187406296851456,
          -1.1246200607902712,
          6.00064871878041,
          14.299690200554394,
          17.51520417028669,
          4.479878511769164,
          7.592967169752596,
          9.29936305732484,
          9.126671911880413,
          9.160305343511443,
          15.438859714928732,
          29.91557943207981,
          23.346662565364483,
          19.73562865047649,
          18.95654834761322,
          14.265335235378029,
          20.020700872393917,
          22.383720930232553,
          31.091829356471436,
          31.41025641025641,
          28.997837058399423,
          29.370629370629374,
          17.85807122433065,
          8.577504725897933,
          16.9077306733167,
          26.44415917843388,
          24.527331189710623,
          14.357053682896371,
          5.001847973389162,
          8.539192399049877,
          -0.9376723662437914,
          0.9977827050997812,
          -2.403308741336907,
          -5.556756756756753,
          -5.657256285840317,
          -13.66702937976061,
          -12.030716723549496,
          -14.192893401015228,
          -15.255112580045449,
          -13.973799126637553,
          -9.18690601900739,
          -16.1396214027793,
          -15.913140311804009,
          -20.570801317233812,
          -14.55732447600504,
          -15.682234432234432,
          -15.885447106954997,
          -7.61280564658432,
          -8.996120271580976,
          -3.419309039280649,
          -2.83973187081048,
          5.342639593908638,
          5.348837209302326,
          -3.8361169102296477,
          -2.5956826910343067,
          0.3454947484798243,
          -5.576407506702418,
          1.0860711376595056,
          7.768204558087821,
          11.432469304229187,
          1.1191047162270262,
          -5.708685532279789,
          -3.1108881083793394,
          -11.817853270690282,
          -11.037527593818986,
          -3.487109905020358,
          -2.7192386131883017,
          -0.7299270072992803,
          4.585462805224316,
          -2.5382755842062843,
          -10.406189555125733,
          -13.099902056807055,
          -5.8102766798418966,
          -4.820059763544238,
          -8.557742102537546,
          -3.2513661202185684,
          -2.646815550041348,
          -3.9223956136651195,
          -5.981830887491258,
          -6.354051054384014,
          -6.773449165196155,
          -1.3779798814937294,
          -2.1301093839953933,
          -1.6624401239785813,
          -5.091621205763042,
          -8.763308763308775,
          -5.734107319835768,
          -6.67890426433212,
          -7.221750212404421,
          -1.1413520632133412,
          5.336702839304297,
          11.837037037037025,
          10.206755969714632,
          12.267709934330018,
          9.27941176470588,
          1.8624641833810962,
          8.946204863669859,
          10.981448234590063,
          17.677981375788534,
          14.359207141776364,
          16.468253968253954,
          15.21610420367081,
          6.251764041772501,
          2.6890978937607724,
          2.589509842779769,
          -4.418170504044805,
          3.8218274794778573,
          11.068917018284118,
          3.855519480519476,
          3.28929630628203,
          -2.169751116783658,
          -0.7938608097380229,
          -1.3497575678155016,
          0.7194244604316502,
          3.533005711249837,
          -0.8513931888544879,
          -0.3090792015453925,
          -0.1692708333333237,
          -0.8813998703823711,
          -2.747878941370141,
          -0.3126221180148603,
          1.2268337248759975,
          0.9784735812133016,
          8.175513470258755,
          6.44261424017003,
          1.1096938775510212,
          0.3976908274534896,
          1.6263335935467138,
          -1.304740989536235,
          0.508673535933224,
          1.0723159408918548,
          -1.302083333333337,
          -0.8232065856526805,
          -4.254770500257865,
          -4.586563307493541,
          -14.807052151399336,
          -10.49544490203418,
          -12.160968840671138,
          -13.071811909021225,
          -11.50940980668288,
          -12.421465968586388,
          -15.299766415779903,
          -15.810583516625687,
          -12.374670184696567,
          -17.94466403162056,
          -20.064637759224347,
          -21.408259986459043,
          -11.765557163531104,
          -17.06636921360849,
          -13.543013069079413,
          -8.657945024254,
          -15.04629629629629,
          -11.433268569720523,
          -11.490730810479544,
          -15.967419701859553,
          -11.517615176151763,
          -6.133590237636466,
          -0.7075471698113289,
          -0.8270158511371362,
          -6.380186977201918,
          -3.480161398789494,
          -7.159468438538208,
          -7.756678467975531,
          -8.514986376021794,
          -11.913601079986503,
          -11.511164964514464,
          -6.803218727139715,
          1.7525948613237974,
          2.32637700992131,
          -1.1367492365116916,
          0.851285615010422,
          -0.735809390329345,
          2.299251001567648,
          -0.9661835748792202,
          -4.030006978367062,
          1.3588979895755582,
          10.40229885057471,
          8.27464788732395,
          8.712715855572984,
          -8.478260869565224,
          -11.568037445670354,
          -7.636862879697959,
          -5.443583118001727,
          -6.636074832333216,
          -9.177592371871269,
          -6.8834688346883555,
          -4.326486093437564,
          -1.7447199265381075,
          -6.090577824049959,
          -3.9205058717253882,
          -1.4440433212996373,
          7.107619221633499,
          5.387523629489599,
          2.378298030471937,
          0.7469484423392236,
          6.729678638941405,
          11.304836895388082,
          16.957702755141636,
          17.119513585407574,
          22.09345794392523,
          17.70140428677014,
          14.57314779992478,
          14.578754578754594,
          10.440122824974395,
          13.686098654708513,
          15.8076225045372,
          25.569620253164558,
          30.18065887353878,
          17.04564594913254,
          11.098208360982099,
          9.263465282284233,
          10.655235762400483,
          8.634222919937207,
          16.445100935499756,
          20.076726342711005,
          19.8640716713006,
          21.88387503944462,
          24.855038395235862,
          19.88767281105992,
          8.775510204081627,
          13.93006187940713,
          26.53426907570553,
          15.367483296213802,
          8.812949640287782,
          14.393063583815024,
          10.331219168428474,
          8.426517571884972,
          7.126288659793811,
          10.174757281553394,
          13.819505460022574,
          4.648648648648646,
          5.603502188868026,
          10.003789314134126,
          0.8968609865470878,
          12.149292149292146,
          5.390972663699944,
          10.434562910560885,
          9.60654062340318,
          6.384284837323517,
          13.857813063875856,
          10.62154858418516,
          9.318482576091757,
          17.76859504132231,
          34.72699277507996,
          27.6840050522448,
          36.140350877192986,
          47.80812485655268,
          57.55820967547351,
          40.35689773507205,
          47.435897435897445,
          43.912290825158685,
          26.62440570522979,
          28.25278810408922,
          30.47513366286696,
          23.196881091617925,
          14.37362637362638,
          19.460431654676256,
          13.702749140893467,
          5.124223602484479,
          0.9341500765696731,
          6.030969845150769,
          5.217391304347818,
          7.778668805132316,
          23.988318731748027,
          30.766045548654255,
          21.153548786145038,
          31.92246835443038,
          41.92928516525749,
          46.26618488407106,
          41.0653570079335,
          28.655834564254068,
          34.38780154756487,
          43.00538047655649,
          37.94139744552967,
          23.958333333333325,
          19.04441453566621,
          -7.441418619379359,
          3.956604977664324,
          4.317841079460272,
          -0.4061738424045447,
          -2.007205352547603,
          -1.8211033743974259,
          1.406429391504016,
          10.13265594129269,
          0.4568664337543771,
          2.287581699346397,
          14.705882352941169,
          12.577727529677784,
          42.319534724598014,
          44.352363413136885,
          25.035929864903707,
          17.292006525285487,
          16.41281512605042,
          21.713038734315337,
          33.512595527879995,
          23.78267555099949,
          33.119315141787055,
          24.494142705005316,
          30.402930402930405,
          31.25784584484057,
          29.495192307692307,
          17.669572613225593,
          29.24137931034483,
          23.04126101066295,
          27.317843446875713,
          29.000448229493504,
          30.209879160483368,
          27.24637681159421,
          21.0209003215434,
          39.30710008554319,
          45.54574638844302,
          23.947972456006127,
          27.86337479116392,
          26.201662450307197,
          8.929206688011382,
          31.424265259984917,
          25.44294826364282,
          15.531619179986112,
          7.538261152718984,
          1.3992840872111945,
          6.177349717701763,
          -0.3991403131716309,
          -9.09842845326716,
          9.629629629629633,
          -0.17421602787456303,
          -1.145475372279492,
          8.262573481384706,
          -4.544151376146788,
          -10.254237288135592,
          -3.8646616541353374,
          -11.03709311127934,
          -10.49422336328626,
          -25.430090710040666,
          -18.95807644882861,
          -15.392781316348191,
          -25.309684684684687,
          -22.978475858057013,
          -27.404403244495946,
          -27.33031674208145,
          -24.853581618861686,
          -16.49354737173434,
          -19.17722508994213,
          -12.287270251872018,
          -10.326281821441373,
          10.318791946308714,
          -2.2251806770635207,
          -7.815020613013079,
          -8.292499057670566,
          -12.065709969788518,
          -5.606544293695137,
          0.12453300124533051,
          0.7394084732214257,
          -8.480964945344894,
          -8.109154248113025,
          -8.401241753977494,
          -4.726109556177526,
          -10.950570342205324,
          -14.53802762108538,
          -11.724674314602368,
          -8.425811755034939,
          -1.8810392956839284,
          -10.217712957091518,
          -12.106135986733001,
          -11.7794088474509,
          1.721581548599671,
          4.212299915754003,
          8.930311374708765,
          1.7374517374517229,
          12.788215200683183,
          22.17771303714493,
          15.352422907488993,
          18.716337522441663,
          11.349411301264944,
          10.942649967040197,
          8.10377358490566,
          9.084367692030938,
          1.676249088995041,
          0.6345998383185059,
          -1.4934080037335207,
          4.463328108241904,
          -5.943592655688057,
          -5.547690014903129,
          0.1909490166125627,
          -2.979206049149341,
          -0.14544025157231522,
          8.666496901791021,
          12.662535997905566,
          10.904518469656988,
          4.957789104810439,
          6.346146122022733,
          3.691420900943587,
          3.0919286052756068,
          0.6600925739585373,
          -3.6763835746124296,
          -8.332380407852103,
          -7.470189385082993,
          -4.345943392512696,
          -4.893766598968918,
          -0.9295120061967421,
          -1.6207575926545426,
          0.0986455211139603,
          -2.149035011519418,
          -2.353030764544628,
          -0.7507565020875573,
          12.679435403254825,
          16.921249846431042,
          27.107156222711957,
          25.10423246999367,
          24.363142516152926,
          19.925259742926382,
          18.43236903831118,
          19.720385414698672,
          22.036917712163117,
          24.204878801914465,
          32.78873898463699,
          33.433676816795966,
          25.48616039744498,
          37.641413610731675,
          28.065297042658965,
          27.038308759173233,
          24.547470134683458,
          20.710201006745876,
          24.614622875061887,
          17.649286706223965,
          8.261639283163035,
          5.102706734205542,
          3.811481427103214,
          9.906287962052417,
          -0.27996154063683054,
          -8.420275841009728
         ],
         "yaxis": "y"
        }
       ],
       "layout": {
        "autosize": true,
        "legend": {
         "title": {
          "text": "variable"
         },
         "tracegroupgap": 0
        },
        "margin": {
         "t": 60
        },
        "template": {
         "data": {
          "bar": [
           {
            "error_x": {
             "color": "#2a3f5f"
            },
            "error_y": {
             "color": "#2a3f5f"
            },
            "marker": {
             "line": {
              "color": "#E5ECF6",
              "width": 0.5
             }
            },
            "type": "bar"
           }
          ],
          "barpolar": [
           {
            "marker": {
             "line": {
              "color": "#E5ECF6",
              "width": 0.5
             }
            },
            "type": "barpolar"
           }
          ],
          "carpet": [
           {
            "aaxis": {
             "endlinecolor": "#2a3f5f",
             "gridcolor": "white",
             "linecolor": "white",
             "minorgridcolor": "white",
             "startlinecolor": "#2a3f5f"
            },
            "baxis": {
             "endlinecolor": "#2a3f5f",
             "gridcolor": "white",
             "linecolor": "white",
             "minorgridcolor": "white",
             "startlinecolor": "#2a3f5f"
            },
            "type": "carpet"
           }
          ],
          "choropleth": [
           {
            "colorbar": {
             "outlinewidth": 0,
             "ticks": ""
            },
            "type": "choropleth"
           }
          ],
          "contour": [
           {
            "colorbar": {
             "outlinewidth": 0,
             "ticks": ""
            },
            "colorscale": [
             [
              0,
              "#0d0887"
             ],
             [
              0.1111111111111111,
              "#46039f"
             ],
             [
              0.2222222222222222,
              "#7201a8"
             ],
             [
              0.3333333333333333,
              "#9c179e"
             ],
             [
              0.4444444444444444,
              "#bd3786"
             ],
             [
              0.5555555555555556,
              "#d8576b"
             ],
             [
              0.6666666666666666,
              "#ed7953"
             ],
             [
              0.7777777777777778,
              "#fb9f3a"
             ],
             [
              0.8888888888888888,
              "#fdca26"
             ],
             [
              1,
              "#f0f921"
             ]
            ],
            "type": "contour"
           }
          ],
          "contourcarpet": [
           {
            "colorbar": {
             "outlinewidth": 0,
             "ticks": ""
            },
            "type": "contourcarpet"
           }
          ],
          "heatmap": [
           {
            "colorbar": {
             "outlinewidth": 0,
             "ticks": ""
            },
            "colorscale": [
             [
              0,
              "#0d0887"
             ],
             [
              0.1111111111111111,
              "#46039f"
             ],
             [
              0.2222222222222222,
              "#7201a8"
             ],
             [
              0.3333333333333333,
              "#9c179e"
             ],
             [
              0.4444444444444444,
              "#bd3786"
             ],
             [
              0.5555555555555556,
              "#d8576b"
             ],
             [
              0.6666666666666666,
              "#ed7953"
             ],
             [
              0.7777777777777778,
              "#fb9f3a"
             ],
             [
              0.8888888888888888,
              "#fdca26"
             ],
             [
              1,
              "#f0f921"
             ]
            ],
            "type": "heatmap"
           }
          ],
          "heatmapgl": [
           {
            "colorbar": {
             "outlinewidth": 0,
             "ticks": ""
            },
            "colorscale": [
             [
              0,
              "#0d0887"
             ],
             [
              0.1111111111111111,
              "#46039f"
             ],
             [
              0.2222222222222222,
              "#7201a8"
             ],
             [
              0.3333333333333333,
              "#9c179e"
             ],
             [
              0.4444444444444444,
              "#bd3786"
             ],
             [
              0.5555555555555556,
              "#d8576b"
             ],
             [
              0.6666666666666666,
              "#ed7953"
             ],
             [
              0.7777777777777778,
              "#fb9f3a"
             ],
             [
              0.8888888888888888,
              "#fdca26"
             ],
             [
              1,
              "#f0f921"
             ]
            ],
            "type": "heatmapgl"
           }
          ],
          "histogram": [
           {
            "marker": {
             "colorbar": {
              "outlinewidth": 0,
              "ticks": ""
             }
            },
            "type": "histogram"
           }
          ],
          "histogram2d": [
           {
            "colorbar": {
             "outlinewidth": 0,
             "ticks": ""
            },
            "colorscale": [
             [
              0,
              "#0d0887"
             ],
             [
              0.1111111111111111,
              "#46039f"
             ],
             [
              0.2222222222222222,
              "#7201a8"
             ],
             [
              0.3333333333333333,
              "#9c179e"
             ],
             [
              0.4444444444444444,
              "#bd3786"
             ],
             [
              0.5555555555555556,
              "#d8576b"
             ],
             [
              0.6666666666666666,
              "#ed7953"
             ],
             [
              0.7777777777777778,
              "#fb9f3a"
             ],
             [
              0.8888888888888888,
              "#fdca26"
             ],
             [
              1,
              "#f0f921"
             ]
            ],
            "type": "histogram2d"
           }
          ],
          "histogram2dcontour": [
           {
            "colorbar": {
             "outlinewidth": 0,
             "ticks": ""
            },
            "colorscale": [
             [
              0,
              "#0d0887"
             ],
             [
              0.1111111111111111,
              "#46039f"
             ],
             [
              0.2222222222222222,
              "#7201a8"
             ],
             [
              0.3333333333333333,
              "#9c179e"
             ],
             [
              0.4444444444444444,
              "#bd3786"
             ],
             [
              0.5555555555555556,
              "#d8576b"
             ],
             [
              0.6666666666666666,
              "#ed7953"
             ],
             [
              0.7777777777777778,
              "#fb9f3a"
             ],
             [
              0.8888888888888888,
              "#fdca26"
             ],
             [
              1,
              "#f0f921"
             ]
            ],
            "type": "histogram2dcontour"
           }
          ],
          "mesh3d": [
           {
            "colorbar": {
             "outlinewidth": 0,
             "ticks": ""
            },
            "type": "mesh3d"
           }
          ],
          "parcoords": [
           {
            "line": {
             "colorbar": {
              "outlinewidth": 0,
              "ticks": ""
             }
            },
            "type": "parcoords"
           }
          ],
          "pie": [
           {
            "automargin": true,
            "type": "pie"
           }
          ],
          "scatter": [
           {
            "marker": {
             "colorbar": {
              "outlinewidth": 0,
              "ticks": ""
             }
            },
            "type": "scatter"
           }
          ],
          "scatter3d": [
           {
            "line": {
             "colorbar": {
              "outlinewidth": 0,
              "ticks": ""
             }
            },
            "marker": {
             "colorbar": {
              "outlinewidth": 0,
              "ticks": ""
             }
            },
            "type": "scatter3d"
           }
          ],
          "scattercarpet": [
           {
            "marker": {
             "colorbar": {
              "outlinewidth": 0,
              "ticks": ""
             }
            },
            "type": "scattercarpet"
           }
          ],
          "scattergeo": [
           {
            "marker": {
             "colorbar": {
              "outlinewidth": 0,
              "ticks": ""
             }
            },
            "type": "scattergeo"
           }
          ],
          "scattergl": [
           {
            "marker": {
             "colorbar": {
              "outlinewidth": 0,
              "ticks": ""
             }
            },
            "type": "scattergl"
           }
          ],
          "scattermapbox": [
           {
            "marker": {
             "colorbar": {
              "outlinewidth": 0,
              "ticks": ""
             }
            },
            "type": "scattermapbox"
           }
          ],
          "scatterpolar": [
           {
            "marker": {
             "colorbar": {
              "outlinewidth": 0,
              "ticks": ""
             }
            },
            "type": "scatterpolar"
           }
          ],
          "scatterpolargl": [
           {
            "marker": {
             "colorbar": {
              "outlinewidth": 0,
              "ticks": ""
             }
            },
            "type": "scatterpolargl"
           }
          ],
          "scatterternary": [
           {
            "marker": {
             "colorbar": {
              "outlinewidth": 0,
              "ticks": ""
             }
            },
            "type": "scatterternary"
           }
          ],
          "surface": [
           {
            "colorbar": {
             "outlinewidth": 0,
             "ticks": ""
            },
            "colorscale": [
             [
              0,
              "#0d0887"
             ],
             [
              0.1111111111111111,
              "#46039f"
             ],
             [
              0.2222222222222222,
              "#7201a8"
             ],
             [
              0.3333333333333333,
              "#9c179e"
             ],
             [
              0.4444444444444444,
              "#bd3786"
             ],
             [
              0.5555555555555556,
              "#d8576b"
             ],
             [
              0.6666666666666666,
              "#ed7953"
             ],
             [
              0.7777777777777778,
              "#fb9f3a"
             ],
             [
              0.8888888888888888,
              "#fdca26"
             ],
             [
              1,
              "#f0f921"
             ]
            ],
            "type": "surface"
           }
          ],
          "table": [
           {
            "cells": {
             "fill": {
              "color": "#EBF0F8"
             },
             "line": {
              "color": "white"
             }
            },
            "header": {
             "fill": {
              "color": "#C8D4E3"
             },
             "line": {
              "color": "white"
             }
            },
            "type": "table"
           }
          ]
         },
         "layout": {
          "annotationdefaults": {
           "arrowcolor": "#2a3f5f",
           "arrowhead": 0,
           "arrowwidth": 1
          },
          "autotypenumbers": "strict",
          "coloraxis": {
           "colorbar": {
            "outlinewidth": 0,
            "ticks": ""
           }
          },
          "colorscale": {
           "diverging": [
            [
             0,
             "#8e0152"
            ],
            [
             0.1,
             "#c51b7d"
            ],
            [
             0.2,
             "#de77ae"
            ],
            [
             0.3,
             "#f1b6da"
            ],
            [
             0.4,
             "#fde0ef"
            ],
            [
             0.5,
             "#f7f7f7"
            ],
            [
             0.6,
             "#e6f5d0"
            ],
            [
             0.7,
             "#b8e186"
            ],
            [
             0.8,
             "#7fbc41"
            ],
            [
             0.9,
             "#4d9221"
            ],
            [
             1,
             "#276419"
            ]
           ],
           "sequential": [
            [
             0,
             "#0d0887"
            ],
            [
             0.1111111111111111,
             "#46039f"
            ],
            [
             0.2222222222222222,
             "#7201a8"
            ],
            [
             0.3333333333333333,
             "#9c179e"
            ],
            [
             0.4444444444444444,
             "#bd3786"
            ],
            [
             0.5555555555555556,
             "#d8576b"
            ],
            [
             0.6666666666666666,
             "#ed7953"
            ],
            [
             0.7777777777777778,
             "#fb9f3a"
            ],
            [
             0.8888888888888888,
             "#fdca26"
            ],
            [
             1,
             "#f0f921"
            ]
           ],
           "sequentialminus": [
            [
             0,
             "#0d0887"
            ],
            [
             0.1111111111111111,
             "#46039f"
            ],
            [
             0.2222222222222222,
             "#7201a8"
            ],
            [
             0.3333333333333333,
             "#9c179e"
            ],
            [
             0.4444444444444444,
             "#bd3786"
            ],
            [
             0.5555555555555556,
             "#d8576b"
            ],
            [
             0.6666666666666666,
             "#ed7953"
            ],
            [
             0.7777777777777778,
             "#fb9f3a"
            ],
            [
             0.8888888888888888,
             "#fdca26"
            ],
            [
             1,
             "#f0f921"
            ]
           ]
          },
          "colorway": [
           "#636efa",
           "#EF553B",
           "#00cc96",
           "#ab63fa",
           "#FFA15A",
           "#19d3f3",
           "#FF6692",
           "#B6E880",
           "#FF97FF",
           "#FECB52"
          ],
          "font": {
           "color": "#2a3f5f"
          },
          "geo": {
           "bgcolor": "white",
           "lakecolor": "white",
           "landcolor": "#E5ECF6",
           "showlakes": true,
           "showland": true,
           "subunitcolor": "white"
          },
          "hoverlabel": {
           "align": "left"
          },
          "hovermode": "closest",
          "mapbox": {
           "style": "light"
          },
          "paper_bgcolor": "white",
          "plot_bgcolor": "#E5ECF6",
          "polar": {
           "angularaxis": {
            "gridcolor": "white",
            "linecolor": "white",
            "ticks": ""
           },
           "bgcolor": "#E5ECF6",
           "radialaxis": {
            "gridcolor": "white",
            "linecolor": "white",
            "ticks": ""
           }
          },
          "scene": {
           "xaxis": {
            "backgroundcolor": "#E5ECF6",
            "gridcolor": "white",
            "gridwidth": 2,
            "linecolor": "white",
            "showbackground": true,
            "ticks": "",
            "zerolinecolor": "white"
           },
           "yaxis": {
            "backgroundcolor": "#E5ECF6",
            "gridcolor": "white",
            "gridwidth": 2,
            "linecolor": "white",
            "showbackground": true,
            "ticks": "",
            "zerolinecolor": "white"
           },
           "zaxis": {
            "backgroundcolor": "#E5ECF6",
            "gridcolor": "white",
            "gridwidth": 2,
            "linecolor": "white",
            "showbackground": true,
            "ticks": "",
            "zerolinecolor": "white"
           }
          },
          "shapedefaults": {
           "line": {
            "color": "#2a3f5f"
           }
          },
          "ternary": {
           "aaxis": {
            "gridcolor": "white",
            "linecolor": "white",
            "ticks": ""
           },
           "baxis": {
            "gridcolor": "white",
            "linecolor": "white",
            "ticks": ""
           },
           "bgcolor": "#E5ECF6",
           "caxis": {
            "gridcolor": "white",
            "linecolor": "white",
            "ticks": ""
           }
          },
          "title": {
           "x": 0.05
          },
          "xaxis": {
           "automargin": true,
           "gridcolor": "white",
           "linecolor": "white",
           "ticks": "",
           "title": {
            "standoff": 15
           },
           "zerolinecolor": "white",
           "zerolinewidth": 2
          },
          "yaxis": {
           "automargin": true,
           "gridcolor": "white",
           "linecolor": "white",
           "ticks": "",
           "title": {
            "standoff": 15
           },
           "zerolinecolor": "white",
           "zerolinewidth": 2
          }
         }
        },
        "xaxis": {
         "anchor": "y",
         "autorange": true,
         "domain": [
          0,
          1
         ],
         "range": [
          "1969-04-30",
          "2021-07-22"
         ],
         "title": {
          "text": "Date"
         },
         "type": "date"
        },
        "yaxis": {
         "anchor": "x",
         "autorange": true,
         "domain": [
          0,
          1
         ],
         "range": [
          -49.77572608355101,
          191.4808880448902
         ],
         "title": {
          "text": "value"
         },
         "type": "linear"
        }
       }
      },
      "image/png": "[encoded data removed]",
      "text/html": [
       "<div>                            <div id=\"294f8c7e-2204-4b2d-bbb3-8d340c2f164b\" class=\"plotly-graph-div\" style=\"height:525px; width:100%;\"></div>            <script type=\"text/javascript\">                require([\"plotly\"], function(Plotly) {                    window.PLOTLYENV=window.PLOTLYENV || {};                                    if (document.getElementById(\"294f8c7e-2204-4b2d-bbb3-8d340c2f164b\")) {                    Plotly.newPlot(                        \"294f8c7e-2204-4b2d-bbb3-8d340c2f164b\",                        [{\"hovertemplate\": \"variable=Value<br>Date=%{x}<br>value=%{y}<extra></extra>\", \"legendgroup\": \"Value\", \"line\": {\"color\": \"#636efa\", \"dash\": \"solid\"}, \"mode\": \"lines\", \"name\": \"Value\", \"orientation\": \"v\", \"showlegend\": true, \"type\": \"scatter\", \"x\": [\"1969-04-30T00:00:00\", \"1969-05-30T00:00:00\", \"1969-06-30T00:00:00\", \"1969-07-31T00:00:00\", \"1969-08-29T00:00:00\", \"1969-09-30T00:00:00\", \"1969-10-31T00:00:00\", \"1969-11-28T00:00:00\", \"1969-12-31T00:00:00\", \"1970-01-30T00:00:00\", \"1970-02-27T00:00:00\", \"1970-03-31T00:00:00\", \"1970-04-30T00:00:00\", \"1970-05-29T00:00:00\", \"1970-06-30T00:00:00\", \"1970-07-31T00:00:00\", \"1970-08-28T00:00:00\", \"1970-09-30T00:00:00\", \"1970-10-30T00:00:00\", \"1970-11-30T00:00:00\", \"1970-12-31T00:00:00\", \"1971-01-29T00:00:00\", \"1971-02-26T00:00:00\", \"1971-03-31T00:00:00\", \"1971-04-30T00:00:00\", \"1971-05-28T00:00:00\", \"1971-06-30T00:00:00\", \"1971-07-30T00:00:00\", \"1971-08-31T00:00:00\", \"1971-09-30T00:00:00\", \"1971-10-29T00:00:00\", \"1971-11-30T00:00:00\", \"1971-12-31T00:00:00\", \"1972-01-31T00:00:00\", \"1972-02-29T00:00:00\", \"1972-03-30T00:00:00\", \"1972-04-28T00:00:00\", \"1972-05-31T00:00:00\", \"1972-06-30T00:00:00\", \"1972-07-31T00:00:00\", \"1972-08-31T00:00:00\", \"1972-09-29T00:00:00\", \"1972-10-31T00:00:00\", \"1972-11-30T00:00:00\", \"1972-12-29T00:00:00\", \"1973-01-31T00:00:00\", \"1973-02-28T00:00:00\", \"1973-03-30T00:00:00\", \"1973-04-30T00:00:00\", \"1973-05-31T00:00:00\", \"1973-06-29T00:00:00\", \"1973-07-31T00:00:00\", \"1973-08-31T00:00:00\", \"1973-09-28T00:00:00\", \"1973-10-31T00:00:00\", \"1973-11-30T00:00:00\", \"1973-12-31T00:00:00\", \"1974-01-31T00:00:00\", \"1974-02-28T00:00:00\", \"1974-03-29T00:00:00\", \"1974-04-30T00:00:00\", \"1974-05-31T00:00:00\", \"1974-06-28T00:00:00\", \"1974-07-31T00:00:00\", \"1974-08-30T00:00:00\", \"1974-09-30T00:00:00\", \"1974-10-31T00:00:00\", \"1974-11-29T00:00:00\", \"1974-12-31T00:00:00\", \"1975-01-31T00:00:00\", \"1975-02-28T00:00:00\", \"1975-03-27T00:00:00\", \"1975-04-30T00:00:00\", \"1975-05-30T00:00:00\", \"1975-06-30T00:00:00\", \"1975-07-31T00:00:00\", \"1975-08-29T00:00:00\", \"1975-09-30T00:00:00\", \"1975-10-31T00:00:00\", \"1975-11-28T00:00:00\", \"1975-12-31T00:00:00\", \"1976-01-30T00:00:00\", \"1976-02-27T00:00:00\", \"1976-03-31T00:00:00\", \"1976-04-30T00:00:00\", \"1976-05-28T00:00:00\", \"1976-06-30T00:00:00\", \"1976-07-30T00:00:00\", \"1976-08-31T00:00:00\", \"1976-09-30T00:00:00\", \"1976-10-29T00:00:00\", \"1976-11-30T00:00:00\", \"1976-12-31T00:00:00\", \"1977-01-31T00:00:00\", \"1977-02-28T00:00:00\", \"1977-03-31T00:00:00\", \"1977-04-29T00:00:00\", \"1977-05-31T00:00:00\", \"1977-06-30T00:00:00\", \"1977-07-29T00:00:00\", \"1977-08-31T00:00:00\", \"1977-09-30T00:00:00\", \"1977-10-31T00:00:00\", \"1977-11-30T00:00:00\", \"1977-12-30T00:00:00\", \"1978-01-31T00:00:00\", \"1978-02-28T00:00:00\", \"1978-03-31T00:00:00\", \"1978-04-28T00:00:00\", \"1978-05-31T00:00:00\", \"1978-06-30T00:00:00\", \"1978-07-31T00:00:00\", \"1978-08-31T00:00:00\", \"1978-09-29T00:00:00\", \"1978-10-31T00:00:00\", \"1978-11-30T00:00:00\", \"1978-12-29T00:00:00\", \"1979-01-31T00:00:00\", \"1979-02-28T00:00:00\", \"1979-03-30T00:00:00\", \"1979-04-30T00:00:00\", \"1979-05-31T00:00:00\", \"1979-06-29T00:00:00\", \"1979-07-31T00:00:00\", \"1979-08-31T00:00:00\", \"1979-09-28T00:00:00\", \"1979-10-31T00:00:00\", \"1979-11-30T00:00:00\", \"1979-12-28T00:00:00\", \"1980-01-31T00:00:00\", \"1980-02-29T00:00:00\", \"1980-03-31T00:00:00\", \"1980-04-30T00:00:00\", \"1980-05-30T00:00:00\", \"1980-06-30T00:00:00\", \"1980-07-31T00:00:00\", \"1980-08-29T00:00:00\", \"1980-09-30T00:00:00\", \"1980-10-31T00:00:00\", \"1980-11-28T00:00:00\", \"1980-12-30T00:00:00\", \"1981-01-30T00:00:00\", \"1981-02-27T00:00:00\", \"1981-03-31T00:00:00\", \"1981-04-30T00:00:00\", \"1981-05-29T00:00:00\", \"1981-06-30T00:00:00\", \"1981-07-31T00:00:00\", \"1981-08-28T00:00:00\", \"1981-09-30T00:00:00\", \"1981-10-30T00:00:00\", \"1981-11-30T00:00:00\", \"1981-12-30T00:00:00\", \"1982-01-29T00:00:00\", \"1982-02-26T00:00:00\", \"1982-03-31T00:00:00\", \"1982-04-30T00:00:00\", \"1982-05-28T00:00:00\", \"1982-06-30T00:00:00\", \"1982-07-30T00:00:00\", \"1982-08-31T00:00:00\", \"1982-09-30T00:00:00\", \"1982-10-29T00:00:00\", \"1982-11-30T00:00:00\", \"1982-12-30T00:00:00\", \"1983-01-31T00:00:00\", \"1983-02-28T00:00:00\", \"1983-03-31T00:00:00\", \"1983-04-29T00:00:00\", \"1983-05-31T00:00:00\", \"1983-06-30T00:00:00\", \"1983-07-29T00:00:00\", \"1983-08-31T00:00:00\", \"1983-09-30T00:00:00\", \"1983-10-31T00:00:00\", \"1983-11-30T00:00:00\", \"1983-12-29T00:00:00\", \"1984-01-31T00:00:00\", \"1984-02-29T00:00:00\", \"1984-03-30T00:00:00\", \"1984-04-30T00:00:00\", \"1984-05-31T00:00:00\", \"1984-06-29T00:00:00\", \"1984-07-31T00:00:00\", \"1984-08-31T00:00:00\", \"1984-09-28T00:00:00\", \"1984-10-31T00:00:00\", \"1984-11-30T00:00:00\", \"1984-12-31T00:00:00\", \"1985-01-31T00:00:00\", \"1985-02-28T00:00:00\", \"1985-03-29T00:00:00\", \"1985-04-30T00:00:00\", \"1985-05-31T00:00:00\", \"1985-06-28T00:00:00\", \"1985-07-31T00:00:00\", \"1985-08-30T00:00:00\", \"1985-09-30T00:00:00\", \"1985-10-31T00:00:00\", \"1985-11-29T00:00:00\", \"1985-12-30T00:00:00\", \"1986-01-31T00:00:00\", \"1986-02-28T00:00:00\", \"1986-03-27T00:00:00\", \"1986-04-30T00:00:00\", \"1986-05-30T00:00:00\", \"1986-06-30T00:00:00\", \"1986-07-31T00:00:00\", \"1986-08-29T00:00:00\", \"1986-09-30T00:00:00\", \"1986-10-31T00:00:00\", \"1986-11-28T00:00:00\", \"1986-12-30T00:00:00\", \"1987-01-30T00:00:00\", \"1987-02-27T00:00:00\", \"1987-03-31T00:00:00\", \"1987-04-30T00:00:00\", \"1987-05-29T00:00:00\", \"1987-06-30T00:00:00\", \"1987-07-31T00:00:00\", \"1987-08-28T00:00:00\", \"1987-09-30T00:00:00\", \"1987-10-30T00:00:00\", \"1987-11-30T00:00:00\", \"1987-12-30T00:00:00\", \"1988-01-29T00:00:00\", \"1988-02-29T00:00:00\", \"1988-03-31T00:00:00\", \"1988-04-29T00:00:00\", \"1988-05-31T00:00:00\", \"1988-06-30T00:00:00\", \"1988-07-29T00:00:00\", \"1988-08-31T00:00:00\", \"1988-09-30T00:00:00\", \"1988-10-31T00:00:00\", \"1988-11-30T00:00:00\", \"1988-12-29T00:00:00\", \"1989-01-31T00:00:00\", \"1989-02-28T00:00:00\", \"1989-03-31T00:00:00\", \"1989-04-28T00:00:00\", \"1989-05-31T00:00:00\", \"1989-06-30T00:00:00\", \"1989-07-31T00:00:00\", \"1989-08-31T00:00:00\", \"1989-09-29T00:00:00\", \"1989-10-31T00:00:00\", \"1989-11-30T00:00:00\", \"1989-12-28T00:00:00\", \"1990-01-31T00:00:00\", \"1990-02-28T00:00:00\", \"1990-03-30T00:00:00\", \"1990-04-30T00:00:00\", \"1990-05-31T00:00:00\", \"1990-06-29T00:00:00\", \"1990-07-31T00:00:00\", \"1990-08-31T00:00:00\", \"1990-09-28T00:00:00\", \"1990-10-31T00:00:00\", \"1990-11-30T00:00:00\", \"1990-12-28T00:00:00\", \"1991-01-31T00:00:00\", \"1991-02-28T00:00:00\", \"1991-03-28T00:00:00\", \"1991-04-30T00:00:00\", \"1991-05-31T00:00:00\", \"1991-06-28T00:00:00\", \"1991-07-31T00:00:00\", \"1991-08-30T00:00:00\", \"1991-09-30T00:00:00\", \"1991-10-31T00:00:00\", \"1991-11-29T00:00:00\", \"1991-12-30T00:00:00\", \"1992-01-31T00:00:00\", \"1992-02-28T00:00:00\", \"1992-03-31T00:00:00\", \"1992-04-30T00:00:00\", \"1992-05-29T00:00:00\", \"1992-06-30T00:00:00\", \"1992-07-31T00:00:00\", \"1992-08-28T00:00:00\", \"1992-09-30T00:00:00\", \"1992-10-30T00:00:00\", \"1992-11-30T00:00:00\", \"1992-12-30T00:00:00\", \"1993-01-29T00:00:00\", \"1993-02-26T00:00:00\", \"1993-03-31T00:00:00\", \"1993-04-30T00:00:00\", \"1993-05-28T00:00:00\", \"1993-06-30T00:00:00\", \"1993-07-30T00:00:00\", \"1993-08-31T00:00:00\", \"1993-09-30T00:00:00\", \"1993-10-29T00:00:00\", \"1993-11-30T00:00:00\", \"1993-12-30T00:00:00\", \"1994-01-31T00:00:00\", \"1994-02-28T00:00:00\", \"1994-03-31T00:00:00\", \"1994-04-29T00:00:00\", \"1994-05-31T00:00:00\", \"1994-06-30T00:00:00\", \"1994-07-29T00:00:00\", \"1994-08-31T00:00:00\", \"1994-09-30T00:00:00\", \"1994-10-31T00:00:00\", \"1994-11-30T00:00:00\", \"1994-12-29T00:00:00\", \"1995-01-31T00:00:00\", \"1995-02-28T00:00:00\", \"1995-03-31T00:00:00\", \"1995-04-28T00:00:00\", \"1995-05-31T00:00:00\", \"1995-06-30T00:00:00\", \"1995-07-31T00:00:00\", \"1995-08-31T00:00:00\", \"1995-09-29T00:00:00\", \"1995-10-31T00:00:00\", \"1995-11-30T00:00:00\", \"1995-12-28T00:00:00\", \"1996-01-31T00:00:00\", \"1996-02-29T00:00:00\", \"1996-03-29T00:00:00\", \"1996-04-30T00:00:00\", \"1996-05-31T00:00:00\", \"1996-06-28T00:00:00\", \"1996-07-31T00:00:00\", \"1996-08-30T00:00:00\", \"1996-09-30T00:00:00\", \"1996-10-31T00:00:00\", \"1996-11-29T00:00:00\", \"1996-12-30T00:00:00\", \"1997-01-31T00:00:00\", \"1997-02-28T00:00:00\", \"1997-03-27T00:00:00\", \"1997-04-30T00:00:00\", \"1997-05-30T00:00:00\", \"1997-06-30T00:00:00\", \"1997-07-31T00:00:00\", \"1997-08-29T00:00:00\", \"1997-09-30T00:00:00\", \"1997-10-31T00:00:00\", \"1997-11-28T00:00:00\", \"1997-12-30T00:00:00\", \"1998-01-30T00:00:00\", \"1998-02-27T00:00:00\", \"1998-03-31T00:00:00\", \"1998-04-30T00:00:00\", \"1998-05-29T00:00:00\", \"1998-06-30T00:00:00\", \"1998-07-31T00:00:00\", \"1998-08-28T00:00:00\", \"1998-09-30T00:00:00\", \"1998-10-30T00:00:00\", \"1998-11-30T00:00:00\", \"1998-12-30T00:00:00\", \"1999-01-29T00:00:00\", \"1999-02-26T00:00:00\", \"1999-03-31T00:00:00\", \"1999-04-30T00:00:00\", \"1999-05-28T00:00:00\", \"1999-06-30T00:00:00\", \"1999-07-30T00:00:00\", \"1999-08-31T00:00:00\", \"1999-09-30T00:00:00\", \"1999-10-29T00:00:00\", \"1999-11-30T00:00:00\", \"1999-12-30T00:00:00\", \"2000-01-31T00:00:00\", \"2000-02-29T00:00:00\", \"2000-03-31T00:00:00\", \"2000-04-28T00:00:00\", \"2000-05-31T00:00:00\", \"2000-06-30T00:00:00\", \"2000-07-31T00:00:00\", \"2000-08-31T00:00:00\", \"2000-09-29T00:00:00\", \"2000-10-31T00:00:00\", \"2000-11-30T00:00:00\", \"2000-12-28T00:00:00\", \"2001-01-31T00:00:00\", \"2001-02-28T00:00:00\", \"2001-03-30T00:00:00\", \"2001-04-30T00:00:00\", \"2001-05-31T00:00:00\", \"2001-06-29T00:00:00\", \"2001-07-31T00:00:00\", \"2001-08-31T00:00:00\", \"2001-09-28T00:00:00\", \"2001-10-31T00:00:00\", \"2001-11-30T00:00:00\", \"2001-12-28T00:00:00\", \"2002-01-31T00:00:00\", \"2002-02-28T00:00:00\", \"2002-03-28T00:00:00\", \"2002-04-30T00:00:00\", \"2002-05-31T00:00:00\", \"2002-06-28T00:00:00\", \"2002-07-31T00:00:00\", \"2002-08-30T00:00:00\", \"2002-09-30T00:00:00\", \"2002-10-31T00:00:00\", \"2002-11-29T00:00:00\", \"2002-12-30T00:00:00\", \"2003-01-31T00:00:00\", \"2003-02-28T00:00:00\", \"2003-03-31T00:00:00\", \"2003-04-30T00:00:00\", \"2003-05-30T00:00:00\", \"2003-06-30T00:00:00\", \"2003-07-31T00:00:00\", \"2003-08-29T00:00:00\", \"2003-09-30T00:00:00\", \"2003-10-31T00:00:00\", \"2003-11-28T00:00:00\", \"2003-12-30T00:00:00\", \"2004-01-30T00:00:00\", \"2004-02-27T00:00:00\", \"2004-03-31T00:00:00\", \"2004-04-30T00:00:00\", \"2004-05-28T00:00:00\", \"2004-06-30T00:00:00\", \"2004-07-30T00:00:00\", \"2004-08-31T00:00:00\", \"2004-09-30T00:00:00\", \"2004-10-29T00:00:00\", \"2004-11-30T00:00:00\", \"2004-12-30T00:00:00\", \"2005-01-31T00:00:00\", \"2005-02-28T00:00:00\", \"2005-03-31T00:00:00\", \"2005-04-29T00:00:00\", \"2005-05-31T00:00:00\", \"2005-06-30T00:00:00\", \"2005-07-29T00:00:00\", \"2005-08-31T00:00:00\", \"2005-09-30T00:00:00\", \"2005-10-31T00:00:00\", \"2005-11-30T00:00:00\", \"2005-12-29T00:00:00\", \"2006-01-31T00:00:00\", \"2006-02-28T00:00:00\", \"2006-03-31T00:00:00\", \"2006-04-28T00:00:00\", \"2006-05-31T00:00:00\", \"2006-06-30T00:00:00\", \"2006-07-31T00:00:00\", \"2006-08-31T00:00:00\", \"2006-09-29T00:00:00\", \"2006-10-31T00:00:00\", \"2006-11-30T00:00:00\", \"2006-12-28T00:00:00\", \"2007-01-31T00:00:00\", \"2007-02-28T00:00:00\", \"2007-03-30T00:00:00\", \"2007-04-30T00:00:00\", \"2007-05-31T00:00:00\", \"2007-06-29T00:00:00\", \"2007-07-31T00:00:00\", \"2007-08-31T00:00:00\", \"2007-09-28T00:00:00\", \"2007-10-31T00:00:00\", \"2007-11-30T00:00:00\", \"2007-12-28T00:00:00\", \"2008-01-31T00:00:00\", \"2008-02-29T00:00:00\", \"2008-03-31T00:00:00\", \"2008-04-30T00:00:00\", \"2008-05-30T00:00:00\", \"2008-06-30T00:00:00\", \"2008-07-31T00:00:00\", \"2008-08-29T00:00:00\", \"2008-09-30T00:00:00\", \"2008-10-31T00:00:00\", \"2008-11-28T00:00:00\", \"2008-12-30T00:00:00\", \"2009-01-30T00:00:00\", \"2009-02-27T00:00:00\", \"2009-03-31T00:00:00\", \"2009-04-30T00:00:00\", \"2009-05-29T00:00:00\", \"2009-06-30T00:00:00\", \"2009-07-31T00:00:00\", \"2009-08-28T00:00:00\", \"2009-09-30T00:00:00\", \"2009-10-30T00:00:00\", \"2009-11-30T00:00:00\", \"2009-12-30T00:00:00\", \"2010-01-29T00:00:00\", \"2010-02-26T00:00:00\", \"2010-03-31T00:00:00\", \"2010-04-30T00:00:00\", \"2010-05-28T00:00:00\", \"2010-06-30T00:00:00\", \"2010-07-30T00:00:00\", \"2010-08-31T00:00:00\", \"2010-09-30T00:00:00\", \"2010-10-29T00:00:00\", \"2010-11-30T00:00:00\", \"2010-12-30T00:00:00\", \"2011-01-31T00:00:00\", \"2011-02-28T00:00:00\", \"2011-03-31T00:00:00\", \"2011-04-28T00:00:00\", \"2011-05-31T00:00:00\", \"2011-06-30T00:00:00\", \"2011-07-29T00:00:00\", \"2011-08-31T00:00:00\", \"2011-09-30T00:00:00\", \"2011-10-31T00:00:00\", \"2011-11-30T00:00:00\", \"2011-12-29T00:00:00\", \"2012-01-31T00:00:00\", \"2012-02-29T00:00:00\", \"2012-03-30T00:00:00\", \"2012-04-30T00:00:00\", \"2012-05-31T00:00:00\", \"2012-06-29T00:00:00\", \"2012-07-31T00:00:00\", \"2012-08-31T00:00:00\", \"2012-09-28T00:00:00\", \"2012-10-31T00:00:00\", \"2012-11-30T00:00:00\", \"2012-12-28T00:00:00\", \"2013-01-31T00:00:00\", \"2013-02-28T00:00:00\", \"2013-03-28T00:00:00\", \"2013-04-30T00:00:00\", \"2013-05-31T00:00:00\", \"2013-06-28T00:00:00\", \"2013-07-31T00:00:00\", \"2013-08-30T00:00:00\", \"2013-09-30T00:00:00\", \"2013-10-31T00:00:00\", \"2013-11-29T00:00:00\", \"2013-12-30T00:00:00\", \"2014-01-31T00:00:00\", \"2014-02-28T00:00:00\", \"2014-03-31T00:00:00\", \"2014-04-30T00:00:00\", \"2014-05-30T00:00:00\", \"2014-06-30T00:00:00\", \"2014-07-31T00:00:00\", \"2014-08-29T00:00:00\", \"2014-09-30T00:00:00\", \"2014-10-31T00:00:00\", \"2014-11-28T00:00:00\", \"2014-12-30T00:00:00\", \"2015-01-30T00:00:00\", \"2015-02-27T00:00:00\", \"2015-03-31T00:00:00\", \"2015-04-30T00:00:00\", \"2015-05-29T00:00:00\", \"2015-06-30T00:00:00\", \"2015-07-31T00:00:00\", \"2015-08-28T00:00:00\", \"2015-09-30T00:00:00\", \"2015-10-30T00:00:00\", \"2015-11-30T00:00:00\", \"2015-12-30T00:00:00\", \"2016-01-29T00:00:00\", \"2016-02-29T00:00:00\", \"2016-03-31T00:00:00\", \"2016-04-29T00:00:00\", \"2016-05-31T00:00:00\", \"2016-06-30T00:00:00\", \"2016-07-29T00:00:00\", \"2016-08-31T00:00:00\", \"2016-09-30T00:00:00\", \"2016-10-31T00:00:00\", \"2016-11-30T00:00:00\", \"2016-12-29T00:00:00\", \"2017-01-31T00:00:00\", \"2017-02-28T00:00:00\", \"2017-03-31T00:00:00\", \"2017-04-28T00:00:00\", \"2017-05-31T00:00:00\", \"2017-06-30T00:00:00\", \"2017-07-31T00:00:00\", \"2017-08-31T00:00:00\", \"2017-09-29T00:00:00\", \"2017-10-31T00:00:00\", \"2017-11-30T00:00:00\", \"2017-12-28T00:00:00\", \"2018-01-31T00:00:00\", \"2018-02-28T00:00:00\", \"2018-03-29T00:00:00\", \"2018-04-30T00:00:00\", \"2018-05-31T00:00:00\", \"2018-06-29T00:00:00\", \"2018-07-31T00:00:00\", \"2018-08-31T00:00:00\", \"2018-09-28T00:00:00\", \"2018-10-31T00:00:00\", \"2018-11-30T00:00:00\", \"2018-12-28T00:00:00\", \"2019-01-31T00:00:00\", \"2019-02-28T00:00:00\", \"2019-03-29T00:00:00\", \"2019-04-30T00:00:00\", \"2019-05-31T00:00:00\", \"2019-06-28T00:00:00\", \"2019-07-31T00:00:00\", \"2019-08-30T00:00:00\", \"2019-09-30T00:00:00\", \"2019-10-31T00:00:00\", \"2019-11-29T00:00:00\", \"2019-12-30T00:00:00\", \"2020-01-31T00:00:00\", \"2020-02-28T00:00:00\", \"2020-03-31T00:00:00\", \"2020-04-30T00:00:00\", \"2020-05-29T00:00:00\", \"2020-06-30T00:00:00\", \"2020-07-31T00:00:00\", \"2020-08-28T00:00:00\", \"2020-09-30T00:00:00\", \"2020-10-30T00:00:00\", \"2020-11-30T00:00:00\", \"2020-12-30T00:00:00\", \"2021-01-29T00:00:00\", \"2021-02-26T00:00:00\", \"2021-03-31T00:00:00\", \"2021-04-30T00:00:00\", \"2021-05-28T00:00:00\", \"2021-06-30T00:00:00\", \"2021-07-22T00:00:00\"], \"xaxis\": \"x\", \"y\": [11.508951406649626, 2.681764004767584, 0.7334963325183574, 6.537966537966544, 2.6633165829145877, 2.714646464646453, 1.9230769230769162, -10.66499372647428, -15.990453460620513, -17.748001880582976, -17.985948477751755, -17.715617715617714, -17.77522935779816, -17.70168311085316, -13.85922330097088, -14.713698961101729, -12.383749388154685, -10.51014136447449, -6.2893081761006275, 5.449438202247192, 6.178977272727271, 8.745355815947399, 10.793832095945156, 10.127478753541075, 10.73919107391912, 15.20451339915374, 12.989574528036062, 20.113314447592078, 13.547486033519561, 17.03296703296704, 13.66442953020135, 16.142781033564212, 16.722408026755865, 23.915900131406055, 24.226804123711364, 24.450160771704187, 24.937027707808568, 45.568070519098924, 61.22194513715711, 61.084905660377366, 64.51414514145142, 50.70422535211267, 52.07841284837031, 45.871559633027516, 48.767908309455606, 39.978791092258746, 76.34854771784232, 86.02728400165356, 82.91330645161288, 93.0193439865433, 90.64191802010826, 69.25329428989751, 54.7663551401869, 55.7632398753894, 52.19754620282653, 58.80503144654088, 72.9583975346687, 100.75757575757578, 91.1764705882353, 92.22222222222223, 86.55276935794987, 36.60130718954249, 17.038539553752543, 34.94809688581315, 50.72463768115942, 51.24999999999999, 70.40816326530613, 82.17821782178218, 66.14699331848553, 32.679245283018886, 11.84615384615384, 2.4566473988439252, -1.3293943870014813, 6.5390749601276, 15.25129982668978, 6.858974358974357, 2.4358974358974494, -6.6115702479338845, -14.43113772455089, -24.91847826086956, -24.798927613941025, -27.104664391353815, -27.207702888583206, -26.88293370944993, -23.11377245508982, -24.850299401197606, -25.533834586466163, -32.51349730053988, -34.91864831038799, -17.876106194690266, -13.820853743876837, -5.718422005066959, -4.099821746880572, 3.2383925087787757, 7.89871504157218, 14.891975308641992, 14.680685358255442, 13.904382470119515, 15.508885298869156, 28.088888888888874, 40.38461538461537, 32.80172413793105, 31.140885099472193, 22.879078694817668, 22.63940520446095, 32.842025699168545, 27.670753064798603, 21.96104768300873, 16.027164685908325, 28.82126617698497, 28.006993006993007, 38.96599583622484, 42.94520547945204, 40.92827004219408, 50.21671826625387, 20.837238363011544, 37.01121551985451, 32.97297297297297, 37.8875171467764, 32.2136563876652, 43.57623646473516, 49.117567200651656, 51.597924064463264, 48.039950062421966, 50.98227120268331, 82.98019345923538, 57.460840890354504, 114.91726990692861, 126.54867256637168, 179.41805733846815, 153.48189415041782, 105.9558517284465, 111.16999592335914, 95.01092498179169, 135.49549549549548, 107.20188902007087, 100.3332275468105, 67.84140969162995, 64.65968586387434, 49.103813304462896, 15.185546875, -22.434915773353747, -23.23390894819466, 3.892821031344784, -6.8050193050193, -10.504201680672265, -34.81254781943382, -33.903133903133906, -32.67326732673267, -35.69553805774278, -32.11446740858506, -33.118192819685355, -32.59855871131836, -23.59328726554788, -25.848670756646207, -37.71289537712895, -25.168306576903156, -32.13354199269693, -25.469483568075113, -15.54187192118227, -3.1764705882352917, -7.4052478134110755, -0.8782201405152179, 5.186972255729794, 14.943396226415096, 29.06976744186047, 12.658576944291223, 29.609375000000004, 18.823529411764707, 34.51191391237509, 31.023622047244093, 23.067949839603386, 0.6682867557715744, 2.015113350125941, -9.746012994683994, -7.110091743119263, -16.305537316699493, -25.17517517517518, -3.488372093023251, -6.329113924050633, -12.451951077460688, -12.171428571428567, -10.324519230769225, -18.874407582938378, -15.932407966203987, -15.123456790123457, -12.696335078534027, -18.765432098765434, -19.3776150627615, -17.953177257525088, -27.013316423589096, -15.250965250965255, -14.489089941458221, -18.282368249837344, -14.823750167537863, -4.33766613115234, -4.307250538406315, -5.236363636363639, -2.5187406296851456, -1.1246200607902712, 6.00064871878041, 14.299690200554394, 17.51520417028669, 4.479878511769164, 7.592967169752596, 9.29936305732484, 9.126671911880413, 9.160305343511443, 15.438859714928732, 29.91557943207981, 23.346662565364483, 19.73562865047649, 18.95654834761322, 14.265335235378029, 20.020700872393917, 22.383720930232553, 31.091829356471436, 31.41025641025641, 28.997837058399423, 29.370629370629374, 17.85807122433065, 8.577504725897933, 16.9077306733167, 26.44415917843388, 24.527331189710623, 14.357053682896371, 5.001847973389162, 8.539192399049877, -0.9376723662437914, 0.9977827050997812, -2.403308741336907, -5.556756756756753, -5.657256285840317, -13.66702937976061, -12.030716723549496, -14.192893401015228, -15.255112580045449, -13.973799126637553, -9.18690601900739, -16.1396214027793, -15.913140311804009, -20.570801317233812, -14.55732447600504, -15.682234432234432, -15.885447106954997, -7.61280564658432, -8.996120271580976, -3.419309039280649, -2.83973187081048, 5.342639593908638, 5.348837209302326, -3.8361169102296477, -2.5956826910343067, 0.3454947484798243, -5.576407506702418, 1.0860711376595056, 7.768204558087821, 11.432469304229187, 1.1191047162270262, -5.708685532279789, -3.1108881083793394, -11.817853270690282, -11.037527593818986, -3.487109905020358, -2.7192386131883017, -0.7299270072992803, 4.585462805224316, -2.5382755842062843, -10.406189555125733, -13.099902056807055, -5.8102766798418966, -4.820059763544238, -8.557742102537546, -3.2513661202185684, -2.646815550041348, -3.9223956136651195, -5.981830887491258, -6.354051054384014, -6.773449165196155, -1.3779798814937294, -2.1301093839953933, -1.6624401239785813, -5.091621205763042, -8.763308763308775, -5.734107319835768, -6.67890426433212, -7.221750212404421, -1.1413520632133412, 5.336702839304297, 11.837037037037025, 10.206755969714632, 12.267709934330018, 9.27941176470588, 1.8624641833810962, 8.946204863669859, 10.981448234590063, 17.677981375788534, 14.359207141776364, 16.468253968253954, 15.21610420367081, 6.251764041772501, 2.6890978937607724, 2.589509842779769, -4.418170504044805, 3.8218274794778573, 11.068917018284118, 3.855519480519476, 3.28929630628203, -2.169751116783658, -0.7938608097380229, -1.3497575678155016, 0.7194244604316502, 3.533005711249837, -0.8513931888544879, -0.3090792015453925, -0.1692708333333237, -0.8813998703823711, -2.747878941370141, -0.3126221180148603, 1.2268337248759975, 0.9784735812133016, 8.175513470258755, 6.44261424017003, 1.1096938775510212, 0.3976908274534896, 1.6263335935467138, -1.304740989536235, 0.508673535933224, 1.0723159408918548, -1.302083333333337, -0.8232065856526805, -4.254770500257865, -4.586563307493541, -14.807052151399336, -10.49544490203418, -12.160968840671138, -13.071811909021225, -11.50940980668288, -12.421465968586388, -15.299766415779903, -15.810583516625687, -12.374670184696567, -17.94466403162056, -20.064637759224347, -21.408259986459043, -11.765557163531104, -17.06636921360849, -13.543013069079413, -8.657945024254, -15.04629629629629, -11.433268569720523, -11.490730810479544, -15.967419701859553, -11.517615176151763, -6.133590237636466, -0.7075471698113289, -0.8270158511371362, -6.380186977201918, -3.480161398789494, -7.159468438538208, -7.756678467975531, -8.514986376021794, -11.913601079986503, -11.511164964514464, -6.803218727139715, 1.7525948613237974, 2.32637700992131, -1.1367492365116916, 0.851285615010422, -0.735809390329345, 2.299251001567648, -0.9661835748792202, -4.030006978367062, 1.3588979895755582, 10.40229885057471, 8.27464788732395, 8.712715855572984, -8.478260869565224, -11.568037445670354, -7.636862879697959, -5.443583118001727, -6.636074832333216, -9.177592371871269, -6.8834688346883555, -4.326486093437564, -1.7447199265381075, -6.090577824049959, -3.9205058717253882, -1.4440433212996373, 7.107619221633499, 5.387523629489599, 2.378298030471937, 0.7469484423392236, 6.729678638941405, 11.304836895388082, 16.957702755141636, 17.119513585407574, 22.09345794392523, 17.70140428677014, 14.57314779992478, 14.578754578754594, 10.440122824974395, 13.686098654708513, 15.8076225045372, 25.569620253164558, 30.18065887353878, 17.04564594913254, 11.098208360982099, 9.263465282284233, 10.655235762400483, 8.634222919937207, 16.445100935499756, 20.076726342711005, 19.8640716713006, 21.88387503944462, 24.855038395235862, 19.88767281105992, 8.775510204081627, 13.93006187940713, 26.53426907570553, 15.367483296213802, 8.812949640287782, 14.393063583815024, 10.331219168428474, 8.426517571884972, 7.126288659793811, 10.174757281553394, 13.819505460022574, 4.648648648648646, 5.603502188868026, 10.003789314134126, 0.8968609865470878, 12.149292149292146, 5.390972663699944, 10.434562910560885, 9.60654062340318, 6.384284837323517, 13.857813063875856, 10.62154858418516, 9.318482576091757, 17.76859504132231, 34.72699277507996, 27.6840050522448, 36.140350877192986, 47.80812485655268, 57.55820967547351, 40.35689773507205, 47.435897435897445, 43.912290825158685, 26.62440570522979, 28.25278810408922, 30.47513366286696, 23.196881091617925, 14.37362637362638, 19.460431654676256, 13.702749140893467, 5.124223602484479, 0.9341500765696731, 6.030969845150769, 5.217391304347818, 7.778668805132316, 23.988318731748027, 30.766045548654255, 21.153548786145038, 31.92246835443038, 41.92928516525749, 46.26618488407106, 41.0653570079335, 28.655834564254068, 34.38780154756487, 43.00538047655649, 37.94139744552967, 23.958333333333325, 19.04441453566621, -7.441418619379359, 3.956604977664324, 4.317841079460272, -0.4061738424045447, -2.007205352547603, -1.8211033743974259, 1.406429391504016, 10.13265594129269, 0.4568664337543771, 2.287581699346397, 14.705882352941169, 12.577727529677784, 42.319534724598014, 44.352363413136885, 25.035929864903707, 17.292006525285487, 16.41281512605042, 21.713038734315337, 33.512595527879995, 23.78267555099949, 33.119315141787055, 24.494142705005316, 30.402930402930405, 31.25784584484057, 29.495192307692307, 17.669572613225593, 29.24137931034483, 23.04126101066295, 27.317843446875713, 29.000448229493504, 30.209879160483368, 27.24637681159421, 21.0209003215434, 39.30710008554319, 45.54574638844302, 23.947972456006127, 27.86337479116392, 26.201662450307197, 8.929206688011382, 31.424265259984917, 25.44294826364282, 15.531619179986112, 7.538261152718984, 1.3992840872111945, 6.177349717701763, -0.3991403131716309, -9.09842845326716, 9.629629629629633, -0.17421602787456303, -1.145475372279492, 8.262573481384706, -4.544151376146788, -10.254237288135592, -3.8646616541353374, -11.03709311127934, -10.49422336328626, -25.430090710040666, -18.95807644882861, -15.392781316348191, -25.309684684684687, -22.978475858057013, -27.404403244495946, -27.33031674208145, -24.853581618861686, -16.49354737173434, -19.17722508994213, -12.287270251872018, -10.326281821441373, 10.318791946308714, -2.2251806770635207, -7.815020613013079, -8.292499057670566, -12.065709969788518, -5.606544293695137, 0.12453300124533051, 0.7394084732214257, -8.480964945344894, -8.109154248113025, -8.401241753977494, -4.726109556177526, -10.950570342205324, -14.53802762108538, -11.724674314602368, -8.425811755034939, -1.8810392956839284, -10.217712957091518, -12.106135986733001, -11.7794088474509, 1.721581548599671, 4.212299915754003, 8.930311374708765, 1.7374517374517229, 12.788215200683183, 22.17771303714493, 15.352422907488993, 18.716337522441663, 11.349411301264944, 10.942649967040197, 8.10377358490566, 9.084367692030938, 1.676249088995041, 0.6345998383185059, -1.4934080037335207, 4.463328108241904, -5.943592655688057, -5.547690014903129, 0.1909490166125627, -2.979206049149341, -0.14544025157231522, 8.666496901791021, 12.662535997905566, 10.904518469656988, 4.957789104810439, 6.346146122022733, 3.691420900943587, 3.0919286052756068, 0.6600925739585373, -3.6763835746124296, -8.332380407852103, -7.470189385082993, -4.345943392512696, -4.893766598968918, -0.9295120061967421, -1.6207575926545426, 0.0986455211139603, -2.149035011519418, -2.353030764544628, -0.7507565020875573, 12.679435403254825, 16.921249846431042, 27.107156222711957, 25.10423246999367, 24.363142516152926, 19.925259742926382, 18.43236903831118, 19.720385414698672, 22.036917712163117, 24.204878801914465, 32.78873898463699, 33.433676816795966, 25.48616039744498, 37.641413610731675, 28.065297042658965, 27.038308759173233, 24.547470134683458, 20.710201006745876, 24.614622875061887, 17.649286706223965, 8.261639283163035, 5.102706734205542, 3.811481427103214, 9.906287962052417, -0.27996154063683054, -8.420275841009728], \"yaxis\": \"y\"}],                        {\"legend\": {\"title\": {\"text\": \"variable\"}, \"tracegroupgap\": 0}, \"margin\": {\"t\": 60}, \"template\": {\"data\": {\"bar\": [{\"error_x\": {\"color\": \"#2a3f5f\"}, \"error_y\": {\"color\": \"#2a3f5f\"}, \"marker\": {\"line\": {\"color\": \"#E5ECF6\", \"width\": 0.5}}, \"type\": \"bar\"}], \"barpolar\": [{\"marker\": {\"line\": {\"color\": \"#E5ECF6\", \"width\": 0.5}}, \"type\": \"barpolar\"}], \"carpet\": [{\"aaxis\": {\"endlinecolor\": \"#2a3f5f\", \"gridcolor\": \"white\", \"linecolor\": \"white\", \"minorgridcolor\": \"white\", \"startlinecolor\": \"#2a3f5f\"}, \"baxis\": {\"endlinecolor\": \"#2a3f5f\", \"gridcolor\": \"white\", \"linecolor\": \"white\", \"minorgridcolor\": \"white\", \"startlinecolor\": \"#2a3f5f\"}, \"type\": \"carpet\"}], \"choropleth\": [{\"colorbar\": {\"outlinewidth\": 0, \"ticks\": \"\"}, \"type\": \"choropleth\"}], \"contour\": [{\"colorbar\": {\"outlinewidth\": 0, \"ticks\": \"\"}, \"colorscale\": [[0.0, \"#0d0887\"], [0.1111111111111111, \"#46039f\"], [0.2222222222222222, \"#7201a8\"], [0.3333333333333333, \"#9c179e\"], [0.4444444444444444, \"#bd3786\"], [0.5555555555555556, \"#d8576b\"], [0.6666666666666666, \"#ed7953\"], [0.7777777777777778, \"#fb9f3a\"], [0.8888888888888888, \"#fdca26\"], [1.0, \"#f0f921\"]], \"type\": \"contour\"}], \"contourcarpet\": [{\"colorbar\": {\"outlinewidth\": 0, \"ticks\": \"\"}, \"type\": \"contourcarpet\"}], \"heatmap\": [{\"colorbar\": {\"outlinewidth\": 0, \"ticks\": \"\"}, \"colorscale\": [[0.0, \"#0d0887\"], [0.1111111111111111, \"#46039f\"], [0.2222222222222222, \"#7201a8\"], [0.3333333333333333, \"#9c179e\"], [0.4444444444444444, \"#bd3786\"], [0.5555555555555556, \"#d8576b\"], [0.6666666666666666, \"#ed7953\"], [0.7777777777777778, \"#fb9f3a\"], [0.8888888888888888, \"#fdca26\"], [1.0, \"#f0f921\"]], \"type\": \"heatmap\"}], \"heatmapgl\": [{\"colorbar\": {\"outlinewidth\": 0, \"ticks\": \"\"}, \"colorscale\": [[0.0, \"#0d0887\"], [0.1111111111111111, \"#46039f\"], [0.2222222222222222, \"#7201a8\"], [0.3333333333333333, \"#9c179e\"], [0.4444444444444444, \"#bd3786\"], [0.5555555555555556, \"#d8576b\"], [0.6666666666666666, \"#ed7953\"], [0.7777777777777778, \"#fb9f3a\"], [0.8888888888888888, \"#fdca26\"], [1.0, \"#f0f921\"]], \"type\": \"heatmapgl\"}], \"histogram\": [{\"marker\": {\"colorbar\": {\"outlinewidth\": 0, \"ticks\": \"\"}}, \"type\": \"histogram\"}], \"histogram2d\": [{\"colorbar\": {\"outlinewidth\": 0, \"ticks\": \"\"}, \"colorscale\": [[0.0, \"#0d0887\"], [0.1111111111111111, \"#46039f\"], [0.2222222222222222, \"#7201a8\"], [0.3333333333333333, \"#9c179e\"], [0.4444444444444444, \"#bd3786\"], [0.5555555555555556, \"#d8576b\"], [0.6666666666666666, \"#ed7953\"], [0.7777777777777778, \"#fb9f3a\"], [0.8888888888888888, \"#fdca26\"], [1.0, \"#f0f921\"]], \"type\": \"histogram2d\"}], \"histogram2dcontour\": [{\"colorbar\": {\"outlinewidth\": 0, \"ticks\": \"\"}, \"colorscale\": [[0.0, \"#0d0887\"], [0.1111111111111111, \"#46039f\"], [0.2222222222222222, \"#7201a8\"], [0.3333333333333333, \"#9c179e\"], [0.4444444444444444, \"#bd3786\"], [0.5555555555555556, \"#d8576b\"], [0.6666666666666666, \"#ed7953\"], [0.7777777777777778, \"#fb9f3a\"], [0.8888888888888888, \"#fdca26\"], [1.0, \"#f0f921\"]], \"type\": \"histogram2dcontour\"}], \"mesh3d\": [{\"colorbar\": {\"outlinewidth\": 0, \"ticks\": \"\"}, \"type\": \"mesh3d\"}], \"parcoords\": [{\"line\": {\"colorbar\": {\"outlinewidth\": 0, \"ticks\": \"\"}}, \"type\": \"parcoords\"}], \"pie\": [{\"automargin\": true, \"type\": \"pie\"}], \"scatter\": [{\"marker\": {\"colorbar\": {\"outlinewidth\": 0, \"ticks\": \"\"}}, \"type\": \"scatter\"}], \"scatter3d\": [{\"line\": {\"colorbar\": {\"outlinewidth\": 0, \"ticks\": \"\"}}, \"marker\": {\"colorbar\": {\"outlinewidth\": 0, \"ticks\": \"\"}}, \"type\": \"scatter3d\"}], \"scattercarpet\": [{\"marker\": {\"colorbar\": {\"outlinewidth\": 0, \"ticks\": \"\"}}, \"type\": \"scattercarpet\"}], \"scattergeo\": [{\"marker\": {\"colorbar\": {\"outlinewidth\": 0, \"ticks\": \"\"}}, \"type\": \"scattergeo\"}], \"scattergl\": [{\"marker\": {\"colorbar\": {\"outlinewidth\": 0, \"ticks\": \"\"}}, \"type\": \"scattergl\"}], \"scattermapbox\": [{\"marker\": {\"colorbar\": {\"outlinewidth\": 0, \"ticks\": \"\"}}, \"type\": \"scattermapbox\"}], \"scatterpolar\": [{\"marker\": {\"colorbar\": {\"outlinewidth\": 0, \"ticks\": \"\"}}, \"type\": \"scatterpolar\"}], \"scatterpolargl\": [{\"marker\": {\"colorbar\": {\"outlinewidth\": 0, \"ticks\": \"\"}}, \"type\": \"scatterpolargl\"}], \"scatterternary\": [{\"marker\": {\"colorbar\": {\"outlinewidth\": 0, \"ticks\": \"\"}}, \"type\": \"scatterternary\"}], \"surface\": [{\"colorbar\": {\"outlinewidth\": 0, \"ticks\": \"\"}, \"colorscale\": [[0.0, \"#0d0887\"], [0.1111111111111111, \"#46039f\"], [0.2222222222222222, \"#7201a8\"], [0.3333333333333333, \"#9c179e\"], [0.4444444444444444, \"#bd3786\"], [0.5555555555555556, \"#d8576b\"], [0.6666666666666666, \"#ed7953\"], [0.7777777777777778, \"#fb9f3a\"], [0.8888888888888888, \"#fdca26\"], [1.0, \"#f0f921\"]], \"type\": \"surface\"}], \"table\": [{\"cells\": {\"fill\": {\"color\": \"#EBF0F8\"}, \"line\": {\"color\": \"white\"}}, \"header\": {\"fill\": {\"color\": \"#C8D4E3\"}, \"line\": {\"color\": \"white\"}}, \"type\": \"table\"}]}, \"layout\": {\"annotationdefaults\": {\"arrowcolor\": \"#2a3f5f\", \"arrowhead\": 0, \"arrowwidth\": 1}, \"autotypenumbers\": \"strict\", \"coloraxis\": {\"colorbar\": {\"outlinewidth\": 0, \"ticks\": \"\"}}, \"colorscale\": {\"diverging\": [[0, \"#8e0152\"], [0.1, \"#c51b7d\"], [0.2, \"#de77ae\"], [0.3, \"#f1b6da\"], [0.4, \"#fde0ef\"], [0.5, \"#f7f7f7\"], [0.6, \"#e6f5d0\"], [0.7, \"#b8e186\"], [0.8, \"#7fbc41\"], [0.9, \"#4d9221\"], [1, \"#276419\"]], \"sequential\": [[0.0, \"#0d0887\"], [0.1111111111111111, \"#46039f\"], [0.2222222222222222, \"#7201a8\"], [0.3333333333333333, \"#9c179e\"], [0.4444444444444444, \"#bd3786\"], [0.5555555555555556, \"#d8576b\"], [0.6666666666666666, \"#ed7953\"], [0.7777777777777778, \"#fb9f3a\"], [0.8888888888888888, \"#fdca26\"], [1.0, \"#f0f921\"]], \"sequentialminus\": [[0.0, \"#0d0887\"], [0.1111111111111111, \"#46039f\"], [0.2222222222222222, \"#7201a8\"], [0.3333333333333333, \"#9c179e\"], [0.4444444444444444, \"#bd3786\"], [0.5555555555555556, \"#d8576b\"], [0.6666666666666666, \"#ed7953\"], [0.7777777777777778, \"#fb9f3a\"], [0.8888888888888888, \"#fdca26\"], [1.0, \"#f0f921\"]]}, \"colorway\": [\"#636efa\", \"#EF553B\", \"#00cc96\", \"#ab63fa\", \"#FFA15A\", \"#19d3f3\", \"#FF6692\", \"#B6E880\", \"#FF97FF\", \"#FECB52\"], \"font\": {\"color\": \"#2a3f5f\"}, \"geo\": {\"bgcolor\": \"white\", \"lakecolor\": \"white\", \"landcolor\": \"#E5ECF6\", \"showlakes\": true, \"showland\": true, \"subunitcolor\": \"white\"}, \"hoverlabel\": {\"align\": \"left\"}, \"hovermode\": \"closest\", \"mapbox\": {\"style\": \"light\"}, \"paper_bgcolor\": \"white\", \"plot_bgcolor\": \"#E5ECF6\", \"polar\": {\"angularaxis\": {\"gridcolor\": \"white\", \"linecolor\": \"white\", \"ticks\": \"\"}, \"bgcolor\": \"#E5ECF6\", \"radialaxis\": {\"gridcolor\": \"white\", \"linecolor\": \"white\", \"ticks\": \"\"}}, \"scene\": {\"xaxis\": {\"backgroundcolor\": \"#E5ECF6\", \"gridcolor\": \"white\", \"gridwidth\": 2, \"linecolor\": \"white\", \"showbackground\": true, \"ticks\": \"\", \"zerolinecolor\": \"white\"}, \"yaxis\": {\"backgroundcolor\": \"#E5ECF6\", \"gridcolor\": \"white\", \"gridwidth\": 2, \"linecolor\": \"white\", \"showbackground\": true, \"ticks\": \"\", \"zerolinecolor\": \"white\"}, \"zaxis\": {\"backgroundcolor\": \"#E5ECF6\", \"gridcolor\": \"white\", \"gridwidth\": 2, \"linecolor\": \"white\", \"showbackground\": true, \"ticks\": \"\", \"zerolinecolor\": \"white\"}}, \"shapedefaults\": {\"line\": {\"color\": \"#2a3f5f\"}}, \"ternary\": {\"aaxis\": {\"gridcolor\": \"white\", \"linecolor\": \"white\", \"ticks\": \"\"}, \"baxis\": {\"gridcolor\": \"white\", \"linecolor\": \"white\", \"ticks\": \"\"}, \"bgcolor\": \"#E5ECF6\", \"caxis\": {\"gridcolor\": \"white\", \"linecolor\": \"white\", \"ticks\": \"\"}}, \"title\": {\"x\": 0.05}, \"xaxis\": {\"automargin\": true, \"gridcolor\": \"white\", \"linecolor\": \"white\", \"ticks\": \"\", \"title\": {\"standoff\": 15}, \"zerolinecolor\": \"white\", \"zerolinewidth\": 2}, \"yaxis\": {\"automargin\": true, \"gridcolor\": \"white\", \"linecolor\": \"white\", \"ticks\": \"\", \"title\": {\"standoff\": 15}, \"zerolinecolor\": \"white\", \"zerolinewidth\": 2}}}, \"xaxis\": {\"anchor\": \"y\", \"domain\": [0.0, 1.0], \"title\": {\"text\": \"Date\"}}, \"yaxis\": {\"anchor\": \"x\", \"domain\": [0.0, 1.0], \"title\": {\"text\": \"value\"}}},                        {\"responsive\": true}                    ).then(function(){\n",
       "                            \n",
       "var gd = document.getElementById('294f8c7e-2204-4b2d-bbb3-8d340c2f164b');\n",
       "var x = new MutationObserver(function (mutations, observer) {{\n",
       "        var display = window.getComputedStyle(gd).display;\n",
       "        if (!display || display === 'none') {{\n",
       "            console.log([gd, 'removed!']);\n",
       "            Plotly.purge(gd);\n",
       "            observer.disconnect();\n",
       "        }}\n",
       "}});\n",
       "\n",
       "// Listen for the removal of the full notebook cells\n",
       "var notebookContainer = gd.closest('#notebook-container');\n",
       "if (notebookContainer) {{\n",
       "    x.observe(notebookContainer, {childList: true});\n",
       "}}\n",
       "\n",
       "// Listen for the clearing of the current output cell\n",
       "var outputEl = gd.closest('.output');\n",
       "if (outputEl) {{\n",
       "    x.observe(outputEl, {childList: true});\n",
       "}}\n",
       "\n",
       "                        })                };                });            </script>        </div>"
      ]
     },
     "metadata": {},
     "output_type": "display_data"
    }
   ],
   "source": [
    "px.line(gold_percentage)"
   ]
  },
  {
   "cell_type": "code",
   "execution_count": null,
   "id": "ec6dbef0-5770-40d0-a7a4-1e8cfd59b6dc",
   "metadata": {},
   "outputs": [],
   "source": []
  }
 ],
 "metadata": {
  "kernelspec": {
   "display_name": "Python 3",
   "language": "python",
   "name": "python3"
  },
  "language_info": {
   "codemirror_mode": {
    "name": "ipython",
    "version": 3
   },
   "file_extension": ".py",
   "mimetype": "text/x-python",
   "name": "python",
   "nbconvert_exporter": "python",
   "pygments_lexer": "ipython3",
   "version": "3.8.10"
  }
 },
 "nbformat": 4,
 "nbformat_minor": 5
}
