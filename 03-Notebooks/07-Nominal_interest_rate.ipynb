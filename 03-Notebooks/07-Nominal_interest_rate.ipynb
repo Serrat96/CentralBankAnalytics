{
 "cells": [
  {
   "cell_type": "code",
   "execution_count": 1,
   "id": "422539c4-95cf-4b12-9966-d10d240a64c4",
   "metadata": {},
   "outputs": [],
   "source": [
    "from fredapi import Fred\n",
    "import pandas as pd"
   ]
  },
  {
   "cell_type": "code",
   "execution_count": 2,
   "id": "726f5518-fcdd-4694-a29e-7fe2f7330957",
   "metadata": {},
   "outputs": [
    {
     "data": {
      "text/plain": [
       "1954-07-01    1.13\n",
       "1954-07-02    1.25\n",
       "1954-07-03    1.25\n",
       "1954-07-04    1.25\n",
       "1954-07-05    0.88\n",
       "              ... \n",
       "2021-07-18    0.10\n",
       "2021-07-19    0.10\n",
       "2021-07-20    0.10\n",
       "2021-07-21    0.10\n",
       "2021-07-22    0.10\n",
       "Length: 24494, dtype: float64"
      ]
     },
     "execution_count": 2,
     "metadata": {},
     "output_type": "execute_result"
    }
   ],
   "source": [
    "fred = Fred(api_key='a7eca89fdf2905baea21d67b942c9ef7')\n",
    "interest_rates=fred.get_series('DFF')\n",
    "interest_rates"
   ]
  },
  {
   "cell_type": "code",
   "execution_count": 3,
   "id": "c95ddb28-fd9b-4526-9f85-c6dccbfd6dbb",
   "metadata": {},
   "outputs": [],
   "source": [
    "interest_rates = pd.DataFrame(data=interest_rates, columns=['Value'])"
   ]
  },
  {
   "cell_type": "code",
   "execution_count": 4,
   "id": "3b4b3746-093c-4238-b9b3-54dc879db878",
   "metadata": {},
   "outputs": [
    {
     "data": {
      "text/html": [
       "<div>\n",
       "<style scoped>\n",
       "    .dataframe tbody tr th:only-of-type {\n",
       "        vertical-align: middle;\n",
       "    }\n",
       "\n",
       "    .dataframe tbody tr th {\n",
       "        vertical-align: top;\n",
       "    }\n",
       "\n",
       "    .dataframe thead th {\n",
       "        text-align: right;\n",
       "    }\n",
       "</style>\n",
       "<table border=\"1\" class=\"dataframe\">\n",
       "  <thead>\n",
       "    <tr style=\"text-align: right;\">\n",
       "      <th></th>\n",
       "      <th>Value</th>\n",
       "    </tr>\n",
       "  </thead>\n",
       "  <tbody>\n",
       "    <tr>\n",
       "      <th>1954-07-01</th>\n",
       "      <td>1.13</td>\n",
       "    </tr>\n",
       "    <tr>\n",
       "      <th>1954-07-02</th>\n",
       "      <td>1.25</td>\n",
       "    </tr>\n",
       "    <tr>\n",
       "      <th>1954-07-03</th>\n",
       "      <td>1.25</td>\n",
       "    </tr>\n",
       "    <tr>\n",
       "      <th>1954-07-04</th>\n",
       "      <td>1.25</td>\n",
       "    </tr>\n",
       "    <tr>\n",
       "      <th>1954-07-05</th>\n",
       "      <td>0.88</td>\n",
       "    </tr>\n",
       "    <tr>\n",
       "      <th>...</th>\n",
       "      <td>...</td>\n",
       "    </tr>\n",
       "    <tr>\n",
       "      <th>2021-07-18</th>\n",
       "      <td>0.10</td>\n",
       "    </tr>\n",
       "    <tr>\n",
       "      <th>2021-07-19</th>\n",
       "      <td>0.10</td>\n",
       "    </tr>\n",
       "    <tr>\n",
       "      <th>2021-07-20</th>\n",
       "      <td>0.10</td>\n",
       "    </tr>\n",
       "    <tr>\n",
       "      <th>2021-07-21</th>\n",
       "      <td>0.10</td>\n",
       "    </tr>\n",
       "    <tr>\n",
       "      <th>2021-07-22</th>\n",
       "      <td>0.10</td>\n",
       "    </tr>\n",
       "  </tbody>\n",
       "</table>\n",
       "<p>24494 rows × 1 columns</p>\n",
       "</div>"
      ],
      "text/plain": [
       "            Value\n",
       "1954-07-01   1.13\n",
       "1954-07-02   1.25\n",
       "1954-07-03   1.25\n",
       "1954-07-04   1.25\n",
       "1954-07-05   0.88\n",
       "...           ...\n",
       "2021-07-18   0.10\n",
       "2021-07-19   0.10\n",
       "2021-07-20   0.10\n",
       "2021-07-21   0.10\n",
       "2021-07-22   0.10\n",
       "\n",
       "[24494 rows x 1 columns]"
      ]
     },
     "execution_count": 4,
     "metadata": {},
     "output_type": "execute_result"
    }
   ],
   "source": [
    "interest_rates"
   ]
  },
  {
   "cell_type": "code",
   "execution_count": 5,
   "id": "6cf5b828-be3b-4531-89dc-caf56ede892d",
   "metadata": {},
   "outputs": [],
   "source": [
    "interest_rates.to_pickle(r'..\\02-Data\\07-Interest_rates\\01-InterestRates_percentage_1954-07-01_2021-07-22_daily_fred.pkl')"
   ]
  },
  {
   "cell_type": "code",
   "execution_count": 6,
   "id": "f4c5fcaf-60ed-49f5-95e7-c50a329ac369",
   "metadata": {},
   "outputs": [],
   "source": [
    "interest_rates_mensual = interest_rates.asfreq('M')"
   ]
  },
  {
   "cell_type": "code",
   "execution_count": 7,
   "id": "01aa8e80-ab05-48d3-8677-367debff0a32",
   "metadata": {},
   "outputs": [],
   "source": [
    "interest_rates_mensual.to_pickle(r'..\\02-Data\\07-Interest_rates\\02-InterestRates_percentage_1954-07-01_2021-07-22_monthly_fred.pkl')"
   ]
  },
  {
   "cell_type": "code",
   "execution_count": 8,
   "id": "05b67dc3-e0ae-42a3-b225-2fab4a892952",
   "metadata": {},
   "outputs": [],
   "source": [
    "interest_rates_anual = interest_rates.asfreq('Y')\n",
    "interest_rates_anual = interest_rates_anual.append(interest_rates_mensual.tail(1))"
   ]
  },
  {
   "cell_type": "code",
   "execution_count": 9,
   "id": "f2ea33c0-d4c4-408d-81f8-39c767d04dfa",
   "metadata": {},
   "outputs": [
    {
     "data": {
      "text/html": [
       "<div>\n",
       "<style scoped>\n",
       "    .dataframe tbody tr th:only-of-type {\n",
       "        vertical-align: middle;\n",
       "    }\n",
       "\n",
       "    .dataframe tbody tr th {\n",
       "        vertical-align: top;\n",
       "    }\n",
       "\n",
       "    .dataframe thead th {\n",
       "        text-align: right;\n",
       "    }\n",
       "</style>\n",
       "<table border=\"1\" class=\"dataframe\">\n",
       "  <thead>\n",
       "    <tr style=\"text-align: right;\">\n",
       "      <th></th>\n",
       "      <th>Value</th>\n",
       "    </tr>\n",
       "  </thead>\n",
       "  <tbody>\n",
       "    <tr>\n",
       "      <th>1954-12-31</th>\n",
       "      <td>1.44</td>\n",
       "    </tr>\n",
       "    <tr>\n",
       "      <th>1955-12-31</th>\n",
       "      <td>2.50</td>\n",
       "    </tr>\n",
       "    <tr>\n",
       "      <th>1956-12-31</th>\n",
       "      <td>3.00</td>\n",
       "    </tr>\n",
       "    <tr>\n",
       "      <th>1957-12-31</th>\n",
       "      <td>3.00</td>\n",
       "    </tr>\n",
       "    <tr>\n",
       "      <th>1958-12-31</th>\n",
       "      <td>2.38</td>\n",
       "    </tr>\n",
       "    <tr>\n",
       "      <th>...</th>\n",
       "      <td>...</td>\n",
       "    </tr>\n",
       "    <tr>\n",
       "      <th>2017-12-31</th>\n",
       "      <td>1.33</td>\n",
       "    </tr>\n",
       "    <tr>\n",
       "      <th>2018-12-31</th>\n",
       "      <td>2.40</td>\n",
       "    </tr>\n",
       "    <tr>\n",
       "      <th>2019-12-31</th>\n",
       "      <td>1.55</td>\n",
       "    </tr>\n",
       "    <tr>\n",
       "      <th>2020-12-31</th>\n",
       "      <td>0.09</td>\n",
       "    </tr>\n",
       "    <tr>\n",
       "      <th>2021-06-30</th>\n",
       "      <td>0.08</td>\n",
       "    </tr>\n",
       "  </tbody>\n",
       "</table>\n",
       "<p>68 rows × 1 columns</p>\n",
       "</div>"
      ],
      "text/plain": [
       "            Value\n",
       "1954-12-31   1.44\n",
       "1955-12-31   2.50\n",
       "1956-12-31   3.00\n",
       "1957-12-31   3.00\n",
       "1958-12-31   2.38\n",
       "...           ...\n",
       "2017-12-31   1.33\n",
       "2018-12-31   2.40\n",
       "2019-12-31   1.55\n",
       "2020-12-31   0.09\n",
       "2021-06-30   0.08\n",
       "\n",
       "[68 rows x 1 columns]"
      ]
     },
     "execution_count": 9,
     "metadata": {},
     "output_type": "execute_result"
    }
   ],
   "source": [
    "interest_rates_anual"
   ]
  },
  {
   "cell_type": "code",
   "execution_count": 10,
   "id": "1639e887-c875-458b-8e71-bc13036efcec",
   "metadata": {},
   "outputs": [],
   "source": [
    "interest_rates_anual.to_pickle(r'..\\02-Data\\07-Interest_rates\\03-InterestRates_percentage_1954-07-01_2021-07-22_anually_fred.pkl')"
   ]
  },
  {
   "cell_type": "markdown",
   "id": "e4366d01-9807-45a3-ba7e-ee2c7ea389c6",
   "metadata": {},
   "source": [
    "## Tasa de interés a 10 años"
   ]
  },
  {
   "cell_type": "code",
   "execution_count": 11,
   "id": "d8ba20f3-1faf-4d53-af09-09b9885c2b47",
   "metadata": {},
   "outputs": [
    {
     "data": {
      "text/plain": [
       "1962-01-02    4.06\n",
       "1962-01-03    4.03\n",
       "1962-01-04    3.99\n",
       "1962-01-05    4.02\n",
       "1962-01-08    4.03\n",
       "              ... \n",
       "2021-07-16    1.31\n",
       "2021-07-19    1.19\n",
       "2021-07-20    1.23\n",
       "2021-07-21    1.30\n",
       "2021-07-22    1.27\n",
       "Length: 15538, dtype: float64"
      ]
     },
     "execution_count": 11,
     "metadata": {},
     "output_type": "execute_result"
    }
   ],
   "source": [
    "fred = Fred(api_key='a7eca89fdf2905baea21d67b942c9ef7')\n",
    "interest_rates_10_year=fred.get_series('DGS10')\n",
    "interest_rates_10_year"
   ]
  },
  {
   "cell_type": "code",
   "execution_count": 12,
   "id": "7a4f95a0-74fe-4a5c-a7e2-ef1db0ee2cc8",
   "metadata": {},
   "outputs": [],
   "source": [
    "interest_rates_10_year = pd.DataFrame(data=interest_rates_10_year, columns=['Value'])"
   ]
  },
  {
   "cell_type": "code",
   "execution_count": 13,
   "id": "1991f5b7-6c63-453a-a574-5caf68c1e45b",
   "metadata": {},
   "outputs": [],
   "source": [
    "interest_rates_10_year = interest_rates_10_year.dropna()"
   ]
  },
  {
   "cell_type": "code",
   "execution_count": 17,
   "id": "a7139813-6a59-4782-9926-4c91c4549f91",
   "metadata": {},
   "outputs": [],
   "source": [
    "interest_rates_10_year.to_pickle(r'..\\02-Data\\07-Interest_rates\\04-10YearInterestRates_percentage_1962-01-01_2021-07-22_daily_fred.pkl')"
   ]
  },
  {
   "cell_type": "markdown",
   "id": "16aba17f-fd74-4338-ae51-586fe69a5dec",
   "metadata": {},
   "source": [
    "## 10 year treasury inflation-indexed security"
   ]
  },
  {
   "cell_type": "code",
   "execution_count": 2,
   "id": "87759552-50eb-4b88-be9f-37d6f6d34985",
   "metadata": {},
   "outputs": [
    {
     "data": {
      "text/plain": [
       "2003-01-02    2.43\n",
       "2003-01-03    2.43\n",
       "2003-01-06    2.46\n",
       "2003-01-07    2.42\n",
       "2003-01-08    2.29\n",
       "              ... \n",
       "2021-07-16   -1.02\n",
       "2021-07-19   -1.05\n",
       "2021-07-20   -1.03\n",
       "2021-07-21   -0.98\n",
       "2021-07-22   -1.01\n",
       "Length: 4841, dtype: float64"
      ]
     },
     "execution_count": 2,
     "metadata": {},
     "output_type": "execute_result"
    }
   ],
   "source": [
    "fred = Fred(api_key='a7eca89fdf2905baea21d67b942c9ef7')\n",
    "inflation_indexed_security=fred.get_series('DFII10')\n",
    "inflation_indexed_security"
   ]
  },
  {
   "cell_type": "code",
   "execution_count": 3,
   "id": "bce32241-db86-41f2-94a8-39e32f428d44",
   "metadata": {},
   "outputs": [],
   "source": [
    "inflation_indexed_security = pd.DataFrame(data=inflation_indexed_security, columns=['Value'])"
   ]
  },
  {
   "cell_type": "code",
   "execution_count": 4,
   "id": "1e349758-d3b9-41ed-bbff-ad5fcee889fa",
   "metadata": {},
   "outputs": [],
   "source": [
    "inflation_indexed_security = inflation_indexed_security.dropna()/100"
   ]
  },
  {
   "cell_type": "code",
   "execution_count": 5,
   "id": "43253329-18ff-4601-b438-2ea3c8a1c19e",
   "metadata": {},
   "outputs": [],
   "source": [
    "inflation_indexed_security.to_pickle(r'..\\02-Data\\07-Interest_rates\\05-10YearTreasuryInflationIndexedSecurity_percentage_2003-01-02_2021-07-22_daily_fred.pkl')"
   ]
  },
  {
   "cell_type": "code",
   "execution_count": null,
   "id": "cf587f15-b0ea-4aef-b587-4b02f208d3ea",
   "metadata": {},
   "outputs": [],
   "source": []
  }
 ],
 "metadata": {
  "kernelspec": {
   "display_name": "Python 3",
   "language": "python",
   "name": "python3"
  },
  "language_info": {
   "codemirror_mode": {
    "name": "ipython",
    "version": 3
   },
   "file_extension": ".py",
   "mimetype": "text/x-python",
   "name": "python",
   "nbconvert_exporter": "python",
   "pygments_lexer": "ipython3",
   "version": "3.8.10"
  }
 },
 "nbformat": 4,
 "nbformat_minor": 5
}
