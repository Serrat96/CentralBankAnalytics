{
 "cells": [
  {
   "cell_type": "code",
   "execution_count": 1,
   "id": "3a9648a9-1da0-4b9a-a083-6c89ecc59d09",
   "metadata": {},
   "outputs": [],
   "source": [
    "import os"
   ]
  },
  {
   "cell_type": "code",
   "execution_count": 2,
   "id": "967e4e63-69a3-43cd-a5a4-70c5d7c5c031",
   "metadata": {},
   "outputs": [],
   "source": [
    "start = r'C:\\Users\\serra\\REPOSITORIOS\\CentralBankAnalytics\\04-Backend\\01-Silver_analysis'\n",
    "\n",
    "final = r'C:\\Users\\serra\\REPOSITORIOS\\CentralBankAnalytics\\02-Data\\01-Silver_analysis\\silver_price_1791_2020_yearly_denvergold.csv'"
   ]
  },
  {
   "cell_type": "code",
   "execution_count": 4,
   "id": "a747aae4-25ac-4f3f-88b4-a5088cb5a27b",
   "metadata": {},
   "outputs": [],
   "source": [
    "relative_path = os.path.relpath(final, start)"
   ]
  },
  {
   "cell_type": "code",
   "execution_count": 5,
   "id": "fd105b8a-673f-4cd0-aa29-32474fbaebc1",
   "metadata": {},
   "outputs": [
    {
     "data": {
      "text/plain": [
       "'..\\\\..\\\\02-Data\\\\01-Silver_analysis\\\\silver_price_1791_2020_yearly_denvergold.csv'"
      ]
     },
     "execution_count": 5,
     "metadata": {},
     "output_type": "execute_result"
    }
   ],
   "source": [
    "relative_path"
   ]
  }
 ],
 "metadata": {
  "kernelspec": {
   "display_name": "Python 3",
   "language": "python",
   "name": "python3"
  },
  "language_info": {
   "codemirror_mode": {
    "name": "ipython",
    "version": 3
   },
   "file_extension": ".py",
   "mimetype": "text/x-python",
   "name": "python",
   "nbconvert_exporter": "python",
   "pygments_lexer": "ipython3",
   "version": "3.8.10"
  }
 },
 "nbformat": 4,
 "nbformat_minor": 5
}
